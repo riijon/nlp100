{
 "cells": [
  {
   "cell_type": "code",
   "execution_count": 17,
   "metadata": {
    "collapsed": false
   },
   "outputs": [
    {
     "data": {
      "text/plain": [
       "'tsssreed'"
      ]
     },
     "execution_count": 17,
     "metadata": {},
     "output_type": "execute_result"
    }
   ],
   "source": [
    "#00\n",
    "word00=\"stressed\"\n",
    "\"\".join(sorted(word00,reverse=True))"
   ]
  },
  {
   "cell_type": "code",
   "execution_count": 22,
   "metadata": {
    "collapsed": false
   },
   "outputs": [
    {
     "data": {
      "text/plain": [
       "'パトカー'"
      ]
     },
     "execution_count": 22,
     "metadata": {},
     "output_type": "execute_result"
    }
   ],
   "source": [
    "#01\n",
    "word01=\"パタトクカシーー\"\n",
    "\"\".join([word01[0],word01[2],word01[4],word01[6]])"
   ]
  },
  {
   "cell_type": "code",
   "execution_count": 23,
   "metadata": {
    "collapsed": false
   },
   "outputs": [
    {
     "data": {
      "text/plain": [
       "'パタトクカシーー'"
      ]
     },
     "execution_count": 23,
     "metadata": {},
     "output_type": "execute_result"
    }
   ],
   "source": [
    "#02\n",
    "patcar=\"パトカー\"\n",
    "taxi=\"タクシー\"\n",
    "\"\".join([patcar[0],taxi[0],patcar[1],taxi[1],patcar[2],taxi[2],patcar[3],taxi[3]])"
   ]
  },
  {
   "cell_type": "code",
   "execution_count": 31,
   "metadata": {
    "collapsed": false
   },
   "outputs": [
    {
     "data": {
      "text/plain": [
       "[3, 1, 4, 1, 6, 9, 2, 7, 5, 3, 5, 8, 9, 7, 9]"
      ]
     },
     "execution_count": 31,
     "metadata": {},
     "output_type": "execute_result"
    }
   ],
   "source": [
    "#03\n",
    "word03=\"Now I need a drink, alcoholic of course, after the heavy lectures involving quantum mechanics\"\n",
    "list(map(lambda x:len(x),word03.split(\" \")))"
   ]
  },
  {
   "cell_type": "code",
   "execution_count": 47,
   "metadata": {
    "collapsed": false
   },
   "outputs": [
    {
     "data": {
      "text/plain": [
       "{0: 'Hi',\n",
       " 1: 'H',\n",
       " 2: 'Li',\n",
       " 3: 'Be',\n",
       " 4: 'Bo',\n",
       " 5: 'C',\n",
       " 6: 'N',\n",
       " 7: 'O',\n",
       " 8: 'F',\n",
       " 9: 'N',\n",
       " 10: 'Na',\n",
       " 11: 'Mi',\n",
       " 12: 'Al',\n",
       " 13: 'Si',\n",
       " 14: 'Pe',\n",
       " 15: 'S',\n",
       " 16: 'C',\n",
       " 17: 'Ar',\n",
       " 18: 'Ki',\n",
       " 19: 'C'}"
      ]
     },
     "execution_count": 47,
     "metadata": {},
     "output_type": "execute_result"
    }
   ],
   "source": [
    "#04\n",
    "word04 = \"Hi He Lied Because Boron Could Not Oxidize Fluorine. New Nations Might Also Sign Peace Security Clause. Arthur King Can\"\n",
    "def science_cut(words,i):\n",
    "    li = [1,5,6,7,8,9,15,16,19]\n",
    "    word = words[i]\n",
    "    if i in li:\n",
    "        return word[:1]\n",
    "    else:\n",
    "        return word[:2]\n",
    "symbols = [science_cut(word04.split(\" \"),x) for x in range(len(word04.split(\" \")))]\n",
    "dict(zip(range(len(word04.split(\" \"))),symbols))"
   ]
  },
  {
   "cell_type": "code",
   "execution_count": 54,
   "metadata": {
    "collapsed": false
   },
   "outputs": [
    {
     "data": {
      "text/plain": [
       "['I ', ' a', 'am', 'm ', ' a', 'an', 'n ', ' N', 'NL', 'LP', 'Pe', 'er']"
      ]
     },
     "execution_count": 54,
     "metadata": {},
     "output_type": "execute_result"
    }
   ],
   "source": [
    "#05\n",
    "word05=\"I am an NLPer\"\n",
    "def bigram(words):\n",
    "    return  list(map(lambda x:words[x]+words[x+1],range(len(words)-1)))\n",
    "bigram(word05)"
   ]
  },
  {
   "cell_type": "code",
   "execution_count": 55,
   "metadata": {
    "collapsed": false
   },
   "outputs": [
    {
     "data": {
      "text/plain": [
       "['Iam', 'aman', 'anNLPer']"
      ]
     },
     "execution_count": 55,
     "metadata": {},
     "output_type": "execute_result"
    }
   ],
   "source": [
    "bigram(word05.split(\" \"))"
   ]
  },
  {
   "cell_type": "code",
   "execution_count": 62,
   "metadata": {
    "collapsed": false
   },
   "outputs": [],
   "source": [
    "#06\n",
    "word06_x=\"paraparaparadise\"\n",
    "word06_y=\"paragraph\"\n",
    "X=set(bigram(word06_x))\n",
    "Y=set(bigram(word06_y))"
   ]
  },
  {
   "cell_type": "code",
   "execution_count": 65,
   "metadata": {
    "collapsed": false
   },
   "outputs": [
    {
     "data": {
      "text/plain": [
       "{'ad', 'ag', 'ap', 'ar', 'di', 'gr', 'is', 'pa', 'ph', 'ra', 'se'}"
      ]
     },
     "execution_count": 65,
     "metadata": {},
     "output_type": "execute_result"
    }
   ],
   "source": [
    "X | Y"
   ]
  },
  {
   "cell_type": "code",
   "execution_count": 66,
   "metadata": {
    "collapsed": false
   },
   "outputs": [
    {
     "data": {
      "text/plain": [
       "{'ap', 'ar', 'pa', 'ra'}"
      ]
     },
     "execution_count": 66,
     "metadata": {},
     "output_type": "execute_result"
    }
   ],
   "source": [
    "X & Y"
   ]
  },
  {
   "cell_type": "code",
   "execution_count": 67,
   "metadata": {
    "collapsed": false
   },
   "outputs": [
    {
     "data": {
      "text/plain": [
       "{'ad', 'di', 'is', 'se'}"
      ]
     },
     "execution_count": 67,
     "metadata": {},
     "output_type": "execute_result"
    }
   ],
   "source": [
    "X - Y"
   ]
  },
  {
   "cell_type": "code",
   "execution_count": 68,
   "metadata": {
    "collapsed": false
   },
   "outputs": [
    {
     "data": {
      "text/plain": [
       "True"
      ]
     },
     "execution_count": 68,
     "metadata": {},
     "output_type": "execute_result"
    }
   ],
   "source": [
    "'se' in X"
   ]
  },
  {
   "cell_type": "code",
   "execution_count": 69,
   "metadata": {
    "collapsed": false
   },
   "outputs": [
    {
     "data": {
      "text/plain": [
       "False"
      ]
     },
     "execution_count": 69,
     "metadata": {},
     "output_type": "execute_result"
    }
   ],
   "source": [
    "'se' in Y"
   ]
  },
  {
   "cell_type": "code",
   "execution_count": 73,
   "metadata": {
    "collapsed": false
   },
   "outputs": [
    {
     "data": {
      "text/plain": [
       "'12時の気温は22.4'"
      ]
     },
     "execution_count": 73,
     "metadata": {},
     "output_type": "execute_result"
    }
   ],
   "source": [
    "#07\n",
    "def text_maker(x,y,z):\n",
    "    return str(x)+\"時の\"+str(y)+\"は\"+str(z)\n",
    "text_maker(12,\"気温\",22.4)"
   ]
  },
  {
   "cell_type": "code",
   "execution_count": 91,
   "metadata": {
    "collapsed": false
   },
   "outputs": [
    {
     "data": {
      "text/plain": [
       "'hogehoge'"
      ]
     },
     "execution_count": 91,
     "metadata": {},
     "output_type": "execute_result"
    }
   ],
   "source": [
    "#08\n",
    "def cipher(text):\n",
    "    fixed=\"\"\n",
    "    for x in text:\n",
    "        if x.islower():\n",
    "            fixed+=chr(219 - ord(x))\n",
    "        else:\n",
    "            fixed+=x\n",
    "    return fixed\n",
    "cipher(cipher(\"hogehoge\"))"
   ]
  },
  {
   "cell_type": "code",
   "execution_count": 111,
   "metadata": {
    "collapsed": false
   },
   "outputs": [
    {
     "data": {
      "text/plain": [
       "\"I cd'lnuot bvlieee that I culod atclluay uasendrntd what I was rneaidg : the ponnemahel peowr of the huamn mind .\""
      ]
     },
     "execution_count": 111,
     "metadata": {},
     "output_type": "execute_result"
    }
   ],
   "source": [
    "#09\n",
    "import random\n",
    "word09 = \"I couldn't believe that I could actually understand what I was reading : the phenomenal power of the human mind .\"\n",
    "def typoglycemia(text):\n",
    "    words=text.split(\" \")\n",
    "    new=[]\n",
    "    for w in words:\n",
    "        if len(w) > 4:\n",
    "            tmp=list(w[1:-1])\n",
    "            random.shuffle(tmp)\n",
    "            new.append(w[0] + \"\".join(tmp)+w[-1])\n",
    "        else:\n",
    "            new.append(w)\n",
    "    return \" \".join(new)\n",
    "typoglycemia(word09)"
   ]
  },
  {
   "cell_type": "code",
   "execution_count": null,
   "metadata": {
    "collapsed": true
   },
   "outputs": [],
   "source": []
  }
 ],
 "metadata": {
  "kernelspec": {
   "display_name": "Python 3",
   "language": "python",
   "name": "python3"
  },
  "language_info": {
   "codemirror_mode": {
    "name": "ipython",
    "version": 3
   },
   "file_extension": ".py",
   "mimetype": "text/x-python",
   "name": "python",
   "nbconvert_exporter": "python",
   "pygments_lexer": "ipython3",
   "version": "3.5.0"
  }
 },
 "nbformat": 4,
 "nbformat_minor": 1
}
