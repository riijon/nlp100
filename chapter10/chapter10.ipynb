{
 "cells": [
  {
   "cell_type": "markdown",
   "metadata": {},
   "source": [
    "# 第10章: ベクトル空間法 (II)\n",
    "\n",
    "第10章では，前章に引き続き単語ベクトルの学習に取り組む．"
   ]
  },
  {
   "cell_type": "code",
   "execution_count": 1,
   "metadata": {
    "collapsed": true
   },
   "outputs": [],
   "source": [
    "from gensim.models import Word2Vec"
   ]
  },
  {
   "cell_type": "markdown",
   "metadata": {},
   "source": [
    "# 90. word2vecによる学習\n",
    "81で作成したコーパスに対してword2vecを適用し，単語ベクトルを学習せよ．さらに，学習した単語ベクトルの形式を変換し，86-89のプログラムを動かせ．"
   ]
  },
  {
   "cell_type": "code",
   "execution_count": 2,
   "metadata": {
    "collapsed": false
   },
   "outputs": [],
   "source": [
    "# https://rare-technologies.com/word2vec-tutorial/\n",
    "with open('81.txt', 'r') as f:\n",
    "    corpus = [f.read().split()]\n",
    "model = Word2Vec(corpus, min_count=1)    "
   ]
  },
  {
   "cell_type": "code",
   "execution_count": 3,
   "metadata": {
    "collapsed": false,
    "scrolled": true
   },
   "outputs": [
    {
     "data": {
      "text/plain": [
       "array([ -4.55889851e-03,  -4.42450074e-03,   2.43518036e-03,\n",
       "        -4.17115539e-03,   1.25939795e-03,   3.59229208e-03,\n",
       "        -5.46790008e-03,   9.52292059e-04,  -4.90826555e-03,\n",
       "        -5.10424725e-04,  -4.70571639e-03,   2.95236008e-03,\n",
       "         4.31544287e-03,  -1.49737415e-03,   1.76240341e-03,\n",
       "        -3.58441815e-04,  -3.73578235e-03,  -2.61281827e-03,\n",
       "         1.86443620e-03,   1.79130584e-03,   3.97921773e-03,\n",
       "         1.86656835e-04,   4.24499344e-03,   2.68742302e-03,\n",
       "         3.98504781e-03,   8.98310798e-04,  -4.30787355e-03,\n",
       "         1.39969657e-03,  -1.74856593e-03,  -4.29119775e-03,\n",
       "         2.49110302e-03,  -2.22166814e-03,  -2.41870992e-03,\n",
       "         9.57286218e-04,  -3.39245798e-06,  -1.66968233e-03,\n",
       "         1.70896284e-03,   4.20635147e-03,   3.48822982e-03,\n",
       "        -1.23164675e-03,  -3.41445883e-03,   4.10517678e-03,\n",
       "         2.52087810e-03,  -1.68692775e-03,  -7.44735764e-04,\n",
       "         2.07334035e-03,  -4.81263327e-04,   1.40352419e-03,\n",
       "        -2.26356601e-03,   1.01463462e-03,   4.80103726e-03,\n",
       "         2.58361804e-03,  -3.86598799e-03,   7.78338115e-04,\n",
       "         4.50755330e-03,  -2.73164478e-03,  -1.26064720e-03,\n",
       "         2.06757127e-03,   1.89483794e-03,  -3.72922770e-03,\n",
       "        -6.99109980e-04,   5.24971692e-04,  -5.92450751e-03,\n",
       "         5.45013137e-03,  -2.20555416e-03,   2.37902394e-03,\n",
       "         3.93356709e-03,  -3.80360894e-03,   3.15400749e-03,\n",
       "        -1.38709147e-04,   5.28251473e-03,  -2.73215701e-03,\n",
       "        -1.34336809e-03,   1.96804455e-03,   4.73276339e-03,\n",
       "        -1.19823648e-03,  -5.26534952e-03,  -1.09286048e-03,\n",
       "        -2.85986462e-04,   1.00637204e-03,  -4.96233022e-03,\n",
       "         1.64145394e-03,   4.44072112e-03,  -2.84155225e-03,\n",
       "         4.63565579e-03,  -3.18023562e-03,   2.88098119e-03,\n",
       "        -2.75601563e-03,  -2.54214578e-03,  -3.43992095e-03,\n",
       "        -4.79569612e-03,  -2.75136787e-03,  -3.70882428e-03,\n",
       "         5.47050079e-03,  -2.96861562e-03,  -2.31126044e-03,\n",
       "        -3.21021723e-03,  -4.94184904e-03,   1.68163155e-03,\n",
       "         2.99383071e-04], dtype=float32)"
      ]
     },
     "execution_count": 3,
     "metadata": {},
     "output_type": "execute_result"
    }
   ],
   "source": [
    "# 86 ベクトル表示\n",
    "model['United_States']"
   ]
  },
  {
   "cell_type": "code",
   "execution_count": 4,
   "metadata": {
    "collapsed": false
   },
   "outputs": [
    {
     "data": {
      "text/plain": [
       "-0.044317797458117217"
      ]
     },
     "execution_count": 4,
     "metadata": {},
     "output_type": "execute_result"
    }
   ],
   "source": [
    "# 87 コサイン類似度 \n",
    "model.similarity(\"United_States\", \"U.S\")"
   ]
  },
  {
   "cell_type": "code",
   "execution_count": 5,
   "metadata": {
    "collapsed": false
   },
   "outputs": [
    {
     "data": {
      "text/plain": [
       "[('transparent', 0.4819882810115814),\n",
       " ('NASDAQ', 0.4261570870876312),\n",
       " ('entirety.', 0.424990177154541),\n",
       " ('caper', 0.4225158393383026),\n",
       " ('Itabashi', 0.4191665053367615),\n",
       " ('bit,', 0.41398900747299194),\n",
       " ('isomorphous', 0.41125673055648804),\n",
       " ('Vovousa', 0.4019022583961487),\n",
       " ('1983-1985', 0.39843958616256714),\n",
       " ('Berntsen', 0.39584070444107056)]"
      ]
     },
     "execution_count": 5,
     "metadata": {},
     "output_type": "execute_result"
    }
   ],
   "source": [
    "# 88 類似度 top10\n",
    "model.most_similar(positive=['England'], topn=10)"
   ]
  },
  {
   "cell_type": "code",
   "execution_count": 6,
   "metadata": {
    "collapsed": false
   },
   "outputs": [
    {
     "data": {
      "text/plain": [
       "[('ROM-based', 0.46713748574256897),\n",
       " ('Bertiniani\"', 0.4285348653793335),\n",
       " ('Grubs', 0.4275130033493042),\n",
       " ('kleinen', 0.42333662509918213),\n",
       " ('Plantagenet', 0.4016854763031006),\n",
       " ('Goupil', 0.39575374126434326),\n",
       " ('“forcibly', 0.38889238238334656),\n",
       " ('sexual', 0.38826602697372437),\n",
       " ('verciert', 0.3876068592071533),\n",
       " ('prewashed', 0.3871941864490509)]"
      ]
     },
     "execution_count": 6,
     "metadata": {},
     "output_type": "execute_result"
    }
   ],
   "source": [
    "# 89 アナロジー top10\n",
    "model.most_similar(positive=['Spain', 'Athens'], negative=['Madrid'], topn=10)"
   ]
  },
  {
   "cell_type": "markdown",
   "metadata": {},
   "source": [
    "# 91. アナロジーデータの準備\n",
    "単語アナロジーの評価データをダウンロードせよ．このデータ中で\": \"で始まる行はセクション名を表す．例えば，\": capital-common-countries\"という行は，\"capital-common-countries\"というセクションの開始を表している．ダウンロードした評価データの中で，\"family\"というセクションに含まれる評価事例を抜き出してファイルに保存せよ．"
   ]
  },
  {
   "cell_type": "code",
   "execution_count": 7,
   "metadata": {
    "collapsed": false
   },
   "outputs": [],
   "source": [
    "with open('questions-words.txt', 'r') as f:\n",
    "    sections = f.read().split(':')\n",
    "    for section in sections:\n",
    "        if 'family' in section.split('\\n')[0]:\n",
    "            family = \"\\n\".join(section.split('\\n')[1:])\n",
    "with open('family.txt', 'w') as f:\n",
    "    f.write(family)"
   ]
  },
  {
   "cell_type": "markdown",
   "metadata": {},
   "source": [
    "# 92. アナロジーデータへの適用\n",
    "91で作成した評価データの各事例に対して，vec(2列目の単語) - vec(1列目の単語) + vec(3列目の単語)を計算し，そのベクトルと類似度が最も高い単語と，その類似度を求めよ．求めた単語と類似度は，各事例の末尾に追記せよ．このプログラムを85で作成した単語ベクトル，90で作成した単語ベクトルに対して適用せよ．"
   ]
  },
  {
   "cell_type": "code",
   "execution_count": 8,
   "metadata": {
    "collapsed": false
   },
   "outputs": [
    {
     "data": {
      "text/plain": [
       "506"
      ]
     },
     "execution_count": 8,
     "metadata": {},
     "output_type": "execute_result"
    }
   ],
   "source": [
    "with open('family.txt', 'r') as f:\n",
    "    family = [x[:-1].split() for x in f.readlines()]\n",
    "len(family)"
   ]
  },
  {
   "cell_type": "code",
   "execution_count": 9,
   "metadata": {
    "collapsed": false
   },
   "outputs": [],
   "source": [
    "def check_contain(words):\n",
    "    for w in words:\n",
    "        if not w in model:\n",
    "            return False \n",
    "    return True"
   ]
  },
  {
   "cell_type": "code",
   "execution_count": 10,
   "metadata": {
    "collapsed": false,
    "scrolled": true
   },
   "outputs": [],
   "source": [
    "with open('92.txt', 'w') as f:\n",
    "    for line in family:\n",
    "        c1, c2, c3, c4 = line\n",
    "        nomatch = model.doesnt_match(line)\n",
    "        if check_contain(line):\n",
    "            w, p = model.most_similar(positive=[c2, c3], negative=[c1], topn=1)[0]\n",
    "            line = str(w) + \"\\t\" + str(p) + \"\\n\"\n",
    "        else:\n",
    "            line = \"NoMatch\\n\"\n",
    "        f.write(line)"
   ]
  },
  {
   "cell_type": "markdown",
   "metadata": {},
   "source": [
    "# 93. アナロジータスクの正解率の計算\n",
    "92で作ったデータを用い，各モデルのアナロジータスクの正解率を求めよ．"
   ]
  },
  {
   "cell_type": "code",
   "execution_count": 11,
   "metadata": {
    "collapsed": false,
    "scrolled": true
   },
   "outputs": [
    {
     "data": {
      "text/plain": [
       "0.0"
      ]
     },
     "execution_count": 11,
     "metadata": {},
     "output_type": "execute_result"
    }
   ],
   "source": [
    "count93 = 0\n",
    "with open('92.txt', 'r') as f:\n",
    "    for i, line in enumerate(f.readlines()):\n",
    "        w = line[:-1].split()[0]\n",
    "        ans_w = family[i][3]\n",
    "        if w != \"NoMatch\" and w == ans_w:\n",
    "            count93 += 1\n",
    "            print(\"match!!!!!\")\n",
    "count93 / len(family)"
   ]
  },
  {
   "cell_type": "markdown",
   "metadata": {},
   "source": [
    "# 94. WordSimilarity-353での類似度計算\n",
    "The WordSimilarity-353 Test Collectionの評価データを入力とし，1列目と2列目の単語の類似度を計算し，各行の末尾に類似度の値を追加するプログラムを作成せよ．このプログラムを85で作成した単語ベクトル，90で作成した単語ベクトルに対して適用せよ．"
   ]
  },
  {
   "cell_type": "code",
   "execution_count": 64,
   "metadata": {
    "collapsed": false
   },
   "outputs": [],
   "source": [
    "import numpy as np\n",
    "from sklearn.metrics.pairwise import cosine_similarity\n",
    "import pandas as pd\n",
    "class W2V:\n",
    "    def __init__(self):\n",
    "        with open('Xpca.csv', 'r') as f:\n",
    "            self.Xpca = np.array([np.array(line[:-1].split(','), dtype=np.float64) for line in f.readlines()])\n",
    "        with open('dictionary.txt', 'r') as f:\n",
    "            self.dictionary = np.array([x[:-1] for x in f.readlines()])\n",
    "\n",
    "    def vec(self, word):\n",
    "        dictionary = self.dictionary\n",
    "        i = np.where(dictionary == word)[0][0]\n",
    "        return self.Xpca[i].reshape(1, -1)\n",
    "\n",
    "    def get_word_cs(self, word1, word2):\n",
    "        return cosine_similarity(self.vec(word1), self.vec(word2))[0][0]\n",
    "    \n",
    "    def get_top10_w(self, word):\n",
    "        lst=[]\n",
    "        for i, w in enumerate(self.Xpca[:1000]):\n",
    "            cs = cosine_similarity(self.vec(word), w.reshape(1, -1))[0][0]\n",
    "            lst.append((self.dictionary[i], cs))\n",
    "        return pd.DataFrame(lst).sort_values(1, ascending=False).head(10)\n",
    "    \n",
    "    def get_top10_v(self, vec):\n",
    "        lst=[]\n",
    "        for i, w in enumerate(self.Xpca[:1000]):\n",
    "            cs = cosine_similarity(vec, w.reshape(1, -1))\n",
    "            lst.append((self.dictionary[i], cs[0][0]))\n",
    "        df = pd.DataFrame(lst)\n",
    "        return df.sort_values(1, ascending=False).head(10)"
   ]
  },
  {
   "cell_type": "code",
   "execution_count": 65,
   "metadata": {
    "collapsed": false
   },
   "outputs": [],
   "source": [
    "w2v = W2V()"
   ]
  },
  {
   "cell_type": "code",
   "execution_count": 66,
   "metadata": {
    "collapsed": false,
    "scrolled": true
   },
   "outputs": [
    {
     "data": {
      "text/plain": [
       "array([[  2.27285695e-02,  -1.59208592e-02,  -3.31550343e-02,\n",
       "          2.03010215e-02,  -9.41559790e-03,   7.97741673e-04,\n",
       "          1.55274177e-01,  -9.50570057e-02,   2.26153285e-03,\n",
       "          4.80850340e-03,  -2.58132911e-02,   6.13834541e-02,\n",
       "         -2.26287094e-02,   1.03193454e-02,  -3.02973896e-01,\n",
       "         -1.09481356e-01,  -1.45151164e-02,   1.25310122e-01,\n",
       "          1.40209178e-01,   3.19698204e-01,   9.56174735e-02,\n",
       "         -1.50355487e-01,   1.95894886e-02,  -3.03469660e-02,\n",
       "          1.01547830e-01,   1.60578003e-02,  -1.15604034e-01,\n",
       "         -3.25937177e-02,   5.78453428e-02,  -1.41559113e-01,\n",
       "         -1.00749227e-03,  -5.03765155e-03,   7.04721068e-02,\n",
       "          3.11861660e-02,   1.46851224e-02,   5.47500564e-02,\n",
       "         -3.73342286e-02,  -1.68402723e-01,  -1.00442080e-03,\n",
       "          7.21661017e-02,   4.57191734e-02,   1.70151228e-02,\n",
       "         -7.51159765e-03,  -4.42333082e-02,  -7.32333992e-02,\n",
       "         -1.27014543e-02,   1.49935530e-03,   1.13569212e-02,\n",
       "         -1.53635488e-02,  -2.58752420e-02,  -1.32937878e-02,\n",
       "          1.48707518e-02,  -2.28881129e-02,  -5.05896325e-03,\n",
       "          9.08269861e-03,  -6.43860512e-03,   8.74918301e-03,\n",
       "         -3.36150766e-02,  -5.34458781e-03,   2.08101003e-02,\n",
       "         -2.91415149e-02,   3.03755112e-02,   2.88838164e-02,\n",
       "         -7.83642486e-03,   9.03191157e-03,  -1.02318407e-02,\n",
       "          1.08252041e-02,   1.41007724e-02,  -2.53688441e-02,\n",
       "          6.60822226e-03,  -1.90879923e-02,  -2.19944480e-03,\n",
       "         -2.42191337e-02,   2.73510273e-02,  -5.67138369e-03,\n",
       "          4.83698470e-03,  -4.57932155e-03,  -1.35437816e-02,\n",
       "         -1.23758626e-02,  -4.90294657e-03,  -2.69940042e-02,\n",
       "          1.55779864e-02,   4.31717119e-03,  -1.00439080e-02,\n",
       "         -4.17445609e-03,   2.01905315e-02,  -5.63912883e-03,\n",
       "          3.23706122e-03,  -3.48991722e-03,   3.29599101e-03,\n",
       "         -1.73423785e-02,  -9.35473929e-04,   4.22042319e-16,\n",
       "         -2.54868334e-04,  -5.82433768e-03,  -2.05515878e-15,\n",
       "         -9.89741113e-03,   8.64363809e-03,   3.59876252e-03,\n",
       "         -2.70486656e-02,   1.29420384e-02,   1.60899886e-16,\n",
       "         -2.24995364e-03,  -2.20123355e-02,  -1.88026549e-02,\n",
       "          1.59603309e-15,  -3.82912496e-03,   6.28089892e-03,\n",
       "          2.84715571e-03,  -6.90890782e-03,   6.69527050e-03,\n",
       "         -4.89371052e-04,  -1.55912978e-03,   1.40075009e-03,\n",
       "          1.21127392e-02,   2.65911307e-03,  -4.93157611e-03,\n",
       "          1.04132390e-02,   3.14936602e-16,  -1.02793247e-02,\n",
       "          7.65974303e-03,  -3.55549818e-03,  -1.06871873e-02,\n",
       "         -1.62335469e-02,  -1.80481349e-03,   1.46846232e-02,\n",
       "         -2.85130966e-02,  -5.88117134e-03,   1.52022474e-02,\n",
       "         -1.43913038e-02,  -1.77650941e-02,  -7.34953116e-04,\n",
       "         -5.01156269e-03,   4.98496971e-03,  -7.58900223e-03,\n",
       "          1.68494401e-03,  -6.69747960e-03,   3.90187250e-03,\n",
       "          2.53861006e-03,   6.78525856e-03,  -1.47693975e-02,\n",
       "          5.22720686e-03,  -1.61611086e-02,   9.05956593e-03,\n",
       "          8.17063054e-03,  -1.80945608e-02,   6.59102481e-03,\n",
       "         -1.64056756e-02,  -9.23672428e-03,   4.48138845e-03,\n",
       "          3.99273438e-03,  -9.61432007e-03,  -7.32829847e-03,\n",
       "         -2.75238223e-03,   3.64345650e-03,  -6.10877068e-03,\n",
       "          5.45987322e-03,   6.20698868e-03,  -2.68457921e-03,\n",
       "         -8.61041290e-03,  -5.51743574e-04,  -9.12741365e-04,\n",
       "          1.43437679e-03,  -1.40112645e-03,   2.29733917e-03,\n",
       "         -8.32505660e-03,   3.25224466e-03,   3.57485868e-05,\n",
       "         -7.82482451e-03,   1.85976141e-03,  -9.61950430e-04,\n",
       "         -5.94522969e-03,  -2.49522788e-03,   4.72381771e-03,\n",
       "         -1.15599052e-03,  -1.55583118e-03,   2.70998389e-03,\n",
       "          6.35031935e-03,  -1.09403985e-03,   9.95850441e-04,\n",
       "          2.18696316e-03,   2.20010656e-03,  -4.19667932e-03,\n",
       "         -8.05951894e-04,  -2.45871583e-04,  -3.73076501e-03,\n",
       "         -1.42323679e-03,   4.54594056e-03,   9.68383332e-04,\n",
       "          6.39071581e-04,   3.48277682e-03,  -6.75722758e-04,\n",
       "          1.74711149e-03,   2.81374934e-03,  -4.96039019e-04,\n",
       "          5.57177718e-04,   1.49619938e-03,  -2.39861793e-03,\n",
       "         -3.22924696e-04,   3.13693438e-03,   2.47196327e-03,\n",
       "          3.49585156e-03,  -5.93580395e-04,   3.83803865e-04,\n",
       "          3.33650955e-04,   2.93643982e-03,   3.89203566e-03,\n",
       "          1.74308440e-03,  -1.89286910e-03,  -2.35267387e-03,\n",
       "          3.45891163e-03,   1.00095946e-03,  -2.19182535e-03,\n",
       "          1.34996721e-03,  -8.68026470e-06,  -2.05539643e-03,\n",
       "         -7.56308208e-05,  -2.79950881e-03,  -2.34641543e-03,\n",
       "          1.70816058e-03,   4.25706133e-04,  -7.24808548e-04,\n",
       "         -2.72859058e-04,   7.97610794e-04,  -5.37470645e-04,\n",
       "         -1.14131508e-03,   9.21087314e-06,  -4.52118155e-04,\n",
       "         -5.29046302e-05,  -2.15835880e-04,   1.60613804e-04,\n",
       "         -1.16950782e-04,   1.81950397e-04,  -1.25151988e-05,\n",
       "          1.11334899e-04,   1.47718027e-04,   2.73125100e-05,\n",
       "         -3.57105994e-06,  -3.76033006e-18,   2.41154974e-19,\n",
       "          4.87832680e-18,  -3.28784948e-18,  -6.40007952e-18,\n",
       "          6.22308503e-19,  -3.72255840e-18,  -9.60591257e-19,\n",
       "         -2.77894299e-18,   3.36540929e-18,  -1.67307193e-17,\n",
       "          4.05489447e-18,   1.91409421e-17,  -1.68801749e-17,\n",
       "          1.40650990e-17,   4.18017822e-18,  -3.19261085e-18,\n",
       "          5.25872248e-19,   1.34441128e-18,  -4.79431989e-18,\n",
       "          5.88433504e-18,  -5.57089272e-18,   7.54776703e-18,\n",
       "         -1.71302924e-17,  -3.48330673e-18,   2.38598561e-18,\n",
       "          7.50878071e-18,   1.11188478e-17,  -3.20836004e-18,\n",
       "         -1.34920856e-17,  -7.07734997e-18,   4.33776311e-18,\n",
       "          3.03833502e-18,  -5.71650538e-18,  -9.15401587e-19,\n",
       "         -4.91327580e-18,  -1.09054320e-17,  -6.68227764e-18,\n",
       "          3.67969172e-18,  -1.85990609e-17,   9.50551824e-18,\n",
       "          3.75004483e-18,  -1.70990724e-17,  -4.22276809e-18,\n",
       "          1.48178594e-17,   3.54011446e-18,  -1.66378336e-18,\n",
       "         -2.32121557e-18,   8.90605779e-18,   6.21621534e-18,\n",
       "          1.57428621e-18,  -1.28490345e-17,  -1.39408833e-17,\n",
       "         -3.80104631e-18,   8.28392219e-18,  -1.94979749e-19,\n",
       "          1.35188053e-17,  -1.35203519e-17,   1.32228731e-17,\n",
       "         -2.30478173e-18,   4.28184217e-18,  -1.83776311e-20]])"
      ]
     },
     "execution_count": 66,
     "metadata": {},
     "output_type": "execute_result"
    }
   ],
   "source": [
    "w2v.vec('Canada')"
   ]
  },
  {
   "cell_type": "code",
   "execution_count": 67,
   "metadata": {
    "collapsed": false
   },
   "outputs": [
    {
     "data": {
      "text/plain": [
       "0.018007739417290149"
      ]
     },
     "execution_count": 67,
     "metadata": {},
     "output_type": "execute_result"
    }
   ],
   "source": [
    "w2v.get_word_cs(\"United_States\", \"U.S\")"
   ]
  },
  {
   "cell_type": "code",
   "execution_count": 19,
   "metadata": {
    "collapsed": false,
    "scrolled": true
   },
   "outputs": [],
   "source": [
    "with open('combined.csv', 'r') as f:\n",
    "    combined = f.readlines()[1:]\n",
    "with open('94.csv', 'w') as f:\n",
    "     for line in combined:\n",
    "            w1, w2, p = line.split(',')\n",
    "            if w1 in w2v.dictionary and w2 in w2v.dictionary:\n",
    "                s85 = w2v.get_word_cs(w1, w2)\n",
    "            else:\n",
    "                s85 = 0\n",
    "            if check_contain([w1, w2]):\n",
    "                s90 = model.similarity(w1, w2)\n",
    "            else:\n",
    "                s90 = 0\n",
    "            l = line[:-1] + ',' + str(s85) + ',' + str(s90) + '\\n'\n",
    "            f.write(l)"
   ]
  },
  {
   "cell_type": "markdown",
   "metadata": {},
   "source": [
    "# 95. WordSimilarity-353での評価\n",
    "94で作ったデータを用い，各モデルが出力する類似度のランキングと，人間の類似度判定のランキングの間のスピアマン相関係数を計算せよ．"
   ]
  },
  {
   "cell_type": "code",
   "execution_count": 25,
   "metadata": {
    "collapsed": false
   },
   "outputs": [],
   "source": [
    "df94 = pd.read_csv(\"94.csv\", header=None)\n",
    "ws = df94[2]\n",
    "test85 = df94[3]\n",
    "test90 = df94[4]"
   ]
  },
  {
   "cell_type": "code",
   "execution_count": 26,
   "metadata": {
    "collapsed": false
   },
   "outputs": [
    {
     "data": {
      "text/plain": [
       "SpearmanrResult(correlation=0.022997915367060504, pvalue=0.66674761087856471)"
      ]
     },
     "execution_count": 26,
     "metadata": {},
     "output_type": "execute_result"
    }
   ],
   "source": [
    "from scipy.stats import spearmanr\n",
    "spearmanr(ws, test85)"
   ]
  },
  {
   "cell_type": "code",
   "execution_count": 27,
   "metadata": {
    "collapsed": false
   },
   "outputs": [
    {
     "data": {
      "text/plain": [
       "SpearmanrResult(correlation=-0.052020204404379926, pvalue=0.32977642815077535)"
      ]
     },
     "execution_count": 27,
     "metadata": {},
     "output_type": "execute_result"
    }
   ],
   "source": [
    "spearmanr(ws, test90)"
   ]
  },
  {
   "cell_type": "markdown",
   "metadata": {},
   "source": [
    "# 96. 国名に関するベクトルの抽出\n",
    "word2vecの学習結果から，国名に関するベクトルのみを抜き出せ．"
   ]
  },
  {
   "cell_type": "code",
   "execution_count": 70,
   "metadata": {
    "collapsed": false,
    "scrolled": true
   },
   "outputs": [],
   "source": [
    "with open('country.txt', 'r') as f:\n",
    "    country = [c[:-1] for c in f.readlines()]\n",
    "country_key = []\n",
    "country_val = []\n",
    "for c in country:\n",
    "    if c in w2v.dictionary:\n",
    "        country_key.append(c)\n",
    "        country_val.append(w2v.vec(c)[0])"
   ]
  },
  {
   "cell_type": "code",
   "execution_count": 71,
   "metadata": {
    "collapsed": false,
    "scrolled": true
   },
   "outputs": [
    {
     "data": {
      "text/plain": [
       "array([  2.27285695e-02,  -1.59208592e-02,  -3.31550343e-02,\n",
       "         2.03010215e-02,  -9.41559790e-03,   7.97741673e-04,\n",
       "         1.55274177e-01,  -9.50570057e-02,   2.26153285e-03,\n",
       "         4.80850340e-03,  -2.58132911e-02,   6.13834541e-02,\n",
       "        -2.26287094e-02,   1.03193454e-02,  -3.02973896e-01,\n",
       "        -1.09481356e-01,  -1.45151164e-02,   1.25310122e-01,\n",
       "         1.40209178e-01,   3.19698204e-01,   9.56174735e-02,\n",
       "        -1.50355487e-01,   1.95894886e-02,  -3.03469660e-02,\n",
       "         1.01547830e-01,   1.60578003e-02,  -1.15604034e-01,\n",
       "        -3.25937177e-02,   5.78453428e-02,  -1.41559113e-01,\n",
       "        -1.00749227e-03,  -5.03765155e-03,   7.04721068e-02,\n",
       "         3.11861660e-02,   1.46851224e-02,   5.47500564e-02,\n",
       "        -3.73342286e-02,  -1.68402723e-01,  -1.00442080e-03,\n",
       "         7.21661017e-02,   4.57191734e-02,   1.70151228e-02,\n",
       "        -7.51159765e-03,  -4.42333082e-02,  -7.32333992e-02,\n",
       "        -1.27014543e-02,   1.49935530e-03,   1.13569212e-02,\n",
       "        -1.53635488e-02,  -2.58752420e-02,  -1.32937878e-02,\n",
       "         1.48707518e-02,  -2.28881129e-02,  -5.05896325e-03,\n",
       "         9.08269861e-03,  -6.43860512e-03,   8.74918301e-03,\n",
       "        -3.36150766e-02,  -5.34458781e-03,   2.08101003e-02,\n",
       "        -2.91415149e-02,   3.03755112e-02,   2.88838164e-02,\n",
       "        -7.83642486e-03,   9.03191157e-03,  -1.02318407e-02,\n",
       "         1.08252041e-02,   1.41007724e-02,  -2.53688441e-02,\n",
       "         6.60822226e-03,  -1.90879923e-02,  -2.19944480e-03,\n",
       "        -2.42191337e-02,   2.73510273e-02,  -5.67138369e-03,\n",
       "         4.83698470e-03,  -4.57932155e-03,  -1.35437816e-02,\n",
       "        -1.23758626e-02,  -4.90294657e-03,  -2.69940042e-02,\n",
       "         1.55779864e-02,   4.31717119e-03,  -1.00439080e-02,\n",
       "        -4.17445609e-03,   2.01905315e-02,  -5.63912883e-03,\n",
       "         3.23706122e-03,  -3.48991722e-03,   3.29599101e-03,\n",
       "        -1.73423785e-02,  -9.35473929e-04,   4.22042319e-16,\n",
       "        -2.54868334e-04,  -5.82433768e-03,  -2.05515878e-15,\n",
       "        -9.89741113e-03,   8.64363809e-03,   3.59876252e-03,\n",
       "        -2.70486656e-02,   1.29420384e-02,   1.60899886e-16,\n",
       "        -2.24995364e-03,  -2.20123355e-02,  -1.88026549e-02,\n",
       "         1.59603309e-15,  -3.82912496e-03,   6.28089892e-03,\n",
       "         2.84715571e-03,  -6.90890782e-03,   6.69527050e-03,\n",
       "        -4.89371052e-04,  -1.55912978e-03,   1.40075009e-03,\n",
       "         1.21127392e-02,   2.65911307e-03,  -4.93157611e-03,\n",
       "         1.04132390e-02,   3.14936602e-16,  -1.02793247e-02,\n",
       "         7.65974303e-03,  -3.55549818e-03,  -1.06871873e-02,\n",
       "        -1.62335469e-02,  -1.80481349e-03,   1.46846232e-02,\n",
       "        -2.85130966e-02,  -5.88117134e-03,   1.52022474e-02,\n",
       "        -1.43913038e-02,  -1.77650941e-02,  -7.34953116e-04,\n",
       "        -5.01156269e-03,   4.98496971e-03,  -7.58900223e-03,\n",
       "         1.68494401e-03,  -6.69747960e-03,   3.90187250e-03,\n",
       "         2.53861006e-03,   6.78525856e-03,  -1.47693975e-02,\n",
       "         5.22720686e-03,  -1.61611086e-02,   9.05956593e-03,\n",
       "         8.17063054e-03,  -1.80945608e-02,   6.59102481e-03,\n",
       "        -1.64056756e-02,  -9.23672428e-03,   4.48138845e-03,\n",
       "         3.99273438e-03,  -9.61432007e-03,  -7.32829847e-03,\n",
       "        -2.75238223e-03,   3.64345650e-03,  -6.10877068e-03,\n",
       "         5.45987322e-03,   6.20698868e-03,  -2.68457921e-03,\n",
       "        -8.61041290e-03,  -5.51743574e-04,  -9.12741365e-04,\n",
       "         1.43437679e-03,  -1.40112645e-03,   2.29733917e-03,\n",
       "        -8.32505660e-03,   3.25224466e-03,   3.57485868e-05,\n",
       "        -7.82482451e-03,   1.85976141e-03,  -9.61950430e-04,\n",
       "        -5.94522969e-03,  -2.49522788e-03,   4.72381771e-03,\n",
       "        -1.15599052e-03,  -1.55583118e-03,   2.70998389e-03,\n",
       "         6.35031935e-03,  -1.09403985e-03,   9.95850441e-04,\n",
       "         2.18696316e-03,   2.20010656e-03,  -4.19667932e-03,\n",
       "        -8.05951894e-04,  -2.45871583e-04,  -3.73076501e-03,\n",
       "        -1.42323679e-03,   4.54594056e-03,   9.68383332e-04,\n",
       "         6.39071581e-04,   3.48277682e-03,  -6.75722758e-04,\n",
       "         1.74711149e-03,   2.81374934e-03,  -4.96039019e-04,\n",
       "         5.57177718e-04,   1.49619938e-03,  -2.39861793e-03,\n",
       "        -3.22924696e-04,   3.13693438e-03,   2.47196327e-03,\n",
       "         3.49585156e-03,  -5.93580395e-04,   3.83803865e-04,\n",
       "         3.33650955e-04,   2.93643982e-03,   3.89203566e-03,\n",
       "         1.74308440e-03,  -1.89286910e-03,  -2.35267387e-03,\n",
       "         3.45891163e-03,   1.00095946e-03,  -2.19182535e-03,\n",
       "         1.34996721e-03,  -8.68026470e-06,  -2.05539643e-03,\n",
       "        -7.56308208e-05,  -2.79950881e-03,  -2.34641543e-03,\n",
       "         1.70816058e-03,   4.25706133e-04,  -7.24808548e-04,\n",
       "        -2.72859058e-04,   7.97610794e-04,  -5.37470645e-04,\n",
       "        -1.14131508e-03,   9.21087314e-06,  -4.52118155e-04,\n",
       "        -5.29046302e-05,  -2.15835880e-04,   1.60613804e-04,\n",
       "        -1.16950782e-04,   1.81950397e-04,  -1.25151988e-05,\n",
       "         1.11334899e-04,   1.47718027e-04,   2.73125100e-05,\n",
       "        -3.57105994e-06,  -3.76033006e-18,   2.41154974e-19,\n",
       "         4.87832680e-18,  -3.28784948e-18,  -6.40007952e-18,\n",
       "         6.22308503e-19,  -3.72255840e-18,  -9.60591257e-19,\n",
       "        -2.77894299e-18,   3.36540929e-18,  -1.67307193e-17,\n",
       "         4.05489447e-18,   1.91409421e-17,  -1.68801749e-17,\n",
       "         1.40650990e-17,   4.18017822e-18,  -3.19261085e-18,\n",
       "         5.25872248e-19,   1.34441128e-18,  -4.79431989e-18,\n",
       "         5.88433504e-18,  -5.57089272e-18,   7.54776703e-18,\n",
       "        -1.71302924e-17,  -3.48330673e-18,   2.38598561e-18,\n",
       "         7.50878071e-18,   1.11188478e-17,  -3.20836004e-18,\n",
       "        -1.34920856e-17,  -7.07734997e-18,   4.33776311e-18,\n",
       "         3.03833502e-18,  -5.71650538e-18,  -9.15401587e-19,\n",
       "        -4.91327580e-18,  -1.09054320e-17,  -6.68227764e-18,\n",
       "         3.67969172e-18,  -1.85990609e-17,   9.50551824e-18,\n",
       "         3.75004483e-18,  -1.70990724e-17,  -4.22276809e-18,\n",
       "         1.48178594e-17,   3.54011446e-18,  -1.66378336e-18,\n",
       "        -2.32121557e-18,   8.90605779e-18,   6.21621534e-18,\n",
       "         1.57428621e-18,  -1.28490345e-17,  -1.39408833e-17,\n",
       "        -3.80104631e-18,   8.28392219e-18,  -1.94979749e-19,\n",
       "         1.35188053e-17,  -1.35203519e-17,   1.32228731e-17,\n",
       "        -2.30478173e-18,   4.28184217e-18,  -1.83776311e-20])"
      ]
     },
     "execution_count": 71,
     "metadata": {},
     "output_type": "execute_result"
    }
   ],
   "source": [
    "country_val[country_key.index('Canada')]"
   ]
  },
  {
   "cell_type": "markdown",
   "metadata": {},
   "source": [
    "# 97. k-meansクラスタリング\n",
    "96の単語ベクトルに対して，k-meansクラスタリングをクラスタ数$k=5$として実行せよ．"
   ]
  },
  {
   "cell_type": "code",
   "execution_count": 72,
   "metadata": {
    "collapsed": false
   },
   "outputs": [
    {
     "data": {
      "text/plain": [
       "array([0, 0, 0, 0, 0, 0, 0, 0, 0, 0, 0, 0, 0, 0, 0, 0, 0, 0, 0, 0, 0, 0, 0,\n",
       "       0, 2, 0, 0, 4, 0, 0, 0, 0, 0, 0, 0, 0, 0, 0, 0, 0, 0, 0, 4, 0, 0, 4,\n",
       "       0, 0, 0, 0, 0, 0, 0, 0, 0, 0, 0, 1, 0, 1, 0, 0, 0, 2, 0, 0, 0, 0, 0,\n",
       "       0, 0, 0, 0, 0, 0, 0, 0, 0, 0, 0, 0, 0, 0, 0, 0, 0, 0, 0, 0, 0, 0, 0,\n",
       "       0, 0, 0, 0, 0, 0, 0, 0, 0, 0, 0, 0, 0, 0, 0, 0, 0, 0, 0, 0, 0, 0, 0,\n",
       "       0, 0, 0, 0, 0, 0, 0, 0, 0, 3, 0, 0, 0, 2, 0, 0, 3, 0, 0, 0, 0, 0, 0,\n",
       "       0, 0, 0, 0, 0, 0, 0, 0, 0], dtype=int32)"
      ]
     },
     "execution_count": 72,
     "metadata": {},
     "output_type": "execute_result"
    }
   ],
   "source": [
    "from sklearn.cluster import KMeans\n",
    "kmeans = KMeans(n_clusters=5, random_state=0).fit(country_val)\n",
    "kmeans.labels_"
   ]
  },
  {
   "cell_type": "markdown",
   "metadata": {},
   "source": [
    "# 98. Ward法によるクラスタリング\n",
    "96の単語ベクトルに対して，Ward法による階層型クラスタリングを実行せよ．さらに，クラスタリング結果をデンドログラムとして可視化せよ．"
   ]
  },
  {
   "cell_type": "code",
   "execution_count": 93,
   "metadata": {
    "collapsed": false
   },
   "outputs": [
    {
     "data": {
      "image/png": "[encoded data removed]",
      "text/plain": [
       "<matplotlib.figure.Figure at 0x11621e860>"
      ]
     },
     "metadata": {},
     "output_type": "display_data"
    }
   ],
   "source": [
    "from matplotlib import pyplot as plt\n",
    "from scipy.cluster.hierarchy import dendrogram, linkage\n",
    "\n",
    "%matplotlib inline\n",
    "\n",
    "result = linkage(country_val, method='ward')\n",
    "dendrogram(result, truncate_mode='lastp', labels=country_key)\n",
    "plt.show()"
   ]
  },
  {
   "cell_type": "markdown",
   "metadata": {},
   "source": [
    "# 99. t-SNEによる可視化\n",
    "96の単語ベクトルに対して，ベクトル空間をt-SNEで可視化せよ．"
   ]
  },
  {
   "cell_type": "code",
   "execution_count": 96,
   "metadata": {
    "collapsed": false
   },
   "outputs": [
    {
     "data": {
      "image/png": "[encoded data removed]",
      "text/plain": [
       "<matplotlib.figure.Figure at 0x11637bfd0>"
      ]
     },
     "metadata": {},
     "output_type": "display_data"
    }
   ],
   "source": [
    "from sklearn.manifold import TSNE\n",
    "tsne = TSNE(n_components=2)\n",
    "X_tsne = tsne.fit_transform(country_val)\n",
    "plt.scatter(X_tsne[:, 0], X_tsne[:, 1])\n",
    "for i, w in enumerate(country_key):\n",
    "    plt.annotate(w, (X_tsne[i, 0], X_tsne[i, 1]))"
   ]
  },
  {
   "cell_type": "code",
   "execution_count": null,
   "metadata": {
    "collapsed": true
   },
   "outputs": [],
   "source": []
  }
 ],
 "metadata": {
  "kernelspec": {
   "display_name": "Python 3",
   "language": "python",
   "name": "python3"
  },
  "language_info": {
   "codemirror_mode": {
    "name": "ipython",
    "version": 3
   },
   "file_extension": ".py",
   "mimetype": "text/x-python",
   "name": "python",
   "nbconvert_exporter": "python",
   "pygments_lexer": "ipython3",
   "version": "3.5.0"
  }
 },
 "nbformat": 4,
 "nbformat_minor": 1
}
