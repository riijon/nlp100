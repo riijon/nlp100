{
 "cells": [
  {
   "cell_type": "markdown",
   "metadata": {},
   "source": [
    "# 第9章: ベクトル空間法 (I)\n",
    "\n",
    "enwiki-20150112-400-r10-105752.txt.bz2は，2015年1月12日時点の英語のWikipedia記事のうち，約400語以上で構成される記事の中から，ランダムに1/10サンプリングした105,752記事のテキストをbzip2形式で圧縮したものである．このテキストをコーパスとして，単語の意味を表すベクトル（分散表現）を学習したい．第9章の前半では，コーパスから作成した単語文脈共起行列に主成分分析を適用し，単語ベクトルを学習する過程を，いくつかの処理に分けて実装する．第9章の後半では，学習で得られた単語ベクトル（300次元）を用い，単語の類似度計算やアナロジー（類推）を行う．\n",
    "\n",
    "なお，問題83を素直に実装すると，大量（約7GB）の主記憶が必要になる． メモリが不足する場合は，処理を工夫するか，1/100サンプリングのコーパスenwiki-20150112-400-r100-10576.txt.bz2を用いよ．"
   ]
  },
  {
   "cell_type": "code",
   "execution_count": 1,
   "metadata": {
    "collapsed": false
   },
   "outputs": [],
   "source": [
    "import numpy as np"
   ]
  },
  {
   "cell_type": "markdown",
   "metadata": {},
   "source": [
    "# 80. コーパスの整形\n",
    "文を単語列に変換する最も単純な方法は，空白文字で単語に区切ることである． ただ，この方法では文末のピリオドや括弧などの記号が単語に含まれてしまう． そこで，コーパスの各行のテキストを空白文字でトークンのリストに分割した後，各トークンに以下の処理を施し，単語から記号を除去せよ．\n",
    "\n",
    "+ トークンの先頭と末尾に出現する次の文字を削除: .,!?;:()[]'\"\n",
    "+ 空文字列となったトークンは削除\n",
    "\n",
    "以上の処理を適用した後，トークンをスペースで連結してファイルに保存せよ．"
   ]
  },
  {
   "cell_type": "code",
   "execution_count": 2,
   "metadata": {
    "collapsed": false
   },
   "outputs": [],
   "source": [
    "# head -n28443 enwiki-20150112-400-r100-10576.txt > enwiki.txt\n",
    "with open('enwiki.txt', 'r') as f:\n",
    "    delete_words = \".,!?;:()[]'\" + '\"'\n",
    "    corpus = []\n",
    "    for line in f.readlines():\n",
    "        for token in line[:-1].split():\n",
    "            if token[0] in delete_words:\n",
    "                token = token[1:]\n",
    "            if len(token) == 0:\n",
    "                break\n",
    "            if token[-1] in delete_words:\n",
    "                token = token[:-1]\n",
    "            if token:\n",
    "                corpus.append(token)\n",
    "with open('corpus.txt', 'w') as f:\n",
    "    f.write(\" \".join(corpus))"
   ]
  },
  {
   "cell_type": "markdown",
   "metadata": {},
   "source": [
    "# 81. 複合語からなる国名への対処\n",
    "英語では，複数の語の連接が意味を成すことがある．例えば，アメリカ合衆国は\"United States\"，イギリスは\"United Kingdom\"と表現されるが，\"United\"や\"States\"，\"Kingdom\"という単語だけでは，指し示している概念・実体が曖昧である．そこで，コーパス中に含まれる複合語を認識し，複合語を1語として扱うことで，複合語の意味を推定したい．しかしながら，複合語を正確に認定するのは大変むずかしいので，ここでは複合語からなる国名を認定したい．\n",
    "\n",
    "インターネット上から国名リストを各自で入手し，80のコーパス中に出現する複合語の国名に関して，スペースをアンダーバーに置換せよ．例えば，\"United States\"は\"United_States\"，\"Isle of Man\"は\"Isle_of_Man\"になるはずである．"
   ]
  },
  {
   "cell_type": "code",
   "execution_count": 3,
   "metadata": {
    "collapsed": false
   },
   "outputs": [],
   "source": [
    "# http://www.projectvisa.com/fullcountrylist.asp\n",
    "with open('country.txt', 'r') as f:\n",
    "    countries = [x[:-1] for x in f.readlines() if \" \" in x]\n",
    "\n",
    "with open('corpus.txt', 'r') as f:\n",
    "    corpus = f.read()[:-1]"
   ]
  },
  {
   "cell_type": "code",
   "execution_count": 4,
   "metadata": {
    "collapsed": false,
    "scrolled": true
   },
   "outputs": [],
   "source": [
    "for c in countries:\n",
    "    corpus = corpus.replace(c, c.replace(\" \", \"_\"))"
   ]
  },
  {
   "cell_type": "code",
   "execution_count": 5,
   "metadata": {
    "collapsed": false
   },
   "outputs": [],
   "source": [
    "corpus_list = corpus.split(\" \")\n",
    "dictionary = np.array(list(set(corpus_list)))\n",
    "T = len(corpus_list)"
   ]
  },
  {
   "cell_type": "code",
   "execution_count": 41,
   "metadata": {
    "collapsed": false
   },
   "outputs": [],
   "source": [
    "with open('dictionary.txt', 'w') as f:\n",
    "    for d in dictionary:\n",
    "        f.write(d + '\\n')"
   ]
  },
  {
   "cell_type": "markdown",
   "metadata": {},
   "source": [
    "# 82. 文脈の抽出\n",
    "81で作成したコーパス中に出現するすべての単語$t$に関して，単語$t$と文脈語$c$のペアをタブ区切り形式ですべて書き出せ．ただし，文脈語の定義は次の通りとする．\n",
    "\n",
    "+ ある単語$t$の前後$d$単語を文脈語$c$として抽出する（ただし，文脈語に単語$t$そのものは含まない）\n",
    "+ 単語$t$を選ぶ度に，文脈幅$d$は$\\{1,2,3,4,5\\}$の範囲でランダムに決める．"
   ]
  },
  {
   "cell_type": "code",
   "execution_count": 6,
   "metadata": {
    "collapsed": false
   },
   "outputs": [],
   "source": [
    "def get_d():\n",
    "    d = np.random.randint(-5, 5)\n",
    "    if d == 0:\n",
    "        d = get_d()\n",
    "    return d\n",
    "\n",
    "with open(\"82.txt\", \"w\") as f:\n",
    "    for i, t in enumerate(corpus_list):\n",
    "        d = get_d() \n",
    "        if (i + d >= 0) and  (i + d < T):\n",
    "            c = corpus_list[i + d]\n",
    "            if c != t:\n",
    "                line = t + \"\\t\" + c + \"\\n\"\n",
    "                f.write(line)"
   ]
  },
  {
   "cell_type": "markdown",
   "metadata": {},
   "source": [
    "# 83. 単語／文脈の頻度の計測\n",
    "82の出力を利用し，以下の出現分布，および定数を求めよ．\n",
    "\n",
    "+ $f(t,c)$: 単語$t$と文脈語$c$の共起回数\n",
    "+ $f(t,∗)$: 単語$t$の出現回数\n",
    "+ $f(∗,c)$: 文脈語$c$の出現回数\n",
    "+ $N$: 単語と文脈語のペアの総出現回数"
   ]
  },
  {
   "cell_type": "code",
   "execution_count": 7,
   "metadata": {
    "collapsed": false
   },
   "outputs": [],
   "source": [
    "import pandas as pd\n",
    "tc = pd.read_csv(\"82.txt\", sep=\"\\t\", header=None, names=[\"t\", \"c\"])\n",
    "tc = tc[tc.t != tc.c]"
   ]
  },
  {
   "cell_type": "code",
   "execution_count": 8,
   "metadata": {
    "collapsed": false
   },
   "outputs": [
    {
     "data": {
      "text/plain": [
       "1283887"
      ]
     },
     "execution_count": 8,
     "metadata": {},
     "output_type": "execute_result"
    }
   ],
   "source": [
    "N = len(tc.index)\n",
    "N"
   ]
  },
  {
   "cell_type": "code",
   "execution_count": 9,
   "metadata": {
    "collapsed": false
   },
   "outputs": [
    {
     "data": {
      "text/html": [
       "<div>\n",
       "<table border=\"1\" class=\"dataframe\">\n",
       "  <thead>\n",
       "    <tr style=\"text-align: right;\">\n",
       "      <th></th>\n",
       "      <th>t</th>\n",
       "      <th>c</th>\n",
       "    </tr>\n",
       "  </thead>\n",
       "  <tbody>\n",
       "    <tr>\n",
       "      <th>0</th>\n",
       "      <td>Anarchism</td>\n",
       "      <td>is</td>\n",
       "    </tr>\n",
       "    <tr>\n",
       "      <th>1</th>\n",
       "      <td>is</td>\n",
       "      <td>philosophy</td>\n",
       "    </tr>\n",
       "    <tr>\n",
       "      <th>2</th>\n",
       "      <td>political</td>\n",
       "      <td>that</td>\n",
       "    </tr>\n",
       "    <tr>\n",
       "      <th>3</th>\n",
       "      <td>philosophy</td>\n",
       "      <td>stateless</td>\n",
       "    </tr>\n",
       "    <tr>\n",
       "      <th>4</th>\n",
       "      <td>that</td>\n",
       "      <td>philosophy</td>\n",
       "    </tr>\n",
       "  </tbody>\n",
       "</table>\n",
       "</div>"
      ],
      "text/plain": [
       "            t           c\n",
       "0   Anarchism          is\n",
       "1          is  philosophy\n",
       "2   political        that\n",
       "3  philosophy   stateless\n",
       "4        that  philosophy"
      ]
     },
     "execution_count": 9,
     "metadata": {},
     "output_type": "execute_result"
    }
   ],
   "source": [
    "tc.head()"
   ]
  },
  {
   "cell_type": "code",
   "execution_count": 10,
   "metadata": {
    "collapsed": false,
    "scrolled": true
   },
   "outputs": [],
   "source": [
    "f_t = tc.groupby('t').count()\n",
    "f_c = tc.groupby('c').count()\n",
    "tc['count'] = tc['t']\n",
    "f_tc = tc.groupby(list(\"tc\")).count()"
   ]
  },
  {
   "cell_type": "code",
   "execution_count": 11,
   "metadata": {
    "collapsed": false
   },
   "outputs": [
    {
     "data": {
      "text/plain": [
       "c    24822\n",
       "Name: a, dtype: int64"
      ]
     },
     "execution_count": 11,
     "metadata": {},
     "output_type": "execute_result"
    }
   ],
   "source": [
    "f_t.ix['a']"
   ]
  },
  {
   "cell_type": "code",
   "execution_count": 12,
   "metadata": {
    "collapsed": false
   },
   "outputs": [
    {
     "data": {
      "text/plain": [
       "t    24732\n",
       "Name: a, dtype: int64"
      ]
     },
     "execution_count": 12,
     "metadata": {},
     "output_type": "execute_result"
    }
   ],
   "source": [
    "f_c.ix['a']"
   ]
  },
  {
   "cell_type": "code",
   "execution_count": 13,
   "metadata": {
    "collapsed": false
   },
   "outputs": [
    {
     "data": {
      "text/plain": [
       "211"
      ]
     },
     "execution_count": 13,
     "metadata": {},
     "output_type": "execute_result"
    }
   ],
   "source": [
    "f_tc.ix[('a', 'that')][0]"
   ]
  },
  {
   "cell_type": "markdown",
   "metadata": {},
   "source": [
    "# 84. 単語文脈行列の作成\n",
    "83の出力を利用し，単語文脈行列$X$を作成せよ．ただし，行列$X$の各要素$X_{tc}$は次のように定義する．\n",
    "\n",
    "+ $f(t,c)≥10$ならば，$X_{tc}=PPMI(t,c)=max\\{log \\frac{N×f(t,c)}{f(t,∗)×f(∗,c)},0\\}$\n",
    "+ $f(t,c)<10$ならば，$X_{tc}=0$\n",
    "\n",
    "ここで，$PPMI(t,c)$はPositive Pointwise Mutual Information（正の相互情報量）と呼ばれる統計量である．\n",
    "なお，行列$X$の行数・列数は数百万オーダとなり，行列のすべての要素を主記憶上に載せることは無理なので注意すること．幸い，行列$X$のほとんどの要素は$0$になるので，非$0$の要素だけを書き出せばよい．"
   ]
  },
  {
   "cell_type": "code",
   "execution_count": 14,
   "metadata": {
    "collapsed": false
   },
   "outputs": [
    {
     "data": {
      "text/html": [
       "<div>\n",
       "<table border=\"1\" class=\"dataframe\">\n",
       "  <thead>\n",
       "    <tr style=\"text-align: right;\">\n",
       "      <th></th>\n",
       "      <th></th>\n",
       "      <th>count</th>\n",
       "    </tr>\n",
       "    <tr>\n",
       "      <th>t</th>\n",
       "      <th>c</th>\n",
       "      <th></th>\n",
       "    </tr>\n",
       "  </thead>\n",
       "  <tbody>\n",
       "    <tr>\n",
       "      <th>&amp;</th>\n",
       "      <th>the</th>\n",
       "      <td>16</td>\n",
       "    </tr>\n",
       "    <tr>\n",
       "      <th rowspan=\"4\" valign=\"top\">1</th>\n",
       "      <th>and</th>\n",
       "      <td>12</td>\n",
       "    </tr>\n",
       "    <tr>\n",
       "      <th>is</th>\n",
       "      <td>10</td>\n",
       "    </tr>\n",
       "    <tr>\n",
       "      <th>of</th>\n",
       "      <td>11</td>\n",
       "    </tr>\n",
       "    <tr>\n",
       "      <th>on</th>\n",
       "      <td>17</td>\n",
       "    </tr>\n",
       "  </tbody>\n",
       "</table>\n",
       "</div>"
      ],
      "text/plain": [
       "       count\n",
       "t c         \n",
       "& the     16\n",
       "1 and     12\n",
       "  is      10\n",
       "  of      11\n",
       "  on      17"
      ]
     },
     "execution_count": 14,
     "metadata": {},
     "output_type": "execute_result"
    }
   ],
   "source": [
    "f_tc[f_tc['count'] >= 10].head()"
   ]
  },
  {
   "cell_type": "code",
   "execution_count": 15,
   "metadata": {
    "collapsed": false
   },
   "outputs": [
    {
     "data": {
      "text/plain": [
       "8652"
      ]
     },
     "execution_count": 15,
     "metadata": {},
     "output_type": "execute_result"
    }
   ],
   "source": [
    "len(f_tc[f_tc['count'] >= 10])"
   ]
  },
  {
   "cell_type": "code",
   "execution_count": 16,
   "metadata": {
    "collapsed": false
   },
   "outputs": [],
   "source": [
    "from scipy import sparse\n",
    "from math import log\n",
    "W = len(dictionary)\n",
    "X = sparse.lil_matrix((W, W))"
   ]
  },
  {
   "cell_type": "code",
   "execution_count": 17,
   "metadata": {
    "collapsed": false
   },
   "outputs": [
    {
     "data": {
      "text/plain": [
       "'spanning'"
      ]
     },
     "execution_count": 17,
     "metadata": {},
     "output_type": "execute_result"
    }
   ],
   "source": [
    "dictionary[100]"
   ]
  },
  {
   "cell_type": "code",
   "execution_count": 18,
   "metadata": {
    "collapsed": false
   },
   "outputs": [
    {
     "data": {
      "text/plain": [
       "57069"
      ]
     },
     "execution_count": 18,
     "metadata": {},
     "output_type": "execute_result"
    }
   ],
   "source": [
    "np.where(dictionary == 'is')[0][0]"
   ]
  },
  {
   "cell_type": "code",
   "execution_count": 19,
   "metadata": {
    "collapsed": false
   },
   "outputs": [
    {
     "data": {
      "text/plain": [
       "'Punjab'"
      ]
     },
     "execution_count": 19,
     "metadata": {},
     "output_type": "execute_result"
    }
   ],
   "source": [
    "dictionary[26197]"
   ]
  },
  {
   "cell_type": "code",
   "execution_count": 20,
   "metadata": {
    "collapsed": false
   },
   "outputs": [
    {
     "data": {
      "text/html": [
       "<div>\n",
       "<table border=\"1\" class=\"dataframe\">\n",
       "  <thead>\n",
       "    <tr style=\"text-align: right;\">\n",
       "      <th></th>\n",
       "      <th>t</th>\n",
       "      <th>c</th>\n",
       "      <th>count</th>\n",
       "    </tr>\n",
       "  </thead>\n",
       "  <tbody>\n",
       "    <tr>\n",
       "      <th>0</th>\n",
       "      <td>&amp;</td>\n",
       "      <td>the</td>\n",
       "      <td>16</td>\n",
       "    </tr>\n",
       "    <tr>\n",
       "      <th>1</th>\n",
       "      <td>1</td>\n",
       "      <td>and</td>\n",
       "      <td>12</td>\n",
       "    </tr>\n",
       "    <tr>\n",
       "      <th>2</th>\n",
       "      <td>1</td>\n",
       "      <td>is</td>\n",
       "      <td>10</td>\n",
       "    </tr>\n",
       "    <tr>\n",
       "      <th>3</th>\n",
       "      <td>1</td>\n",
       "      <td>of</td>\n",
       "      <td>11</td>\n",
       "    </tr>\n",
       "    <tr>\n",
       "      <th>4</th>\n",
       "      <td>1</td>\n",
       "      <td>on</td>\n",
       "      <td>17</td>\n",
       "    </tr>\n",
       "  </tbody>\n",
       "</table>\n",
       "</div>"
      ],
      "text/plain": [
       "   t    c  count\n",
       "0  &  the     16\n",
       "1  1  and     12\n",
       "2  1   is     10\n",
       "3  1   of     11\n",
       "4  1   on     17"
      ]
     },
     "execution_count": 20,
     "metadata": {},
     "output_type": "execute_result"
    }
   ],
   "source": [
    "X_df = f_tc[f_tc['count'] >= 10].reset_index()\n",
    "X_df.head()"
   ]
  },
  {
   "cell_type": "code",
   "execution_count": 21,
   "metadata": {
    "collapsed": false
   },
   "outputs": [],
   "source": [
    "f_t = f_t.reset_index()\n",
    "f_t.columns = [['t', 'ft']]"
   ]
  },
  {
   "cell_type": "code",
   "execution_count": 22,
   "metadata": {
    "collapsed": true
   },
   "outputs": [],
   "source": [
    "f_c = f_c.reset_index()\n",
    "f_c.columns = [['c', 'fc']]"
   ]
  },
  {
   "cell_type": "code",
   "execution_count": 23,
   "metadata": {
    "collapsed": false
   },
   "outputs": [
    {
     "data": {
      "text/html": [
       "<div>\n",
       "<table border=\"1\" class=\"dataframe\">\n",
       "  <thead>\n",
       "    <tr style=\"text-align: right;\">\n",
       "      <th></th>\n",
       "      <th>t</th>\n",
       "      <th>c</th>\n",
       "      <th>count</th>\n",
       "      <th>ft</th>\n",
       "      <th>fc</th>\n",
       "    </tr>\n",
       "  </thead>\n",
       "  <tbody>\n",
       "    <tr>\n",
       "      <th>0</th>\n",
       "      <td>&amp;</td>\n",
       "      <td>the</td>\n",
       "      <td>16</td>\n",
       "      <td>228</td>\n",
       "      <td>78589</td>\n",
       "    </tr>\n",
       "    <tr>\n",
       "      <th>1</th>\n",
       "      <td>1</td>\n",
       "      <td>the</td>\n",
       "      <td>14</td>\n",
       "      <td>435</td>\n",
       "      <td>78589</td>\n",
       "    </tr>\n",
       "    <tr>\n",
       "      <th>2</th>\n",
       "      <td>10</td>\n",
       "      <td>the</td>\n",
       "      <td>12</td>\n",
       "      <td>273</td>\n",
       "      <td>78589</td>\n",
       "    </tr>\n",
       "    <tr>\n",
       "      <th>3</th>\n",
       "      <td>15</td>\n",
       "      <td>the</td>\n",
       "      <td>12</td>\n",
       "      <td>204</td>\n",
       "      <td>78589</td>\n",
       "    </tr>\n",
       "    <tr>\n",
       "      <th>4</th>\n",
       "      <td>18</td>\n",
       "      <td>the</td>\n",
       "      <td>87</td>\n",
       "      <td>1521</td>\n",
       "      <td>78589</td>\n",
       "    </tr>\n",
       "  </tbody>\n",
       "</table>\n",
       "</div>"
      ],
      "text/plain": [
       "    t    c  count    ft     fc\n",
       "0   &  the     16   228  78589\n",
       "1   1  the     14   435  78589\n",
       "2  10  the     12   273  78589\n",
       "3  15  the     12   204  78589\n",
       "4  18  the     87  1521  78589"
      ]
     },
     "execution_count": 23,
     "metadata": {},
     "output_type": "execute_result"
    }
   ],
   "source": [
    "X_df = pd.merge(X_df, f_t, on='t')\n",
    "X_df = pd.merge(X_df, f_c, on='c')\n",
    "X_df.head()"
   ]
  },
  {
   "cell_type": "code",
   "execution_count": 24,
   "metadata": {
    "collapsed": false
   },
   "outputs": [],
   "source": [
    "X_df['ppmi1'] = (N * X_df['count']) / (X_df['ft'] * X_df['fc'])"
   ]
  },
  {
   "cell_type": "code",
   "execution_count": 25,
   "metadata": {
    "collapsed": false
   },
   "outputs": [
    {
     "data": {
      "text/html": [
       "<div>\n",
       "<table border=\"1\" class=\"dataframe\">\n",
       "  <thead>\n",
       "    <tr style=\"text-align: right;\">\n",
       "      <th></th>\n",
       "      <th>t</th>\n",
       "      <th>c</th>\n",
       "      <th>count</th>\n",
       "      <th>ft</th>\n",
       "      <th>fc</th>\n",
       "      <th>ppmi1</th>\n",
       "    </tr>\n",
       "  </thead>\n",
       "  <tbody>\n",
       "    <tr>\n",
       "      <th>0</th>\n",
       "      <td>&amp;</td>\n",
       "      <td>the</td>\n",
       "      <td>16</td>\n",
       "      <td>228</td>\n",
       "      <td>78589</td>\n",
       "      <td>1.146437</td>\n",
       "    </tr>\n",
       "    <tr>\n",
       "      <th>1</th>\n",
       "      <td>1</td>\n",
       "      <td>the</td>\n",
       "      <td>14</td>\n",
       "      <td>435</td>\n",
       "      <td>78589</td>\n",
       "      <td>0.525780</td>\n",
       "    </tr>\n",
       "    <tr>\n",
       "      <th>2</th>\n",
       "      <td>10</td>\n",
       "      <td>the</td>\n",
       "      <td>12</td>\n",
       "      <td>273</td>\n",
       "      <td>78589</td>\n",
       "      <td>0.718098</td>\n",
       "    </tr>\n",
       "    <tr>\n",
       "      <th>3</th>\n",
       "      <td>15</td>\n",
       "      <td>the</td>\n",
       "      <td>12</td>\n",
       "      <td>204</td>\n",
       "      <td>78589</td>\n",
       "      <td>0.960984</td>\n",
       "    </tr>\n",
       "    <tr>\n",
       "      <th>4</th>\n",
       "      <td>18</td>\n",
       "      <td>the</td>\n",
       "      <td>87</td>\n",
       "      <td>1521</td>\n",
       "      <td>78589</td>\n",
       "      <td>0.934448</td>\n",
       "    </tr>\n",
       "  </tbody>\n",
       "</table>\n",
       "</div>"
      ],
      "text/plain": [
       "    t    c  count    ft     fc     ppmi1\n",
       "0   &  the     16   228  78589  1.146437\n",
       "1   1  the     14   435  78589  0.525780\n",
       "2  10  the     12   273  78589  0.718098\n",
       "3  15  the     12   204  78589  0.960984\n",
       "4  18  the     87  1521  78589  0.934448"
      ]
     },
     "execution_count": 25,
     "metadata": {},
     "output_type": "execute_result"
    }
   ],
   "source": [
    "X_df.head()"
   ]
  },
  {
   "cell_type": "code",
   "execution_count": 26,
   "metadata": {
    "collapsed": false
   },
   "outputs": [
    {
     "data": {
      "text/plain": [
       "6509"
      ]
     },
     "execution_count": 26,
     "metadata": {},
     "output_type": "execute_result"
    }
   ],
   "source": [
    "len(X_df[X_df['ppmi1'] > 1])"
   ]
  },
  {
   "cell_type": "code",
   "execution_count": 27,
   "metadata": {
    "collapsed": false
   },
   "outputs": [],
   "source": [
    "with open('X.txt', 'w') as f:\n",
    "    line = \"t_i,c_i,ppmi\\n\"\n",
    "    f.write(line)\n",
    "    for row in X_df[X_df['ppmi1'] > 1].iterrows():\n",
    "        t = row[1]['t']\n",
    "        c = row[1]['c']\n",
    "        t_i = np.where(dictionary == t)[0][0]\n",
    "        c_i = np.where(dictionary == c)[0][0]\n",
    "        ppmi = log(row[1]['ppmi1'])\n",
    "        line = str(t_i) + \",\" + str(c_i) + \",\" + str(ppmi) + \"\\n\"\n",
    "        f.write(line)"
   ]
  },
  {
   "cell_type": "code",
   "execution_count": 28,
   "metadata": {
    "collapsed": false
   },
   "outputs": [],
   "source": [
    "X_csv = pd.read_csv('X.txt')\n",
    "for row in X_csv.iterrows():\n",
    "    X[row[1]['t_i'], row[1]['c_i']] = row[1]['ppmi']"
   ]
  },
  {
   "cell_type": "markdown",
   "metadata": {},
   "source": [
    "# 85. 主成分分析による次元圧縮\n",
    "84で得られた単語文脈行列に対して，主成分分析を適用し，単語の意味ベクトルを300次元に圧縮せよ．"
   ]
  },
  {
   "cell_type": "code",
   "execution_count": 29,
   "metadata": {
    "collapsed": false
   },
   "outputs": [],
   "source": [
    "# https://stackoverflow.com/questions/33603787/performing-pca-on-large-sparse-matrix-by-using-sklearn\n",
    "from sklearn.decomposition import TruncatedSVD\n",
    "clf = TruncatedSVD(300)\n",
    "Xpca = clf.fit_transform(X)"
   ]
  },
  {
   "cell_type": "code",
   "execution_count": 30,
   "metadata": {
    "collapsed": false,
    "scrolled": true
   },
   "outputs": [],
   "source": [
    "with open('Xpca.csv', 'w') as f:\n",
    "    for l in Xpca:\n",
    "        f.write(','.join([str(x) for x in l]) + '\\n')"
   ]
  },
  {
   "cell_type": "markdown",
   "metadata": {},
   "source": [
    "# 86. 単語ベクトルの表示\n",
    "85で得た単語の意味ベクトルを読み込み，\"United States\"のベクトルを表示せよ．ただし，\"United States\"は内部的には\"United_States\"と表現されていることに注意せよ．"
   ]
  },
  {
   "cell_type": "code",
   "execution_count": 31,
   "metadata": {
    "collapsed": true
   },
   "outputs": [],
   "source": [
    "def vec(word):\n",
    "    i = np.where(dictionary == word)[0][0]\n",
    "    return Xpca[i].reshape(1, -1)"
   ]
  },
  {
   "cell_type": "code",
   "execution_count": 32,
   "metadata": {
    "collapsed": false,
    "scrolled": true
   },
   "outputs": [
    {
     "data": {
      "text/plain": [
       "array([[  6.32938283e-01,  -6.45292654e-01,  -9.04935904e-01,\n",
       "          1.01124132e-01,  -1.07691932e-02,   7.49554064e-02,\n",
       "          2.94165872e+00,  -1.19563705e+00,   1.12222834e+00,\n",
       "         -2.87189609e-01,  -5.67882586e-02,   1.63305881e+00,\n",
       "          3.40468329e+00,   7.15544361e-01,  -4.78274548e-01,\n",
       "          1.48634771e+00,  -1.28069888e+00,  -9.64026503e-01,\n",
       "         -1.55520316e+00,   5.18257039e-01,  -4.79774766e-01,\n",
       "         -9.56146322e-01,  -6.64634096e-01,   8.83612013e-01,\n",
       "         -4.20902763e-02,   3.17859859e-01,   2.24815016e-02,\n",
       "         -9.32178743e-01,   1.09616342e-01,  -6.85292700e-01,\n",
       "          2.08469988e-01,   5.34492361e-02,  -5.59082232e-01,\n",
       "          2.58759918e-01,  -4.76658805e-01,  -1.13194370e+00,\n",
       "          8.76637409e-01,  -1.12303905e-01,   1.80459955e-01,\n",
       "          6.81766493e-02,  -3.86885282e-01,   3.72921334e-01,\n",
       "          3.51680160e-01,   7.55628299e-01,   1.18997119e+00,\n",
       "         -5.55607407e-01,   1.23157874e+00,   1.87059588e-01,\n",
       "         -1.73722446e-01,  -6.16809745e-02,  -7.10231518e-01,\n",
       "         -1.88615699e-01,   4.18203511e-02,   6.19775656e-01,\n",
       "          5.75771510e-01,   1.71447565e+00,   6.20375811e-01,\n",
       "          3.41739138e-01,   2.16759390e-01,  -9.31187698e-01,\n",
       "         -1.22111426e-01,  -6.81432565e-01,  -8.00640642e-02,\n",
       "         -2.70253029e-01,  -6.37593625e-01,   1.21360486e+00,\n",
       "         -2.31523199e-01,   5.20695865e-01,  -2.18291344e-01,\n",
       "         -5.28164035e-01,  -2.83352777e-01,   8.76771865e-01,\n",
       "          7.05053862e-01,   2.92714985e-01,  -6.40513979e-01,\n",
       "         -2.04055578e-01,   4.56111758e-01,   3.13417531e-01,\n",
       "         -3.14135708e-02,   1.44049479e-01,   6.25888086e-01,\n",
       "         -3.11674030e-01,   5.47452906e-01,  -7.74993194e-01,\n",
       "          7.00813978e-01,   1.07870429e+00,  -2.04898199e-01,\n",
       "         -2.72778478e-01,  -1.16426442e+00,   6.79164772e-01,\n",
       "         -4.47971107e-02,  -2.06875991e-01,   9.50270427e-14,\n",
       "         -3.14524061e-01,  -4.96194859e-01,  -1.25152639e-13,\n",
       "         -4.87693846e-01,  -1.73388725e-01,  -5.42620267e-01,\n",
       "         -2.46522029e-02,   6.07614269e-01,  -1.57275691e-15,\n",
       "         -2.52080885e-01,   5.10007991e-02,   3.98900856e-01,\n",
       "          7.83198697e-14,  -9.12059284e-02,   3.00672285e-01,\n",
       "          3.34381881e-01,  -6.42286251e-02,   5.64027174e-02,\n",
       "          2.53566292e-02,   8.37068597e-02,  -3.78578231e-02,\n",
       "         -4.55860623e-01,   2.83279684e-02,  -6.88142445e-02,\n",
       "          4.55800823e-02,   1.37855663e-14,   1.94936819e-01,\n",
       "         -1.84688219e-01,  -1.31088778e-01,   3.15277253e-02,\n",
       "          2.20575359e-02,   1.21434746e-01,   2.94907596e-01,\n",
       "          2.07451892e-03,   6.85451585e-01,   5.62040159e-01,\n",
       "          1.14524894e-02,  -1.63202857e-01,  -4.07092786e-02,\n",
       "          3.90022092e-02,   1.86432407e-02,   2.58831507e-01,\n",
       "          6.07193700e-02,   4.43130704e-01,   1.19155410e-01,\n",
       "          1.05406707e-01,  -2.35627498e-01,   1.72427144e-01,\n",
       "         -1.99132596e-01,  -4.30284157e-01,  -7.51066675e-02,\n",
       "         -2.73640308e-01,  -1.32788763e-01,   2.04287337e-02,\n",
       "          1.28868598e-01,   7.32922994e-02,   2.65186386e-01,\n",
       "         -3.75508133e-01,   4.54011548e-02,   1.61673493e-01,\n",
       "          8.87424622e-02,   4.44132706e-02,   1.80440838e-01,\n",
       "         -1.11895520e-01,  -7.88497595e-02,   1.04252203e-02,\n",
       "         -3.91009514e-01,   4.81798195e-01,   2.33818945e-01,\n",
       "         -1.80694140e-01,   3.24283961e-01,   1.57177781e-02,\n",
       "          1.79233253e-01,   1.22520094e-01,   9.70697081e-04,\n",
       "          2.16126678e-01,  -1.54477970e-01,  -1.25428724e-01,\n",
       "          6.77248648e-02,  -3.08468154e-01,  -2.42268065e-01,\n",
       "          2.83913998e-01,   1.88711477e-01,   2.96608860e-01,\n",
       "          1.82534872e-01,  -1.22586515e-01,   1.32701836e-02,\n",
       "          3.34447181e-02,   1.68966789e-01,  -1.30318985e-01,\n",
       "         -4.42450112e-01,   3.44242619e-02,   3.41374538e-01,\n",
       "          8.68423073e-02,   2.43405536e-01,  -4.32822851e-01,\n",
       "         -4.04842876e-02,   2.08398839e-01,   6.98077406e-02,\n",
       "         -2.18430307e-01,   1.02850524e-01,   2.50945431e-02,\n",
       "          8.66740402e-02,  -9.11846149e-02,  -6.10831518e-02,\n",
       "          1.06414263e-01,   3.69509501e-02,   2.02413833e-01,\n",
       "          2.90764556e-01,  -3.64969517e-01,  -3.16150218e-01,\n",
       "          2.67836707e-02,  -1.14307420e-01,  -2.02186568e-02,\n",
       "         -2.16661117e-01,  -9.42664667e-02,   2.16222362e-01,\n",
       "          2.00446073e-01,   2.06893642e-02,  -2.34817069e-02,\n",
       "         -1.13890677e-01,   7.32613074e-02,  -1.19325179e-01,\n",
       "         -1.38569298e-02,  -2.96400727e-02,   1.06687894e-01,\n",
       "         -1.61417534e-02,   2.62388322e-02,  -8.43177053e-02,\n",
       "          1.53832042e-01,   7.66605424e-02,  -8.38756549e-02,\n",
       "         -3.54369541e-03,  -9.48305546e-03,  -8.58693465e-03,\n",
       "         -1.92627953e-02,   6.13782106e-02,  -2.83792340e-02,\n",
       "          1.12538138e-02,   4.57460168e-03,  -5.25700125e-03,\n",
       "          1.66094324e-03,   1.23824308e-02,   5.09278984e-04,\n",
       "          1.02898720e-05,   2.98153294e-19,  -1.43410554e-18,\n",
       "         -3.59802466e-18,  -2.10263902e-18,   2.68148428e-19,\n",
       "          1.02629304e-18,   1.19305529e-18,  -1.89063252e-18,\n",
       "         -2.25724267e-18,   2.81331317e-18,   3.92621358e-18,\n",
       "         -2.42357050e-18,  -3.16804947e-18,   1.69575550e-18,\n",
       "          3.61613707e-18,   1.33715984e-18,   2.82078629e-18,\n",
       "         -7.49449727e-19,   7.98091609e-19,   3.55451554e-18,\n",
       "         -2.82975582e-18,   1.24719028e-18,  -2.64162955e-18,\n",
       "          3.40245574e-18,  -7.00982758e-19,  -4.10587835e-18,\n",
       "          4.65416941e-19,  -1.72851067e-18,  -3.25974213e-18,\n",
       "         -3.30291071e-18,   8.59030844e-19,  -2.59993643e-18,\n",
       "          1.05598588e-18,  -2.15973747e-18,  -5.67541724e-18,\n",
       "          7.22029835e-19,   5.71811232e-18,  -1.43275744e-18,\n",
       "         -8.39109452e-19,  -1.61654497e-18,   2.37006559e-18,\n",
       "         -7.48781098e-18,   7.63981488e-19,   5.80609661e-19,\n",
       "         -5.58290270e-18,  -5.62180542e-18,  -6.70989456e-19,\n",
       "         -6.67944712e-19,  -2.11225222e-18,   2.76396629e-18,\n",
       "         -4.54720678e-18,   4.37789449e-19,   4.04529677e-18,\n",
       "          3.52854872e-18,  -3.43082401e-18,  -4.21184993e-18,\n",
       "          1.05129105e-18,  -6.36560500e-18,   2.09844997e-19,\n",
       "         -4.61326684e-18,  -2.36789695e-19,   1.27823492e-18]])"
      ]
     },
     "execution_count": 32,
     "metadata": {},
     "output_type": "execute_result"
    }
   ],
   "source": [
    "vec(\"United_States\")"
   ]
  },
  {
   "cell_type": "markdown",
   "metadata": {},
   "source": [
    "# 87. 単語の類似度\n",
    "85で得た単語の意味ベクトルを読み込み，\"United States\"と\"U.S.\"のコサイン類似度を計算せよ．ただし，\"U.S.\"は内部的に\"U.S\"と表現されていることに注意せよ．"
   ]
  },
  {
   "cell_type": "code",
   "execution_count": 33,
   "metadata": {
    "collapsed": false
   },
   "outputs": [
    {
     "data": {
      "text/plain": [
       "0.018007739417234062"
      ]
     },
     "execution_count": 33,
     "metadata": {},
     "output_type": "execute_result"
    }
   ],
   "source": [
    "from sklearn.metrics.pairwise import cosine_similarity\n",
    "def get_word_cs(word1, word2):\n",
    "    return cosine_similarity(vec(word1), vec(word2))[0][0]\n",
    "get_word_cs(\"United_States\", \"U.S\")"
   ]
  },
  {
   "cell_type": "markdown",
   "metadata": {},
   "source": [
    "# 88. 類似度の高い単語10件\n",
    "85で得た単語の意味ベクトルを読み込み，\"England\"とコサイン類似度が高い10語と，その類似度を出力せよ．"
   ]
  },
  {
   "cell_type": "code",
   "execution_count": 34,
   "metadata": {
    "collapsed": false
   },
   "outputs": [],
   "source": [
    "def get_top10(word):\n",
    "    lst=[]\n",
    "    for i, w in enumerate(Xpca[:1000]):\n",
    "        cs = cosine_similarity(vec(word), w.reshape(1, -1))[0][0]\n",
    "        lst.append((dictionary[i], cs))\n",
    "    return pd.DataFrame(lst)"
   ]
  },
  {
   "cell_type": "code",
   "execution_count": 35,
   "metadata": {
    "collapsed": false,
    "scrolled": true
   },
   "outputs": [],
   "source": [
    "eng_top10 = get_top10(\"England\")"
   ]
  },
  {
   "cell_type": "code",
   "execution_count": 36,
   "metadata": {
    "collapsed": false,
    "scrolled": true
   },
   "outputs": [
    {
     "data": {
      "text/html": [
       "<div>\n",
       "<table border=\"1\" class=\"dataframe\">\n",
       "  <thead>\n",
       "    <tr style=\"text-align: right;\">\n",
       "      <th></th>\n",
       "      <th>0</th>\n",
       "      <th>1</th>\n",
       "    </tr>\n",
       "  </thead>\n",
       "  <tbody>\n",
       "    <tr>\n",
       "      <th>47</th>\n",
       "      <td>events</td>\n",
       "      <td>0.806443</td>\n",
       "    </tr>\n",
       "    <tr>\n",
       "      <th>616</th>\n",
       "      <td>areas</td>\n",
       "      <td>0.752089</td>\n",
       "    </tr>\n",
       "    <tr>\n",
       "      <th>736</th>\n",
       "      <td>without</td>\n",
       "      <td>0.476834</td>\n",
       "    </tr>\n",
       "    <tr>\n",
       "      <th>207</th>\n",
       "      <td>3.84%</td>\n",
       "      <td>0.143077</td>\n",
       "    </tr>\n",
       "    <tr>\n",
       "      <th>63</th>\n",
       "      <td>seceded</td>\n",
       "      <td>0.115013</td>\n",
       "    </tr>\n",
       "    <tr>\n",
       "      <th>292</th>\n",
       "      <td>propitious</td>\n",
       "      <td>0.096278</td>\n",
       "    </tr>\n",
       "    <tr>\n",
       "      <th>177</th>\n",
       "      <td>Mosson</td>\n",
       "      <td>0.094246</td>\n",
       "    </tr>\n",
       "    <tr>\n",
       "      <th>301</th>\n",
       "      <td>own</td>\n",
       "      <td>0.089700</td>\n",
       "    </tr>\n",
       "    <tr>\n",
       "      <th>127</th>\n",
       "      <td>PEN/Laura</td>\n",
       "      <td>0.077884</td>\n",
       "    </tr>\n",
       "    <tr>\n",
       "      <th>174</th>\n",
       "      <td>Town.</td>\n",
       "      <td>0.067260</td>\n",
       "    </tr>\n",
       "  </tbody>\n",
       "</table>\n",
       "</div>"
      ],
      "text/plain": [
       "              0         1\n",
       "47       events  0.806443\n",
       "616       areas  0.752089\n",
       "736     without  0.476834\n",
       "207       3.84%  0.143077\n",
       "63      seceded  0.115013\n",
       "292  propitious  0.096278\n",
       "177      Mosson  0.094246\n",
       "301         own  0.089700\n",
       "127   PEN/Laura  0.077884\n",
       "174       Town.  0.067260"
      ]
     },
     "execution_count": 36,
     "metadata": {},
     "output_type": "execute_result"
    }
   ],
   "source": [
    "eng_top10.sort_values(1, ascending=False).head(10)"
   ]
  },
  {
   "cell_type": "markdown",
   "metadata": {},
   "source": [
    "# 89. 加法構成性によるアナロジー\n",
    "85で得た単語の意味ベクトルを読み込み，vec(\"Spain\") - vec(\"Madrid\") + vec(\"Athens\")を計算し，そのベクトルと類似度の高い10語とその類似度を出力せよ"
   ]
  },
  {
   "cell_type": "code",
   "execution_count": 37,
   "metadata": {
    "collapsed": true
   },
   "outputs": [],
   "source": [
    "vec89 = vec(\"Spain\") - vec(\"Madrid\") + vec(\"Athens\")\n",
    "lst=[]\n",
    "for i, w in enumerate(Xpca[:1000]):\n",
    "    cs = cosine_similarity(vec89, w.reshape(1, -1))\n",
    "    lst.append((dictionary[i], cs[0][0]))\n",
    "df89 = pd.DataFrame(lst)"
   ]
  },
  {
   "cell_type": "code",
   "execution_count": 38,
   "metadata": {
    "collapsed": false,
    "scrolled": true
   },
   "outputs": [
    {
     "data": {
      "text/html": [
       "<div>\n",
       "<table border=\"1\" class=\"dataframe\">\n",
       "  <thead>\n",
       "    <tr style=\"text-align: right;\">\n",
       "      <th></th>\n",
       "      <th>0</th>\n",
       "      <th>1</th>\n",
       "    </tr>\n",
       "  </thead>\n",
       "  <tbody>\n",
       "    <tr>\n",
       "      <th>12</th>\n",
       "      <td>Valley</td>\n",
       "      <td>0.719099</td>\n",
       "    </tr>\n",
       "    <tr>\n",
       "      <th>115</th>\n",
       "      <td>growth</td>\n",
       "      <td>0.489542</td>\n",
       "    </tr>\n",
       "    <tr>\n",
       "      <th>736</th>\n",
       "      <td>without</td>\n",
       "      <td>0.143890</td>\n",
       "    </tr>\n",
       "    <tr>\n",
       "      <th>16</th>\n",
       "      <td>Distal-less</td>\n",
       "      <td>0.080978</td>\n",
       "    </tr>\n",
       "    <tr>\n",
       "      <th>256</th>\n",
       "      <td>Isabey</td>\n",
       "      <td>0.078040</td>\n",
       "    </tr>\n",
       "    <tr>\n",
       "      <th>27</th>\n",
       "      <td>pears</td>\n",
       "      <td>0.071105</td>\n",
       "    </tr>\n",
       "    <tr>\n",
       "      <th>203</th>\n",
       "      <td>29.00%</td>\n",
       "      <td>0.071071</td>\n",
       "    </tr>\n",
       "    <tr>\n",
       "      <th>306</th>\n",
       "      <td>operatus</td>\n",
       "      <td>0.068993</td>\n",
       "    </tr>\n",
       "    <tr>\n",
       "      <th>14</th>\n",
       "      <td>1,415</td>\n",
       "      <td>0.062753</td>\n",
       "    </tr>\n",
       "    <tr>\n",
       "      <th>277</th>\n",
       "      <td>Felleng</td>\n",
       "      <td>0.061202</td>\n",
       "    </tr>\n",
       "  </tbody>\n",
       "</table>\n",
       "</div>"
      ],
      "text/plain": [
       "               0         1\n",
       "12        Valley  0.719099\n",
       "115       growth  0.489542\n",
       "736      without  0.143890\n",
       "16   Distal-less  0.080978\n",
       "256       Isabey  0.078040\n",
       "27         pears  0.071105\n",
       "203       29.00%  0.071071\n",
       "306     operatus  0.068993\n",
       "14         1,415  0.062753\n",
       "277      Felleng  0.061202"
      ]
     },
     "execution_count": 38,
     "metadata": {},
     "output_type": "execute_result"
    }
   ],
   "source": [
    "df89.sort_values(1, ascending=False).head(10)"
   ]
  }
 ],
 "metadata": {
  "kernelspec": {
   "display_name": "Python 3",
   "language": "python",
   "name": "python3"
  },
  "language_info": {
   "codemirror_mode": {
    "name": "ipython",
    "version": 3
   },
   "file_extension": ".py",
   "mimetype": "text/x-python",
   "name": "python",
   "nbconvert_exporter": "python",
   "pygments_lexer": "ipython3",
   "version": "3.5.0"
  }
 },
 "nbformat": 4,
 "nbformat_minor": 1
}
