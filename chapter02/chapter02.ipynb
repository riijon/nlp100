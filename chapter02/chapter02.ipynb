{
 "cells": [
  {
   "cell_type": "code",
   "execution_count": 57,
   "metadata": {
    "collapsed": false
   },
   "outputs": [
    {
     "data": {
      "text/plain": [
       "24"
      ]
     },
     "execution_count": 57,
     "metadata": {},
     "output_type": "execute_result"
    }
   ],
   "source": [
    "# 10\n",
    "hightemp_f = open('hightemp.txt', 'r')\n",
    "hightemp = hightemp_f.readlines()\n",
    "hightemp_f.close()\n",
    "len(hightemp)"
   ]
  },
  {
   "cell_type": "code",
   "execution_count": 58,
   "metadata": {
    "collapsed": false
   },
   "outputs": [
    {
     "data": {
      "text/plain": [
       "['高知県 江川崎 41 2013-08-12\\n',\n",
       " '埼玉県 熊谷 40.9 2007-08-16\\n',\n",
       " '岐阜県 多治見 40.9 2007-08-16\\n',\n",
       " '山形県 山形 40.8 1933-07-25\\n',\n",
       " '山梨県 甲府 40.7 2013-08-10\\n',\n",
       " '和歌山県 かつらぎ 40.6 1994-08-08\\n',\n",
       " '静岡県 天竜 40.6 1994-08-04\\n',\n",
       " '山梨県 勝沼 40.5 2013-08-10\\n',\n",
       " '埼玉県 越谷 40.4 2007-08-16\\n',\n",
       " '群馬県 館林 40.3 2007-08-16\\n',\n",
       " '群馬県 上里見 40.3 1998-07-04\\n',\n",
       " '愛知県 愛西 40.3 1994-08-05\\n',\n",
       " '千葉県 牛久 40.2 2004-07-20\\n',\n",
       " '静岡県 佐久間 40.2 2001-07-24\\n',\n",
       " '愛媛県 宇和島 40.2 1927-07-22\\n',\n",
       " '山形県 酒田 40.1 1978-08-03\\n',\n",
       " '岐阜県 美濃 40 2007-08-16\\n',\n",
       " '群馬県 前橋 40 2001-07-24\\n',\n",
       " '千葉県 茂原 39.9 2013-08-11\\n',\n",
       " '埼玉県 鳩山 39.9 1997-07-05\\n',\n",
       " '大阪府 豊中 39.9 1994-08-08\\n',\n",
       " '山梨県 大月 39.9 1990-07-19\\n',\n",
       " '山形県 鶴岡 39.9 1978-08-03\\n',\n",
       " '愛知県 名古屋 39.9 1942-08-02\\n']"
      ]
     },
     "execution_count": 58,
     "metadata": {},
     "output_type": "execute_result"
    }
   ],
   "source": [
    "# 11\n",
    "list( map(lambda x:x.replace('\\t', ' '), hightemp))"
   ]
  },
  {
   "cell_type": "code",
   "execution_count": 59,
   "metadata": {
    "collapsed": false
   },
   "outputs": [
    {
     "data": {
      "text/plain": [
       "'高知県\\n埼玉県\\n岐阜県\\n山形県\\n山梨県\\n和歌山県\\n静岡県\\n山梨県\\n埼玉県\\n群馬県\\n群馬県\\n愛知県\\n千葉県\\n静岡県\\n愛媛県\\n山形県\\n岐阜県\\n群馬県\\n千葉県\\n埼玉県\\n大阪府\\n山梨県\\n山形県\\n愛知県'"
      ]
     },
     "execution_count": 59,
     "metadata": {},
     "output_type": "execute_result"
    }
   ],
   "source": [
    "# 12\n",
    "col1_f = open('col1.txt', 'w')\n",
    "col1 = \"\\n\".join(list( map(lambda x:x.split('\\t')[0], hightemp)))\n",
    "col1_f.write(col1)\n",
    "col1_f.close()\n",
    "col1"
   ]
  },
  {
   "cell_type": "code",
   "execution_count": 60,
   "metadata": {
    "collapsed": false
   },
   "outputs": [
    {
     "data": {
      "text/plain": [
       "'江川崎\\n熊谷\\n多治見\\n山形\\n甲府\\nかつらぎ\\n天竜\\n勝沼\\n越谷\\n館林\\n上里見\\n愛西\\n牛久\\n佐久間\\n宇和島\\n酒田\\n美濃\\n前橋\\n茂原\\n鳩山\\n豊中\\n大月\\n鶴岡\\n名古屋'"
      ]
     },
     "execution_count": 60,
     "metadata": {},
     "output_type": "execute_result"
    }
   ],
   "source": [
    "col2_f = open('col2.txt', 'w')\n",
    "col2 = \"\\n\".join(list( map(lambda x:x.split('\\t')[1], hightemp)))\n",
    "col2_f.write(col2)\n",
    "col2_f.close()\n",
    "col2"
   ]
  },
  {
   "cell_type": "code",
   "execution_count": 61,
   "metadata": {
    "collapsed": false
   },
   "outputs": [
    {
     "data": {
      "text/plain": [
       "'高知県 江川崎\\n埼玉県 熊谷\\n岐阜県 多治見\\n山形県 山形\\n山梨県 甲府\\n和歌山県 かつらぎ\\n静岡県 天竜\\n山梨県 勝沼\\n埼玉県 越谷\\n群馬県 館林\\n群馬県 上里見\\n愛知県 愛西\\n千葉県 牛久\\n静岡県 佐久間\\n愛媛県 宇和島\\n山形県 酒田\\n岐阜県 美濃\\n群馬県 前橋\\n千葉県 茂原\\n埼玉県 鳩山\\n大阪府 豊中\\n山梨県 大月\\n山形県 鶴岡\\n愛知県 名古屋'"
      ]
     },
     "execution_count": 61,
     "metadata": {},
     "output_type": "execute_result"
    }
   ],
   "source": [
    "# 13\n",
    "col1_f = open('col1.txt', 'r')\n",
    "col2_f = open('col2.txt', 'r')\n",
    "col12_f = open('col12.txt', 'w')\n",
    "col12 = \"\\n\".join(list(map(lambda x:\" \".join(x).replace(\"\\n\",\"\") , list(zip(col1_f.readlines(), col2_f.readlines())))))\n",
    "col12_f.write(col12)\n",
    "col1_f.close()\n",
    "col2_f.close()\n",
    "col12_f.close()\n",
    "col12"
   ]
  },
  {
   "cell_type": "code",
   "execution_count": 62,
   "metadata": {
    "collapsed": false
   },
   "outputs": [
    {
     "data": {
      "text/plain": [
       "['高知県\\t江川崎\\t41\\t2013-08-12\\n',\n",
       " '埼玉県\\t熊谷\\t40.9\\t2007-08-16\\n',\n",
       " '岐阜県\\t多治見\\t40.9\\t2007-08-16\\n',\n",
       " '山形県\\t山形\\t40.8\\t1933-07-25\\n',\n",
       " '山梨県\\t甲府\\t40.7\\t2013-08-10\\n',\n",
       " '和歌山県\\tかつらぎ\\t40.6\\t1994-08-08\\n',\n",
       " '静岡県\\t天竜\\t40.6\\t1994-08-04\\n',\n",
       " '山梨県\\t勝沼\\t40.5\\t2013-08-10\\n',\n",
       " '埼玉県\\t越谷\\t40.4\\t2007-08-16\\n',\n",
       " '群馬県\\t館林\\t40.3\\t2007-08-16\\n']"
      ]
     },
     "execution_count": 62,
     "metadata": {},
     "output_type": "execute_result"
    }
   ],
   "source": [
    "# 14\n",
    "N = 10\n",
    "hightemp[:N]"
   ]
  },
  {
   "cell_type": "code",
   "execution_count": 63,
   "metadata": {
    "collapsed": false
   },
   "outputs": [
    {
     "data": {
      "text/plain": [
       "['群馬県\\t上里見\\t40.3\\t1998-07-04\\n',\n",
       " '愛知県\\t愛西\\t40.3\\t1994-08-05\\n',\n",
       " '千葉県\\t牛久\\t40.2\\t2004-07-20\\n',\n",
       " '静岡県\\t佐久間\\t40.2\\t2001-07-24\\n',\n",
       " '愛媛県\\t宇和島\\t40.2\\t1927-07-22\\n',\n",
       " '山形県\\t酒田\\t40.1\\t1978-08-03\\n',\n",
       " '岐阜県\\t美濃\\t40\\t2007-08-16\\n',\n",
       " '群馬県\\t前橋\\t40\\t2001-07-24\\n',\n",
       " '千葉県\\t茂原\\t39.9\\t2013-08-11\\n',\n",
       " '埼玉県\\t鳩山\\t39.9\\t1997-07-05\\n',\n",
       " '大阪府\\t豊中\\t39.9\\t1994-08-08\\n',\n",
       " '山梨県\\t大月\\t39.9\\t1990-07-19\\n',\n",
       " '山形県\\t鶴岡\\t39.9\\t1978-08-03\\n',\n",
       " '愛知県\\t名古屋\\t39.9\\t1942-08-02\\n']"
      ]
     },
     "execution_count": 63,
     "metadata": {},
     "output_type": "execute_result"
    }
   ],
   "source": [
    "# 15\n",
    "N = 10\n",
    "hightemp[N:]"
   ]
  },
  {
   "cell_type": "code",
   "execution_count": 64,
   "metadata": {
    "collapsed": false
   },
   "outputs": [
    {
     "name": "stdout",
     "output_type": "stream",
     "text": [
      "0 7\n",
      "8 15\n",
      "16 23\n"
     ]
    },
    {
     "data": {
      "text/plain": [
       "[['高知県\\t江川崎\\t41\\t2013-08-12\\n',\n",
       "  '埼玉県\\t熊谷\\t40.9\\t2007-08-16\\n',\n",
       "  '岐阜県\\t多治見\\t40.9\\t2007-08-16\\n',\n",
       "  '山形県\\t山形\\t40.8\\t1933-07-25\\n',\n",
       "  '山梨県\\t甲府\\t40.7\\t2013-08-10\\n',\n",
       "  '和歌山県\\tかつらぎ\\t40.6\\t1994-08-08\\n',\n",
       "  '静岡県\\t天竜\\t40.6\\t1994-08-04\\n'],\n",
       " ['埼玉県\\t越谷\\t40.4\\t2007-08-16\\n',\n",
       "  '群馬県\\t館林\\t40.3\\t2007-08-16\\n',\n",
       "  '群馬県\\t上里見\\t40.3\\t1998-07-04\\n',\n",
       "  '愛知県\\t愛西\\t40.3\\t1994-08-05\\n',\n",
       "  '千葉県\\t牛久\\t40.2\\t2004-07-20\\n',\n",
       "  '静岡県\\t佐久間\\t40.2\\t2001-07-24\\n',\n",
       "  '愛媛県\\t宇和島\\t40.2\\t1927-07-22\\n'],\n",
       " ['岐阜県\\t美濃\\t40\\t2007-08-16\\n',\n",
       "  '群馬県\\t前橋\\t40\\t2001-07-24\\n',\n",
       "  '千葉県\\t茂原\\t39.9\\t2013-08-11\\n',\n",
       "  '埼玉県\\t鳩山\\t39.9\\t1997-07-05\\n',\n",
       "  '大阪府\\t豊中\\t39.9\\t1994-08-08\\n',\n",
       "  '山梨県\\t大月\\t39.9\\t1990-07-19\\n',\n",
       "  '山形県\\t鶴岡\\t39.9\\t1978-08-03\\n']]"
      ]
     },
     "execution_count": 64,
     "metadata": {},
     "output_type": "execute_result"
    }
   ],
   "source": [
    "# 16\n",
    "N = 3\n",
    "length = len(hightemp) // N\n",
    "split = []\n",
    "for i in range(N):\n",
    "    split.append(hightemp[ i * length: (i + 1) * length - 1])\n",
    "    print( i * length, (i + 1) * length -1)\n",
    "split"
   ]
  },
  {
   "cell_type": "code",
   "execution_count": 65,
   "metadata": {
    "collapsed": false
   },
   "outputs": [
    {
     "data": {
      "text/plain": [
       "{'千葉県',\n",
       " '和歌山県',\n",
       " '埼玉県',\n",
       " '大阪府',\n",
       " '山形県',\n",
       " '山梨県',\n",
       " '岐阜県',\n",
       " '愛媛県',\n",
       " '愛知県',\n",
       " '群馬県',\n",
       " '静岡県',\n",
       " '高知県'}"
      ]
     },
     "execution_count": 65,
     "metadata": {},
     "output_type": "execute_result"
    }
   ],
   "source": [
    "# 17\n",
    "col1 = list( map(lambda x:x.split('\\t')[0], hightemp))\n",
    "set(col1)"
   ]
  },
  {
   "cell_type": "code",
   "execution_count": 66,
   "metadata": {
    "collapsed": false
   },
   "outputs": [
    {
     "data": {
      "text/plain": [
       "['愛媛県\\t宇和島\\t40.2\\t1927-07-22\\n',\n",
       " '山形県\\t山形\\t40.8\\t1933-07-25\\n',\n",
       " '愛知県\\t名古屋\\t39.9\\t1942-08-02\\n',\n",
       " '山形県\\t酒田\\t40.1\\t1978-08-03\\n',\n",
       " '山形県\\t鶴岡\\t39.9\\t1978-08-03\\n',\n",
       " '山梨県\\t大月\\t39.9\\t1990-07-19\\n',\n",
       " '静岡県\\t天竜\\t40.6\\t1994-08-04\\n',\n",
       " '愛知県\\t愛西\\t40.3\\t1994-08-05\\n',\n",
       " '和歌山県\\tかつらぎ\\t40.6\\t1994-08-08\\n',\n",
       " '大阪府\\t豊中\\t39.9\\t1994-08-08\\n',\n",
       " '埼玉県\\t鳩山\\t39.9\\t1997-07-05\\n',\n",
       " '群馬県\\t上里見\\t40.3\\t1998-07-04\\n',\n",
       " '静岡県\\t佐久間\\t40.2\\t2001-07-24\\n',\n",
       " '群馬県\\t前橋\\t40\\t2001-07-24\\n',\n",
       " '千葉県\\t牛久\\t40.2\\t2004-07-20\\n',\n",
       " '埼玉県\\t熊谷\\t40.9\\t2007-08-16\\n',\n",
       " '岐阜県\\t多治見\\t40.9\\t2007-08-16\\n',\n",
       " '埼玉県\\t越谷\\t40.4\\t2007-08-16\\n',\n",
       " '群馬県\\t館林\\t40.3\\t2007-08-16\\n',\n",
       " '岐阜県\\t美濃\\t40\\t2007-08-16\\n',\n",
       " '山梨県\\t甲府\\t40.7\\t2013-08-10\\n',\n",
       " '山梨県\\t勝沼\\t40.5\\t2013-08-10\\n',\n",
       " '千葉県\\t茂原\\t39.9\\t2013-08-11\\n',\n",
       " '高知県\\t江川崎\\t41\\t2013-08-12\\n']"
      ]
     },
     "execution_count": 66,
     "metadata": {},
     "output_type": "execute_result"
    }
   ],
   "source": [
    "# 18\n",
    "sorted(hightemp, key=lambda x:x.split('\\t')[3])"
   ]
  },
  {
   "cell_type": "code",
   "execution_count": 67,
   "metadata": {
    "collapsed": false
   },
   "outputs": [
    {
     "data": {
      "text/plain": [
       "[('山形県', 3),\n",
       " ('埼玉県', 3),\n",
       " ('山梨県', 3),\n",
       " ('群馬県', 3),\n",
       " ('静岡県', 2),\n",
       " ('岐阜県', 2),\n",
       " ('愛知県', 2),\n",
       " ('千葉県', 2),\n",
       " ('和歌山県', 1),\n",
       " ('愛媛県', 1),\n",
       " ('高知県', 1),\n",
       " ('大阪府', 1)]"
      ]
     },
     "execution_count": 67,
     "metadata": {},
     "output_type": "execute_result"
    }
   ],
   "source": [
    "# 19\n",
    "words = {}\n",
    "for x in col1:\n",
    "    if x in words:\n",
    "        words[x]  += 1 \n",
    "    else:\n",
    "        words[x] = 1\n",
    "sorted(words.items(), key=lambda x:x[1], reverse=True)"
   ]
  }
 ],
 "metadata": {
  "kernelspec": {
   "display_name": "Python 3",
   "language": "python",
   "name": "python3"
  },
  "language_info": {
   "codemirror_mode": {
    "name": "ipython",
    "version": 3
   },
   "file_extension": ".py",
   "mimetype": "text/x-python",
   "name": "python",
   "nbconvert_exporter": "python",
   "pygments_lexer": "ipython3",
   "version": "3.5.0"
  }
 },
 "nbformat": 4,
 "nbformat_minor": 1
}
