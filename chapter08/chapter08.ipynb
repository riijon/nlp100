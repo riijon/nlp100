{
 "cells": [
  {
   "cell_type": "markdown",
   "metadata": {},
   "source": [
    "# 第8章: 機械学習\n",
    "\n",
    "本章では，Bo Pang氏とLillian Lee氏が公開しているMovie Review Dataのsentence polarity dataset v1.0を用い，文を肯定的（ポジティブ）もしくは否定的（ネガティブ）に分類するタスク（極性分析）に取り組む．"
   ]
  },
  {
   "cell_type": "markdown",
   "metadata": {},
   "source": [
    "# 70. データの入手・整形\n",
    "文に関する極性分析の正解データを用い，以下の要領で正解データ（sentiment.txt）を作成せよ．\n",
    "\n",
    "1. rt-polarity.posの各行の先頭に\"+1 \"という文字列を追加する（極性ラベル\"+1\"とスペースに続けて肯定的な文の内容が続く）\n",
    "2. rt-polarity.negの各行の先頭に\"-1 \"という文字列を追加する（極性ラベル\"-1\"とスペースに続けて否定的な文の内容が続く）\n",
    "3. 上述1と2の内容を結合（concatenate）し，行をランダムに並び替える\n",
    "\n",
    "sentiment.txtを作成したら，正例（肯定的な文）の数と負例（否定的な文）の数を確認せよ"
   ]
  },
  {
   "cell_type": "code",
   "execution_count": 1,
   "metadata": {
    "collapsed": false
   },
   "outputs": [],
   "source": [
    "import random\n",
    "# nkfコマンドでバイナリからutf8に変換\n",
    "with open('rt-polaritydata/pos', 'r') as f:\n",
    "    sentiment_pos = [\"+1 \" + x[:-1] for x in f.readlines()]\n",
    "with open('rt-polaritydata/neg', 'r') as f:\n",
    "    sentiment_neg = [\"-1 \" + x[:-1] for x in f.readlines()]\n",
    "sentiment_pos[0] = sentiment_pos[0].replace(\"\\ufeff\",\"\")\n",
    "sentiment_neg[0] = sentiment_neg[0].replace(\"\\ufeff\",\"\")\n",
    "sentiment = sentiment_pos + sentiment_neg\n",
    "random.shuffle(sentiment)\n",
    "with open('sentiment.txt', 'w') as f:\n",
    "    f.writelines([x + \"\\n\" for x in sentiment])"
   ]
  },
  {
   "cell_type": "code",
   "execution_count": 2,
   "metadata": {
    "collapsed": false
   },
   "outputs": [
    {
     "data": {
      "text/plain": [
       "(10661, 5330, 5331)"
      ]
     },
     "execution_count": 2,
     "metadata": {},
     "output_type": "execute_result"
    }
   ],
   "source": [
    "with open('sentiment.txt', 'r') as f:\n",
    "    sentiment = [x[:-1] for x in f.readlines()]\n",
    "    count = len(sentiment)\n",
    "    count_pos = len([x for x in sentiment if x[:2] == \"+1\"])\n",
    "    count_neg = len([x for x in sentiment if x[:2] == \"-1\"])\n",
    "count, count_pos, count_neg"
   ]
  },
  {
   "cell_type": "markdown",
   "metadata": {},
   "source": [
    "# 71. ストップワード\n",
    "英語のストップワードのリスト（ストップリスト）を適当に作成せよ．さらに，引数に与えられた単語（文字列）がストップリストに含まれている場合は真，それ以外は偽を返す関数を実装せよ．さらに，その関数に対するテストを記述せよ．"
   ]
  },
  {
   "cell_type": "code",
   "execution_count": 3,
   "metadata": {
    "collapsed": false
   },
   "outputs": [],
   "source": [
    "import re\n",
    "with open('stopwords.csv', 'r') as f:\n",
    "    stopwords = [x[:-1] for x in f.readlines()]\n",
    "p = re.compile(\"^[a-zA-Z|\\'|\\-|0-9]*$\")\n",
    "def validate(word):\n",
    "    return (word in stopwords) or not p.match(word) or len(word) == 1"
   ]
  },
  {
   "cell_type": "code",
   "execution_count": 4,
   "metadata": {
    "collapsed": false
   },
   "outputs": [
    {
     "data": {
      "text/plain": [
       "True"
      ]
     },
     "execution_count": 4,
     "metadata": {},
     "output_type": "execute_result"
    }
   ],
   "source": [
    "validate('you')"
   ]
  },
  {
   "cell_type": "code",
   "execution_count": 5,
   "metadata": {
    "collapsed": false
   },
   "outputs": [
    {
     "data": {
      "text/plain": [
       "False"
      ]
     },
     "execution_count": 5,
     "metadata": {},
     "output_type": "execute_result"
    }
   ],
   "source": [
    "validate('aaaaa')"
   ]
  },
  {
   "cell_type": "markdown",
   "metadata": {},
   "source": [
    "# 72. 素性抽出\n",
    "極性分析に有用そうな素性を各自で設計し，学習データから素性を抽出せよ．素性としては，レビューからストップワードを除去し，各単語をステミング処理したものが最低限のベースラインとなるであろう．"
   ]
  },
  {
   "cell_type": "code",
   "execution_count": 6,
   "metadata": {
    "collapsed": true
   },
   "outputs": [],
   "source": [
    "def get_bow(wordlist):\n",
    "    row = {}\n",
    "    for word in wordlist:\n",
    "        if not validate(word):\n",
    "            w = stem(word)\n",
    "            if w in row.keys():\n",
    "                row[w] += 1\n",
    "            else:\n",
    "                row[w] = 1\n",
    "    return row"
   ]
  },
  {
   "cell_type": "code",
   "execution_count": 7,
   "metadata": {
    "collapsed": false
   },
   "outputs": [],
   "source": [
    "from stemming.porter2 import stem\n",
    "wordlist = []\n",
    "label = []\n",
    "bow = []\n",
    "for line in sentiment:\n",
    "    line_list = line[:-1].split(\" \")\n",
    "    label.append(int(line_list[0]))\n",
    "    bow.append(get_bow(line_list[1:]))"
   ]
  },
  {
   "cell_type": "code",
   "execution_count": 8,
   "metadata": {
    "collapsed": false,
    "scrolled": true
   },
   "outputs": [],
   "source": [
    "import pandas as pd\n",
    "bow_df = pd.DataFrame(bow).fillna(0)"
   ]
  },
  {
   "cell_type": "code",
   "execution_count": 9,
   "metadata": {
    "collapsed": false
   },
   "outputs": [
    {
     "data": {
      "text/html": [
       "<div>\n",
       "<table border=\"1\" class=\"dataframe\">\n",
       "  <thead>\n",
       "    <tr style=\"text-align: right;\">\n",
       "      <th></th>\n",
       "      <th>'a</th>\n",
       "      <th>'i</th>\n",
       "      <th>'independ</th>\n",
       "      <th>'n</th>\n",
       "      <th>'s</th>\n",
       "      <th>--</th>\n",
       "      <th>--hope</th>\n",
       "      <th>--with</th>\n",
       "      <th>-a</th>\n",
       "      <th>-after</th>\n",
       "      <th>...</th>\n",
       "      <th>ziyi</th>\n",
       "      <th>zoe</th>\n",
       "      <th>zombi</th>\n",
       "      <th>zombie-land</th>\n",
       "      <th>zone</th>\n",
       "      <th>zooland</th>\n",
       "      <th>zoom</th>\n",
       "      <th>zucker</th>\n",
       "      <th>zwick</th>\n",
       "      <th>zzzzzzzzz</th>\n",
       "    </tr>\n",
       "  </thead>\n",
       "  <tbody>\n",
       "    <tr>\n",
       "      <th>0</th>\n",
       "      <td>0.0</td>\n",
       "      <td>0.0</td>\n",
       "      <td>0.0</td>\n",
       "      <td>0.0</td>\n",
       "      <td>0.0</td>\n",
       "      <td>0.0</td>\n",
       "      <td>0.0</td>\n",
       "      <td>0.0</td>\n",
       "      <td>0.0</td>\n",
       "      <td>0.0</td>\n",
       "      <td>...</td>\n",
       "      <td>0.0</td>\n",
       "      <td>0.0</td>\n",
       "      <td>0.0</td>\n",
       "      <td>0.0</td>\n",
       "      <td>0.0</td>\n",
       "      <td>0.0</td>\n",
       "      <td>0.0</td>\n",
       "      <td>0.0</td>\n",
       "      <td>0.0</td>\n",
       "      <td>0.0</td>\n",
       "    </tr>\n",
       "    <tr>\n",
       "      <th>1</th>\n",
       "      <td>0.0</td>\n",
       "      <td>0.0</td>\n",
       "      <td>0.0</td>\n",
       "      <td>0.0</td>\n",
       "      <td>0.0</td>\n",
       "      <td>0.0</td>\n",
       "      <td>0.0</td>\n",
       "      <td>0.0</td>\n",
       "      <td>0.0</td>\n",
       "      <td>0.0</td>\n",
       "      <td>...</td>\n",
       "      <td>0.0</td>\n",
       "      <td>0.0</td>\n",
       "      <td>0.0</td>\n",
       "      <td>0.0</td>\n",
       "      <td>0.0</td>\n",
       "      <td>0.0</td>\n",
       "      <td>0.0</td>\n",
       "      <td>0.0</td>\n",
       "      <td>0.0</td>\n",
       "      <td>0.0</td>\n",
       "    </tr>\n",
       "    <tr>\n",
       "      <th>2</th>\n",
       "      <td>0.0</td>\n",
       "      <td>0.0</td>\n",
       "      <td>0.0</td>\n",
       "      <td>0.0</td>\n",
       "      <td>0.0</td>\n",
       "      <td>0.0</td>\n",
       "      <td>0.0</td>\n",
       "      <td>0.0</td>\n",
       "      <td>0.0</td>\n",
       "      <td>0.0</td>\n",
       "      <td>...</td>\n",
       "      <td>0.0</td>\n",
       "      <td>0.0</td>\n",
       "      <td>0.0</td>\n",
       "      <td>0.0</td>\n",
       "      <td>0.0</td>\n",
       "      <td>0.0</td>\n",
       "      <td>0.0</td>\n",
       "      <td>0.0</td>\n",
       "      <td>0.0</td>\n",
       "      <td>0.0</td>\n",
       "    </tr>\n",
       "    <tr>\n",
       "      <th>3</th>\n",
       "      <td>0.0</td>\n",
       "      <td>0.0</td>\n",
       "      <td>0.0</td>\n",
       "      <td>0.0</td>\n",
       "      <td>0.0</td>\n",
       "      <td>0.0</td>\n",
       "      <td>0.0</td>\n",
       "      <td>0.0</td>\n",
       "      <td>0.0</td>\n",
       "      <td>0.0</td>\n",
       "      <td>...</td>\n",
       "      <td>0.0</td>\n",
       "      <td>0.0</td>\n",
       "      <td>0.0</td>\n",
       "      <td>0.0</td>\n",
       "      <td>0.0</td>\n",
       "      <td>0.0</td>\n",
       "      <td>0.0</td>\n",
       "      <td>0.0</td>\n",
       "      <td>0.0</td>\n",
       "      <td>0.0</td>\n",
       "    </tr>\n",
       "    <tr>\n",
       "      <th>4</th>\n",
       "      <td>0.0</td>\n",
       "      <td>0.0</td>\n",
       "      <td>0.0</td>\n",
       "      <td>0.0</td>\n",
       "      <td>0.0</td>\n",
       "      <td>0.0</td>\n",
       "      <td>0.0</td>\n",
       "      <td>0.0</td>\n",
       "      <td>0.0</td>\n",
       "      <td>0.0</td>\n",
       "      <td>...</td>\n",
       "      <td>0.0</td>\n",
       "      <td>0.0</td>\n",
       "      <td>0.0</td>\n",
       "      <td>0.0</td>\n",
       "      <td>0.0</td>\n",
       "      <td>0.0</td>\n",
       "      <td>0.0</td>\n",
       "      <td>0.0</td>\n",
       "      <td>0.0</td>\n",
       "      <td>0.0</td>\n",
       "    </tr>\n",
       "  </tbody>\n",
       "</table>\n",
       "<p>5 rows × 14004 columns</p>\n",
       "</div>"
      ],
      "text/plain": [
       "    'a   'i  'independ   'n   's   --  --hope  --with   -a  -after    ...      \\\n",
       "0  0.0  0.0        0.0  0.0  0.0  0.0     0.0     0.0  0.0     0.0    ...       \n",
       "1  0.0  0.0        0.0  0.0  0.0  0.0     0.0     0.0  0.0     0.0    ...       \n",
       "2  0.0  0.0        0.0  0.0  0.0  0.0     0.0     0.0  0.0     0.0    ...       \n",
       "3  0.0  0.0        0.0  0.0  0.0  0.0     0.0     0.0  0.0     0.0    ...       \n",
       "4  0.0  0.0        0.0  0.0  0.0  0.0     0.0     0.0  0.0     0.0    ...       \n",
       "\n",
       "   ziyi  zoe  zombi  zombie-land  zone  zooland  zoom  zucker  zwick  \\\n",
       "0   0.0  0.0    0.0          0.0   0.0      0.0   0.0     0.0    0.0   \n",
       "1   0.0  0.0    0.0          0.0   0.0      0.0   0.0     0.0    0.0   \n",
       "2   0.0  0.0    0.0          0.0   0.0      0.0   0.0     0.0    0.0   \n",
       "3   0.0  0.0    0.0          0.0   0.0      0.0   0.0     0.0    0.0   \n",
       "4   0.0  0.0    0.0          0.0   0.0      0.0   0.0     0.0    0.0   \n",
       "\n",
       "   zzzzzzzzz  \n",
       "0        0.0  \n",
       "1        0.0  \n",
       "2        0.0  \n",
       "3        0.0  \n",
       "4        0.0  \n",
       "\n",
       "[5 rows x 14004 columns]"
      ]
     },
     "execution_count": 9,
     "metadata": {},
     "output_type": "execute_result"
    }
   ],
   "source": [
    "bow_df.head()"
   ]
  },
  {
   "cell_type": "markdown",
   "metadata": {},
   "source": [
    "# 73. 学習\n",
    "72で抽出した素性を用いて，ロジスティック回帰モデルを学習せよ．"
   ]
  },
  {
   "cell_type": "code",
   "execution_count": 10,
   "metadata": {
    "collapsed": false
   },
   "outputs": [
    {
     "data": {
      "text/plain": [
       "LogisticRegression(C=1.0, class_weight=None, dual=False, fit_intercept=True,\n",
       "          intercept_scaling=1, max_iter=100, multi_class='ovr', n_jobs=1,\n",
       "          penalty='l2', random_state=None, solver='liblinear', tol=0.0001,\n",
       "          verbose=0, warm_start=False)"
      ]
     },
     "execution_count": 10,
     "metadata": {},
     "output_type": "execute_result"
    }
   ],
   "source": [
    "from sklearn.linear_model import LogisticRegression\n",
    "logreg = LogisticRegression()\n",
    "logreg.fit(bow_df, label)"
   ]
  },
  {
   "cell_type": "markdown",
   "metadata": {},
   "source": [
    "# 74. 予測\n",
    "73で学習したロジスティック回帰モデルを用い，与えられた文の極性ラベル（正例なら\"+1\"，負例なら\"-1\"）と，その予測確率を計算するプログラムを実装せよ"
   ]
  },
  {
   "cell_type": "code",
   "execution_count": 11,
   "metadata": {
    "collapsed": false
   },
   "outputs": [
    {
     "data": {
      "text/plain": [
       "array([-1, -1, -1, -1, -1])"
      ]
     },
     "execution_count": 11,
     "metadata": {},
     "output_type": "execute_result"
    }
   ],
   "source": [
    "logreg.predict(bow_df[:5])"
   ]
  },
  {
   "cell_type": "code",
   "execution_count": 12,
   "metadata": {
    "collapsed": false
   },
   "outputs": [
    {
     "data": {
      "text/html": [
       "<div>\n",
       "<table border=\"1\" class=\"dataframe\">\n",
       "  <thead>\n",
       "    <tr style=\"text-align: right;\">\n",
       "      <th></th>\n",
       "      <th>'a</th>\n",
       "      <th>'i</th>\n",
       "      <th>'independ</th>\n",
       "      <th>'n</th>\n",
       "      <th>'s</th>\n",
       "      <th>--</th>\n",
       "      <th>--hope</th>\n",
       "      <th>--with</th>\n",
       "      <th>-a</th>\n",
       "      <th>-after</th>\n",
       "      <th>...</th>\n",
       "      <th>ziyi</th>\n",
       "      <th>zoe</th>\n",
       "      <th>zombi</th>\n",
       "      <th>zombie-land</th>\n",
       "      <th>zone</th>\n",
       "      <th>zooland</th>\n",
       "      <th>zoom</th>\n",
       "      <th>zucker</th>\n",
       "      <th>zwick</th>\n",
       "      <th>zzzzzzzzz</th>\n",
       "    </tr>\n",
       "  </thead>\n",
       "  <tbody>\n",
       "    <tr>\n",
       "      <th>0</th>\n",
       "      <td>0.0</td>\n",
       "      <td>0.0</td>\n",
       "      <td>0.0</td>\n",
       "      <td>0.0</td>\n",
       "      <td>0.0</td>\n",
       "      <td>0.0</td>\n",
       "      <td>0.0</td>\n",
       "      <td>0.0</td>\n",
       "      <td>0.0</td>\n",
       "      <td>0.0</td>\n",
       "      <td>...</td>\n",
       "      <td>0.0</td>\n",
       "      <td>0.0</td>\n",
       "      <td>0.0</td>\n",
       "      <td>0.0</td>\n",
       "      <td>0.0</td>\n",
       "      <td>0.0</td>\n",
       "      <td>0.0</td>\n",
       "      <td>0.0</td>\n",
       "      <td>0.0</td>\n",
       "      <td>0.0</td>\n",
       "    </tr>\n",
       "    <tr>\n",
       "      <th>1</th>\n",
       "      <td>0.0</td>\n",
       "      <td>0.0</td>\n",
       "      <td>0.0</td>\n",
       "      <td>0.0</td>\n",
       "      <td>0.0</td>\n",
       "      <td>0.0</td>\n",
       "      <td>0.0</td>\n",
       "      <td>0.0</td>\n",
       "      <td>0.0</td>\n",
       "      <td>0.0</td>\n",
       "      <td>...</td>\n",
       "      <td>0.0</td>\n",
       "      <td>0.0</td>\n",
       "      <td>0.0</td>\n",
       "      <td>0.0</td>\n",
       "      <td>0.0</td>\n",
       "      <td>0.0</td>\n",
       "      <td>0.0</td>\n",
       "      <td>0.0</td>\n",
       "      <td>0.0</td>\n",
       "      <td>0.0</td>\n",
       "    </tr>\n",
       "    <tr>\n",
       "      <th>2</th>\n",
       "      <td>0.0</td>\n",
       "      <td>0.0</td>\n",
       "      <td>0.0</td>\n",
       "      <td>0.0</td>\n",
       "      <td>0.0</td>\n",
       "      <td>0.0</td>\n",
       "      <td>0.0</td>\n",
       "      <td>0.0</td>\n",
       "      <td>0.0</td>\n",
       "      <td>0.0</td>\n",
       "      <td>...</td>\n",
       "      <td>0.0</td>\n",
       "      <td>0.0</td>\n",
       "      <td>0.0</td>\n",
       "      <td>0.0</td>\n",
       "      <td>0.0</td>\n",
       "      <td>0.0</td>\n",
       "      <td>0.0</td>\n",
       "      <td>0.0</td>\n",
       "      <td>0.0</td>\n",
       "      <td>0.0</td>\n",
       "    </tr>\n",
       "    <tr>\n",
       "      <th>3</th>\n",
       "      <td>0.0</td>\n",
       "      <td>0.0</td>\n",
       "      <td>0.0</td>\n",
       "      <td>0.0</td>\n",
       "      <td>0.0</td>\n",
       "      <td>0.0</td>\n",
       "      <td>0.0</td>\n",
       "      <td>0.0</td>\n",
       "      <td>0.0</td>\n",
       "      <td>0.0</td>\n",
       "      <td>...</td>\n",
       "      <td>0.0</td>\n",
       "      <td>0.0</td>\n",
       "      <td>0.0</td>\n",
       "      <td>0.0</td>\n",
       "      <td>0.0</td>\n",
       "      <td>0.0</td>\n",
       "      <td>0.0</td>\n",
       "      <td>0.0</td>\n",
       "      <td>0.0</td>\n",
       "      <td>0.0</td>\n",
       "    </tr>\n",
       "    <tr>\n",
       "      <th>4</th>\n",
       "      <td>0.0</td>\n",
       "      <td>0.0</td>\n",
       "      <td>0.0</td>\n",
       "      <td>0.0</td>\n",
       "      <td>0.0</td>\n",
       "      <td>0.0</td>\n",
       "      <td>0.0</td>\n",
       "      <td>0.0</td>\n",
       "      <td>0.0</td>\n",
       "      <td>0.0</td>\n",
       "      <td>...</td>\n",
       "      <td>0.0</td>\n",
       "      <td>0.0</td>\n",
       "      <td>0.0</td>\n",
       "      <td>0.0</td>\n",
       "      <td>0.0</td>\n",
       "      <td>0.0</td>\n",
       "      <td>0.0</td>\n",
       "      <td>0.0</td>\n",
       "      <td>0.0</td>\n",
       "      <td>0.0</td>\n",
       "    </tr>\n",
       "  </tbody>\n",
       "</table>\n",
       "<p>5 rows × 14004 columns</p>\n",
       "</div>"
      ],
      "text/plain": [
       "    'a   'i  'independ   'n   's   --  --hope  --with   -a  -after    ...      \\\n",
       "0  0.0  0.0        0.0  0.0  0.0  0.0     0.0     0.0  0.0     0.0    ...       \n",
       "1  0.0  0.0        0.0  0.0  0.0  0.0     0.0     0.0  0.0     0.0    ...       \n",
       "2  0.0  0.0        0.0  0.0  0.0  0.0     0.0     0.0  0.0     0.0    ...       \n",
       "3  0.0  0.0        0.0  0.0  0.0  0.0     0.0     0.0  0.0     0.0    ...       \n",
       "4  0.0  0.0        0.0  0.0  0.0  0.0     0.0     0.0  0.0     0.0    ...       \n",
       "\n",
       "   ziyi  zoe  zombi  zombie-land  zone  zooland  zoom  zucker  zwick  \\\n",
       "0   0.0  0.0    0.0          0.0   0.0      0.0   0.0     0.0    0.0   \n",
       "1   0.0  0.0    0.0          0.0   0.0      0.0   0.0     0.0    0.0   \n",
       "2   0.0  0.0    0.0          0.0   0.0      0.0   0.0     0.0    0.0   \n",
       "3   0.0  0.0    0.0          0.0   0.0      0.0   0.0     0.0    0.0   \n",
       "4   0.0  0.0    0.0          0.0   0.0      0.0   0.0     0.0    0.0   \n",
       "\n",
       "   zzzzzzzzz  \n",
       "0        0.0  \n",
       "1        0.0  \n",
       "2        0.0  \n",
       "3        0.0  \n",
       "4        0.0  \n",
       "\n",
       "[5 rows x 14004 columns]"
      ]
     },
     "execution_count": 12,
     "metadata": {},
     "output_type": "execute_result"
    }
   ],
   "source": [
    "bow_df[:5]"
   ]
  },
  {
   "cell_type": "code",
   "execution_count": 13,
   "metadata": {
    "collapsed": false
   },
   "outputs": [
    {
     "data": {
      "text/plain": [
       "[-1, -1, -1, -1, 1]"
      ]
     },
     "execution_count": 13,
     "metadata": {},
     "output_type": "execute_result"
    }
   ],
   "source": [
    "label[:5]"
   ]
  },
  {
   "cell_type": "code",
   "execution_count": 14,
   "metadata": {
    "collapsed": false
   },
   "outputs": [],
   "source": [
    "def get_bow_df(text):\n",
    "    text_list = [x for x in text.split(\" \") if x in bow_df.columns]\n",
    "    bow_dict = get_bow(text_list)\n",
    "    return pd.DataFrame([bow_dict], columns=bow_df.columns).fillna(0)"
   ]
  },
  {
   "cell_type": "code",
   "execution_count": 15,
   "metadata": {
    "collapsed": false
   },
   "outputs": [
    {
     "data": {
      "text/plain": [
       "array([-1])"
      ]
     },
     "execution_count": 15,
     "metadata": {},
     "output_type": "execute_result"
    }
   ],
   "source": [
    "logreg.predict(get_bow_df(\"i have a pen\"))"
   ]
  },
  {
   "cell_type": "markdown",
   "metadata": {},
   "source": [
    "# 75. 素性の重み\n",
    "73で学習したロジスティック回帰モデルの中で，重みの高い素性トップ10と，重みの低い素性トップ10を確認せよ．"
   ]
  },
  {
   "cell_type": "code",
   "execution_count": 16,
   "metadata": {
    "collapsed": false
   },
   "outputs": [],
   "source": [
    "weight = pd.DataFrame(logreg.coef_[0], index=bow_df.columns, columns=[\"weight\"])"
   ]
  },
  {
   "cell_type": "code",
   "execution_count": 17,
   "metadata": {
    "collapsed": false
   },
   "outputs": [
    {
     "data": {
      "text/html": [
       "<div>\n",
       "<table border=\"1\" class=\"dataframe\">\n",
       "  <thead>\n",
       "    <tr style=\"text-align: right;\">\n",
       "      <th></th>\n",
       "      <th>weight</th>\n",
       "    </tr>\n",
       "  </thead>\n",
       "  <tbody>\n",
       "    <tr>\n",
       "      <th>refresh</th>\n",
       "      <td>2.184563</td>\n",
       "    </tr>\n",
       "    <tr>\n",
       "      <th>engross</th>\n",
       "      <td>2.094347</td>\n",
       "    </tr>\n",
       "    <tr>\n",
       "      <th>unexpect</th>\n",
       "      <td>1.979437</td>\n",
       "    </tr>\n",
       "    <tr>\n",
       "      <th>glorious</th>\n",
       "      <td>1.805681</td>\n",
       "    </tr>\n",
       "    <tr>\n",
       "      <th>wonder</th>\n",
       "      <td>1.739558</td>\n",
       "    </tr>\n",
       "    <tr>\n",
       "      <th>examin</th>\n",
       "      <td>1.649721</td>\n",
       "    </tr>\n",
       "    <tr>\n",
       "      <th>remark</th>\n",
       "      <td>1.624787</td>\n",
       "    </tr>\n",
       "    <tr>\n",
       "      <th>smarter</th>\n",
       "      <td>1.613071</td>\n",
       "    </tr>\n",
       "    <tr>\n",
       "      <th>beauti</th>\n",
       "      <td>1.602747</td>\n",
       "    </tr>\n",
       "    <tr>\n",
       "      <th>resist</th>\n",
       "      <td>1.584557</td>\n",
       "    </tr>\n",
       "  </tbody>\n",
       "</table>\n",
       "</div>"
      ],
      "text/plain": [
       "            weight\n",
       "refresh   2.184563\n",
       "engross   2.094347\n",
       "unexpect  1.979437\n",
       "glorious  1.805681\n",
       "wonder    1.739558\n",
       "examin    1.649721\n",
       "remark    1.624787\n",
       "smarter   1.613071\n",
       "beauti    1.602747\n",
       "resist    1.584557"
      ]
     },
     "execution_count": 17,
     "metadata": {},
     "output_type": "execute_result"
    }
   ],
   "source": [
    "# 重みの高い素性トップ10\n",
    "weight.sort_values(\"weight\", ascending=False).head(10)"
   ]
  },
  {
   "cell_type": "code",
   "execution_count": 18,
   "metadata": {
    "collapsed": false,
    "scrolled": true
   },
   "outputs": [
    {
     "data": {
      "text/html": [
       "<div>\n",
       "<table border=\"1\" class=\"dataframe\">\n",
       "  <thead>\n",
       "    <tr style=\"text-align: right;\">\n",
       "      <th></th>\n",
       "      <th>weight</th>\n",
       "    </tr>\n",
       "  </thead>\n",
       "  <tbody>\n",
       "    <tr>\n",
       "      <th>bore</th>\n",
       "      <td>-2.278731</td>\n",
       "    </tr>\n",
       "    <tr>\n",
       "      <th>wast</th>\n",
       "      <td>-1.904425</td>\n",
       "    </tr>\n",
       "    <tr>\n",
       "      <th>fail</th>\n",
       "      <td>-1.897111</td>\n",
       "    </tr>\n",
       "    <tr>\n",
       "      <th>dull</th>\n",
       "      <td>-1.880885</td>\n",
       "    </tr>\n",
       "    <tr>\n",
       "      <th>mediocr</th>\n",
       "      <td>-1.875136</td>\n",
       "    </tr>\n",
       "    <tr>\n",
       "      <th>routin</th>\n",
       "      <td>-1.814219</td>\n",
       "    </tr>\n",
       "    <tr>\n",
       "      <th>suppos</th>\n",
       "      <td>-1.715353</td>\n",
       "    </tr>\n",
       "    <tr>\n",
       "      <th>flat</th>\n",
       "      <td>-1.708888</td>\n",
       "    </tr>\n",
       "    <tr>\n",
       "      <th>generic</th>\n",
       "      <td>-1.659871</td>\n",
       "    </tr>\n",
       "    <tr>\n",
       "      <th>worst</th>\n",
       "      <td>-1.648374</td>\n",
       "    </tr>\n",
       "  </tbody>\n",
       "</table>\n",
       "</div>"
      ],
      "text/plain": [
       "           weight\n",
       "bore    -2.278731\n",
       "wast    -1.904425\n",
       "fail    -1.897111\n",
       "dull    -1.880885\n",
       "mediocr -1.875136\n",
       "routin  -1.814219\n",
       "suppos  -1.715353\n",
       "flat    -1.708888\n",
       "generic -1.659871\n",
       "worst   -1.648374"
      ]
     },
     "execution_count": 18,
     "metadata": {},
     "output_type": "execute_result"
    }
   ],
   "source": [
    "# 重みの低い素性トップ10\n",
    "weight.sort_values(\"weight\").head(10)"
   ]
  },
  {
   "cell_type": "markdown",
   "metadata": {},
   "source": [
    "# 76. ラベル付け\n",
    "学習データに対してロジスティック回帰モデルを適用し，正解のラベル，予測されたラベル，予測確率をタブ区切り形式で出力せよ．"
   ]
  },
  {
   "cell_type": "code",
   "execution_count": 19,
   "metadata": {
    "collapsed": false
   },
   "outputs": [],
   "source": [
    "predict_proba = logreg.predict_proba(bow_df)\n",
    "predict = logreg.predict(bow_df)\n",
    "with open('76.csv', 'w') as f:\n",
    "    for i, l in enumerate(label):\n",
    "        line = \"\\t\".join([str(x) for x in [l, predict[i], max(predict_proba[i])]])\n",
    "        f.write(line + \"\\n\")"
   ]
  },
  {
   "cell_type": "markdown",
   "metadata": {},
   "source": [
    "# 77. 正解率の計測\n",
    "76の出力を受け取り，予測の正解率，正例に関する適合率，再現率，F1スコアを求めるプログラムを作成せよ．"
   ]
  },
  {
   "cell_type": "code",
   "execution_count": 20,
   "metadata": {
    "collapsed": false
   },
   "outputs": [],
   "source": [
    "result77 = pd.read_csv('76.csv', header=None, sep='\\t', names=(\"label\", \"predict\", \"predict_proba\"))"
   ]
  },
  {
   "cell_type": "code",
   "execution_count": 21,
   "metadata": {
    "collapsed": false
   },
   "outputs": [],
   "source": [
    "def evaluate(result):\n",
    "    TP = len(result[(result['label'] == 1) & (result['predict'] == 1)])\n",
    "    FP = len(result[(result['label'] == -1) & (result['predict'] == 1)])\n",
    "    TN = len(result[(result['label'] == -1) & (result['predict'] == -1)])\n",
    "    FN = len(result[(result['label'] == 1) & (result['predict'] == -1)])\n",
    "    # print(TP, FP, TN, FN)\n",
    "    # print(len(result) == (TP+FP+TN+FN))\n",
    "    # 正解率\n",
    "    rate = (TP + TN) / len(result)\n",
    "    # 適合率\n",
    "    if (TP + FP) == 0:\n",
    "        precision = 0\n",
    "    else:\n",
    "        precision = TP/(TP + FP)\n",
    "    # 再現率\n",
    "    if (TP + FN) == 0:\n",
    "        recall = 0\n",
    "    else:\n",
    "        recall=TP/(TP + FN)\n",
    "    # F1\n",
    "    if recall + precision == 0:\n",
    "        F = 0\n",
    "    else:\n",
    "        F = 2 * recall * precision / (recall + precision)\n",
    "    return {\"rate\":rate, \"precision\":precision, \"recall\":recall, \"F\":F}"
   ]
  },
  {
   "cell_type": "code",
   "execution_count": 22,
   "metadata": {
    "collapsed": false
   },
   "outputs": [],
   "source": [
    "value = evaluate(result77)"
   ]
  },
  {
   "cell_type": "code",
   "execution_count": 23,
   "metadata": {
    "collapsed": false
   },
   "outputs": [
    {
     "data": {
      "text/plain": [
       "0.9442829002907794"
      ]
     },
     "execution_count": 23,
     "metadata": {},
     "output_type": "execute_result"
    }
   ],
   "source": [
    "value[\"rate\"]"
   ]
  },
  {
   "cell_type": "code",
   "execution_count": 24,
   "metadata": {
    "collapsed": false
   },
   "outputs": [
    {
     "data": {
      "text/plain": [
       "0.9488248673237301"
      ]
     },
     "execution_count": 24,
     "metadata": {},
     "output_type": "execute_result"
    }
   ],
   "source": [
    "value[\"precision\"]"
   ]
  },
  {
   "cell_type": "code",
   "execution_count": 25,
   "metadata": {
    "collapsed": false
   },
   "outputs": [
    {
     "data": {
      "text/plain": [
       "0.9392120075046905"
      ]
     },
     "execution_count": 25,
     "metadata": {},
     "output_type": "execute_result"
    }
   ],
   "source": [
    "value[\"recall\"]"
   ]
  },
  {
   "cell_type": "code",
   "execution_count": 26,
   "metadata": {
    "collapsed": false
   },
   "outputs": [
    {
     "data": {
      "text/plain": [
       "0.943993965679804"
      ]
     },
     "execution_count": 26,
     "metadata": {},
     "output_type": "execute_result"
    }
   ],
   "source": [
    "value[\"F\"]"
   ]
  },
  {
   "cell_type": "markdown",
   "metadata": {},
   "source": [
    "# 78. 5分割交差検定\n",
    "76-77の実験では，学習に用いた事例を評価にも用いたため，正当な評価とは言えない．すなわち，分類器が訓練事例を丸暗記する際の性能を評価しており，モデルの汎化性能を測定していない．そこで，5分割交差検定により，極性分類の正解率，適合率，再現率，F1スコアを求めよ．"
   ]
  },
  {
   "cell_type": "code",
   "execution_count": 27,
   "metadata": {
    "collapsed": false,
    "scrolled": true
   },
   "outputs": [],
   "source": [
    "N = 5\n",
    "length = len(bow_df) // N\n",
    "cross_list = []\n",
    "for i in range(N):\n",
    "    train_df = (bow_df[:length * i] + bow_df[length * (i + 1):]).fillna(0)\n",
    "    train_label = label[:length * i] + label[length * (i + 1):]\n",
    "    test_df = bow_df[length * i:length * (i + 1)]\n",
    "    test_label = label[length * i:length * (i + 1)]\n",
    "    logreg = LogisticRegression()\n",
    "    logreg.fit(train_df, train_label)\n",
    "    result = pd.DataFrame(columns=['label', 'predict'])\n",
    "    result['label'] = test_label \n",
    "    result['predict'] = logreg.predict(test_df)\n",
    "    value = evaluate(result)\n",
    "    cross_list.append(value)"
   ]
  },
  {
   "cell_type": "code",
   "execution_count": 28,
   "metadata": {
    "collapsed": false
   },
   "outputs": [
    {
     "data": {
      "text/html": [
       "<div>\n",
       "<table border=\"1\" class=\"dataframe\">\n",
       "  <thead>\n",
       "    <tr style=\"text-align: right;\">\n",
       "      <th></th>\n",
       "      <th>F</th>\n",
       "      <th>precision</th>\n",
       "      <th>rate</th>\n",
       "      <th>recall</th>\n",
       "    </tr>\n",
       "  </thead>\n",
       "  <tbody>\n",
       "    <tr>\n",
       "      <th>0</th>\n",
       "      <td>0.664997</td>\n",
       "      <td>0.498124</td>\n",
       "      <td>0.498124</td>\n",
       "      <td>1.0</td>\n",
       "    </tr>\n",
       "    <tr>\n",
       "      <th>1</th>\n",
       "      <td>0.000000</td>\n",
       "      <td>0.000000</td>\n",
       "      <td>0.500000</td>\n",
       "      <td>0.0</td>\n",
       "    </tr>\n",
       "    <tr>\n",
       "      <th>2</th>\n",
       "      <td>0.000000</td>\n",
       "      <td>0.000000</td>\n",
       "      <td>0.492964</td>\n",
       "      <td>0.0</td>\n",
       "    </tr>\n",
       "    <tr>\n",
       "      <th>3</th>\n",
       "      <td>0.664997</td>\n",
       "      <td>0.498124</td>\n",
       "      <td>0.498124</td>\n",
       "      <td>1.0</td>\n",
       "    </tr>\n",
       "    <tr>\n",
       "      <th>4</th>\n",
       "      <td>0.663742</td>\n",
       "      <td>0.496717</td>\n",
       "      <td>0.496717</td>\n",
       "      <td>1.0</td>\n",
       "    </tr>\n",
       "  </tbody>\n",
       "</table>\n",
       "</div>"
      ],
      "text/plain": [
       "          F  precision      rate  recall\n",
       "0  0.664997   0.498124  0.498124     1.0\n",
       "1  0.000000   0.000000  0.500000     0.0\n",
       "2  0.000000   0.000000  0.492964     0.0\n",
       "3  0.664997   0.498124  0.498124     1.0\n",
       "4  0.663742   0.496717  0.496717     1.0"
      ]
     },
     "execution_count": 28,
     "metadata": {},
     "output_type": "execute_result"
    }
   ],
   "source": [
    "pd.DataFrame(cross_list)"
   ]
  },
  {
   "cell_type": "code",
   "execution_count": 29,
   "metadata": {
    "collapsed": false
   },
   "outputs": [
    {
     "data": {
      "text/plain": [
       "F            0.398747\n",
       "precision    0.298593\n",
       "rate         0.497186\n",
       "recall       0.600000\n",
       "dtype: float64"
      ]
     },
     "execution_count": 29,
     "metadata": {},
     "output_type": "execute_result"
    }
   ],
   "source": [
    "pd.DataFrame(cross_list).mean().T"
   ]
  },
  {
   "cell_type": "markdown",
   "metadata": {},
   "source": [
    "# 79. 適合率-再現率グラフの描画\n",
    "ロジスティック回帰モデルの分類の閾値を変化させることで，適合率-再現率グラフを描画せよ．"
   ]
  },
  {
   "cell_type": "code",
   "execution_count": 30,
   "metadata": {
    "collapsed": false,
    "scrolled": true
   },
   "outputs": [
    {
     "name": "stdout",
     "output_type": "stream",
     "text": [
      "{'F': 0.66665871148765488, 'recall': 1.0, 'rate': 0.50000000000000011, 'precision': 0.50000000000000011}\n",
      "{'F': 0.66665871148765488, 'recall': 1.0, 'rate': 0.50000000000000011, 'precision': 0.50000000000000011}\n",
      "{'F': 0.66665871148765488, 'recall': 1.0, 'rate': 0.50000000000000011, 'precision': 0.50000000000000011}\n",
      "{'F': 0.66665871148765488, 'recall': 1.0, 'rate': 0.50000000000000011, 'precision': 0.50000000000000011}\n",
      "{'F': 0.66665871148765488, 'recall': 1.0, 'rate': 0.50000000000000011, 'precision': 0.50000000000000011}\n",
      "{'F': 0.26791160908807965, 'recall': 0.40000000000000002, 'rate': 0.50281425891181986, 'precision': 0.20140712945590994}\n",
      "{'F': 0.0, 'recall': 0.0, 'rate': 0.5, 'precision': 0.0}\n",
      "{'F': 0.0, 'recall': 0.0, 'rate': 0.5, 'precision': 0.0}\n",
      "{'F': 0.0, 'recall': 0.0, 'rate': 0.5, 'precision': 0.0}\n",
      "{'F': 0.0, 'recall': 0.0, 'rate': 0.5, 'precision': 0.0}\n"
     ]
    }
   ],
   "source": [
    "graph_list = [] \n",
    "for t in [x / 10 for x in range(10)]:\n",
    "    N = 5\n",
    "    length = len(bow_df) // N\n",
    "    cross_list = []\n",
    "    for i in range(N):\n",
    "        train_df = (bow_df[:length * i] + bow_df[length * (i + 1):]).fillna(0)\n",
    "        train_label = label[:length * i] + label[length * (i + 1):]\n",
    "        test_df = bow_df[length * i:length * (i + 1)]\n",
    "        test_label = label[length * i:length * (i + 1)]\n",
    "        logreg = LogisticRegression()\n",
    "        logreg.fit(train_df, train_label)\n",
    "        result = pd.DataFrame(columns=['label', 'predict'])\n",
    "        result['label'] = test_label\n",
    "        result['predict'] = [1 if x[0] > t else -1 for x in logreg.predict_proba(test_df)]\n",
    "        value = evaluate(result)\n",
    "        cross_list.append(value)\n",
    "    mean = dict(pd.DataFrame(cross_list).mean())\n",
    "    print(mean)\n",
    "    graph_list.append(mean)"
   ]
  },
  {
   "cell_type": "code",
   "execution_count": 31,
   "metadata": {
    "collapsed": false
   },
   "outputs": [],
   "source": [
    "graph_df = pd.DataFrame(graph_list)"
   ]
  },
  {
   "cell_type": "code",
   "execution_count": 32,
   "metadata": {
    "collapsed": false
   },
   "outputs": [
    {
     "data": {
      "text/html": [
       "<div>\n",
       "<table border=\"1\" class=\"dataframe\">\n",
       "  <thead>\n",
       "    <tr style=\"text-align: right;\">\n",
       "      <th></th>\n",
       "      <th>F</th>\n",
       "      <th>precision</th>\n",
       "      <th>rate</th>\n",
       "      <th>recall</th>\n",
       "    </tr>\n",
       "  </thead>\n",
       "  <tbody>\n",
       "    <tr>\n",
       "      <th>0</th>\n",
       "      <td>0.666659</td>\n",
       "      <td>0.500000</td>\n",
       "      <td>0.500000</td>\n",
       "      <td>1.0</td>\n",
       "    </tr>\n",
       "    <tr>\n",
       "      <th>1</th>\n",
       "      <td>0.666659</td>\n",
       "      <td>0.500000</td>\n",
       "      <td>0.500000</td>\n",
       "      <td>1.0</td>\n",
       "    </tr>\n",
       "    <tr>\n",
       "      <th>2</th>\n",
       "      <td>0.666659</td>\n",
       "      <td>0.500000</td>\n",
       "      <td>0.500000</td>\n",
       "      <td>1.0</td>\n",
       "    </tr>\n",
       "    <tr>\n",
       "      <th>3</th>\n",
       "      <td>0.666659</td>\n",
       "      <td>0.500000</td>\n",
       "      <td>0.500000</td>\n",
       "      <td>1.0</td>\n",
       "    </tr>\n",
       "    <tr>\n",
       "      <th>4</th>\n",
       "      <td>0.666659</td>\n",
       "      <td>0.500000</td>\n",
       "      <td>0.500000</td>\n",
       "      <td>1.0</td>\n",
       "    </tr>\n",
       "    <tr>\n",
       "      <th>5</th>\n",
       "      <td>0.267912</td>\n",
       "      <td>0.201407</td>\n",
       "      <td>0.502814</td>\n",
       "      <td>0.4</td>\n",
       "    </tr>\n",
       "    <tr>\n",
       "      <th>6</th>\n",
       "      <td>0.000000</td>\n",
       "      <td>0.000000</td>\n",
       "      <td>0.500000</td>\n",
       "      <td>0.0</td>\n",
       "    </tr>\n",
       "    <tr>\n",
       "      <th>7</th>\n",
       "      <td>0.000000</td>\n",
       "      <td>0.000000</td>\n",
       "      <td>0.500000</td>\n",
       "      <td>0.0</td>\n",
       "    </tr>\n",
       "    <tr>\n",
       "      <th>8</th>\n",
       "      <td>0.000000</td>\n",
       "      <td>0.000000</td>\n",
       "      <td>0.500000</td>\n",
       "      <td>0.0</td>\n",
       "    </tr>\n",
       "    <tr>\n",
       "      <th>9</th>\n",
       "      <td>0.000000</td>\n",
       "      <td>0.000000</td>\n",
       "      <td>0.500000</td>\n",
       "      <td>0.0</td>\n",
       "    </tr>\n",
       "  </tbody>\n",
       "</table>\n",
       "</div>"
      ],
      "text/plain": [
       "          F  precision      rate  recall\n",
       "0  0.666659   0.500000  0.500000     1.0\n",
       "1  0.666659   0.500000  0.500000     1.0\n",
       "2  0.666659   0.500000  0.500000     1.0\n",
       "3  0.666659   0.500000  0.500000     1.0\n",
       "4  0.666659   0.500000  0.500000     1.0\n",
       "5  0.267912   0.201407  0.502814     0.4\n",
       "6  0.000000   0.000000  0.500000     0.0\n",
       "7  0.000000   0.000000  0.500000     0.0\n",
       "8  0.000000   0.000000  0.500000     0.0\n",
       "9  0.000000   0.000000  0.500000     0.0"
      ]
     },
     "execution_count": 32,
     "metadata": {},
     "output_type": "execute_result"
    }
   ],
   "source": [
    "graph_df"
   ]
  },
  {
   "cell_type": "code",
   "execution_count": 33,
   "metadata": {
    "collapsed": false
   },
   "outputs": [],
   "source": [
    "import matplotlib.pyplot as plt\n",
    "plt.style.use('ggplot')\n",
    "%matplotlib inline"
   ]
  },
  {
   "cell_type": "code",
   "execution_count": 34,
   "metadata": {
    "collapsed": false
   },
   "outputs": [
    {
     "data": {
      "text/plain": [
       "<matplotlib.axes._subplots.AxesSubplot at 0x7f46956c4e48>"
      ]
     },
     "execution_count": 34,
     "metadata": {},
     "output_type": "execute_result"
    },
    {
     "data": {
      "image/png": "[encoded data removed]",
      "text/plain": [
       "<matplotlib.figure.Figure at 0x7f469572c550>"
      ]
     },
     "metadata": {},
     "output_type": "display_data"
    }
   ],
   "source": [
    "graph_df.sort_values('precision').plot(x='precision', y='recall')"
   ]
  },
  {
   "cell_type": "code",
   "execution_count": null,
   "metadata": {
    "collapsed": true
   },
   "outputs": [],
   "source": []
  }
 ],
 "metadata": {
  "kernelspec": {
   "display_name": "Python 3",
   "language": "python",
   "name": "python3"
  },
  "language_info": {
   "codemirror_mode": {
    "name": "ipython",
    "version": 3
   },
   "file_extension": ".py",
   "mimetype": "text/x-python",
   "name": "python",
   "nbconvert_exporter": "python",
   "pygments_lexer": "ipython3",
   "version": "3.5.0"
  }
 },
 "nbformat": 4,
 "nbformat_minor": 1
}
