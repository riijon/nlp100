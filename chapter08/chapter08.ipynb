{
 "cells": [
  {
   "cell_type": "code",
   "execution_count": 2,
   "metadata": {
    "collapsed": false
   },
   "outputs": [],
   "source": [
    "import json\n",
    "import redis\n",
    "from pymongo import MongoClient \n",
    "# gzip -d artist.json.gz"
   ]
  },
  {
   "cell_type": "markdown",
   "metadata": {},
   "source": [
    "# 60. KVSの構築\n",
    "Key-Value-Store (KVS) を用い，アーティスト名（name）から活動場所（area）を検索するためのデータベースを構築せよ．"
   ]
  },
  {
   "cell_type": "code",
   "execution_count": 3,
   "metadata": {
    "collapsed": true
   },
   "outputs": [],
   "source": [
    "r = redis.Redis(host='localhost', port=6379, db=0)"
   ]
  },
  {
   "cell_type": "code",
   "execution_count": 4,
   "metadata": {
    "collapsed": false
   },
   "outputs": [],
   "source": [
    "with open(\"artist.json\", 'r') as f:\n",
    "    for line in f.readlines():\n",
    "        line_json = json.loads(line[:-1])\n",
    "        if 'area' in line_json.keys():\n",
    "            r.set(line_json['name'], line_json['area'])"
   ]
  },
  {
   "cell_type": "code",
   "execution_count": 5,
   "metadata": {
    "collapsed": false
   },
   "outputs": [
    {
     "data": {
      "text/plain": [
       "309317"
      ]
     },
     "execution_count": 5,
     "metadata": {},
     "output_type": "execute_result"
    }
   ],
   "source": [
    "len(r.keys())"
   ]
  },
  {
   "cell_type": "markdown",
   "metadata": {},
   "source": [
    "# 61. KVSの検索\n",
    "60で構築したデータベースを用い，特定の（指定された）アーティストの活動場所を取得せよ．"
   ]
  },
  {
   "cell_type": "code",
   "execution_count": 6,
   "metadata": {
    "collapsed": false
   },
   "outputs": [
    {
     "data": {
      "text/plain": [
       "b'United States'"
      ]
     },
     "execution_count": 6,
     "metadata": {},
     "output_type": "execute_result"
    }
   ],
   "source": [
    "r.get('Al Street')"
   ]
  },
  {
   "cell_type": "markdown",
   "metadata": {},
   "source": [
    "# 62. KVS内の反復処理\n",
    "60で構築したデータベースを用い，活動場所が「Japan」となっているアーティスト数を求めよ．"
   ]
  },
  {
   "cell_type": "code",
   "execution_count": 7,
   "metadata": {
    "collapsed": false
   },
   "outputs": [
    {
     "data": {
      "text/plain": [
       "22128"
      ]
     },
     "execution_count": 7,
     "metadata": {},
     "output_type": "execute_result"
    }
   ],
   "source": [
    "len([key for key in r.scan_iter() if r.get(key) == b'Japan'])"
   ]
  },
  {
   "cell_type": "markdown",
   "metadata": {},
   "source": [
    "# 63. オブジェクトを値に格納したKVS\n",
    "\n",
    "KVSを用い，アーティスト名（name）からタグと被タグ数（タグ付けされた回数）のリストを検索するためのデータベースを構築せよ．さらに，ここで構築したデータベースを用い，アーティスト名からタグと被タグ数を検索せよ．"
   ]
  },
  {
   "cell_type": "code",
   "execution_count": 8,
   "metadata": {
    "collapsed": false
   },
   "outputs": [],
   "source": [
    "r.flushall()\n",
    "with open(\"artist.json\", 'r') as f:\n",
    "    for line in f.readlines()[:1000]:\n",
    "        line_json = json.loads(line[:-1])\n",
    "        if 'tags' in line_json.keys():\n",
    "            r.set(line_json['name'], line_json['tags'])"
   ]
  },
  {
   "cell_type": "code",
   "execution_count": 9,
   "metadata": {
    "collapsed": false
   },
   "outputs": [
    {
     "data": {
      "text/plain": [
       "b\"[{'count': 1, 'value': 'bogus artist'}]\""
      ]
     },
     "execution_count": 9,
     "metadata": {},
     "output_type": "execute_result"
    }
   ],
   "source": [
    "r.get('Shrek & Fiona')"
   ]
  },
  {
   "cell_type": "code",
   "execution_count": 10,
   "metadata": {
    "collapsed": false
   },
   "outputs": [
    {
     "data": {
      "text/plain": [
       "True"
      ]
     },
     "execution_count": 10,
     "metadata": {},
     "output_type": "execute_result"
    }
   ],
   "source": [
    "r.flushall()"
   ]
  },
  {
   "cell_type": "markdown",
   "metadata": {},
   "source": [
    "# 64. MongoDBの構築\n",
    "\n",
    "アーティスト情報（artist.json.gz）をデータベースに登録せよ．さらに，次のフィールドでインデックスを作成せよ: name, aliases.name, tags.value, rating.value"
   ]
  },
  {
   "cell_type": "code",
   "execution_count": 19,
   "metadata": {
    "collapsed": false
   },
   "outputs": [],
   "source": [
    "# sudo service mongodb start\n",
    "# mongoimport --db nlp_artists --collection artists --file artist.json\n",
    "client = MongoClient('localhost', 27017)\n",
    "db = client.nlp_artists\n",
    "artists = db.artists\n",
    "# artists.drop()"
   ]
  },
  {
   "cell_type": "code",
   "execution_count": 20,
   "metadata": {
    "collapsed": false
   },
   "outputs": [
    {
     "data": {
      "text/plain": [
       "{'_id_': {'key': [('_id', 1)], 'ns': 'nlp_artists.artists', 'v': 2},\n",
       " 'aliases.name_1': {'key': [('aliases.name', 1)],\n",
       "  'ns': 'nlp_artists.artists',\n",
       "  'v': 2},\n",
       " 'name_1': {'key': [('name', 1)], 'ns': 'nlp_artists.artists', 'v': 2},\n",
       " 'rating.value_1': {'key': [('rating.value', 1)],\n",
       "  'ns': 'nlp_artists.artists',\n",
       "  'v': 2},\n",
       " 'tags.value_1': {'key': [('tags.value', 1)],\n",
       "  'ns': 'nlp_artists.artists',\n",
       "  'v': 2}}"
      ]
     },
     "execution_count": 20,
     "metadata": {},
     "output_type": "execute_result"
    }
   ],
   "source": [
    "artists.create_index(\"name\")\n",
    "artists.create_index(\"aliases.name\")\n",
    "artists.create_index(\"tags.value\")\n",
    "artists.create_index(\"rating.value\")\n",
    "artists.index_information() # インデックス確認"
   ]
  },
  {
   "cell_type": "markdown",
   "metadata": {},
   "source": [
    "# 65. MongoDBの検索\n",
    "MongoDBのインタラクティブシェルを用いて，\"Queen\"というアーティストに関する情報を取得せよ．さらに，これと同様の処理を行うプログラムを実装せよ．"
   ]
  },
  {
   "cell_type": "code",
   "execution_count": 21,
   "metadata": {
    "collapsed": false,
    "scrolled": true
   },
   "outputs": [
    {
     "data": {
      "text/plain": [
       "[{'_id': ObjectId('591e43a626513376b372496f'),\n",
       "  'aliases': [{'name': 'Queen', 'sort_name': 'Queen'}],\n",
       "  'area': 'Japan',\n",
       "  'ended': True,\n",
       "  'gender': 'Female',\n",
       "  'gid': '420ca290-76c5-41af-999e-564d7c71f1a7',\n",
       "  'id': 701492,\n",
       "  'name': 'Queen',\n",
       "  'sort_name': 'Queen',\n",
       "  'tags': [{'count': 1, 'value': 'kamen rider w'},\n",
       "   {'count': 1, 'value': 'related-akb48'}],\n",
       "  'type': 'Character'},\n",
       " {'_id': ObjectId('591e43a926513376b373104f'),\n",
       "  'aliases': [{'name': '女王', 'sort_name': '女王'}],\n",
       "  'area': 'United Kingdom',\n",
       "  'begin': {'date': 27, 'month': 6, 'year': 1970},\n",
       "  'ended': True,\n",
       "  'gid': '0383dadf-2a4e-4d10-a46a-e9e041da8eb3',\n",
       "  'id': 192,\n",
       "  'name': 'Queen',\n",
       "  'rating': {'count': 24, 'value': 92},\n",
       "  'sort_name': 'Queen',\n",
       "  'tags': [{'count': 2, 'value': 'hard rock'},\n",
       "   {'count': 1, 'value': '70s'},\n",
       "   {'count': 1, 'value': 'queen family'},\n",
       "   {'count': 1, 'value': '90s'},\n",
       "   {'count': 1, 'value': '80s'},\n",
       "   {'count': 1, 'value': 'glam rock'},\n",
       "   {'count': 4, 'value': 'british'},\n",
       "   {'count': 1, 'value': 'english'},\n",
       "   {'count': 2, 'value': 'uk'},\n",
       "   {'count': 1, 'value': 'pop/rock'},\n",
       "   {'count': 1, 'value': 'pop-rock'},\n",
       "   {'count': 1, 'value': 'britannique'},\n",
       "   {'count': 1, 'value': 'classic pop and rock'},\n",
       "   {'count': 1, 'value': 'queen'},\n",
       "   {'count': 1, 'value': 'united kingdom'},\n",
       "   {'count': 1, 'value': 'langham 1 studio bbc'},\n",
       "   {'count': 1, 'value': 'kind of magic'},\n",
       "   {'count': 1, 'value': 'band'},\n",
       "   {'count': 6, 'value': 'rock'},\n",
       "   {'count': 1, 'value': 'platinum'}],\n",
       "  'type': 'Group'},\n",
       " {'_id': ObjectId('591e43b126513376b374cb1b'),\n",
       "  'ended': True,\n",
       "  'gid': '5eecaf18-02ec-47af-a4f2-7831db373419',\n",
       "  'id': 992994,\n",
       "  'name': 'Queen',\n",
       "  'sort_name': 'Queen'}]"
      ]
     },
     "execution_count": 21,
     "metadata": {},
     "output_type": "execute_result"
    }
   ],
   "source": [
    "# db.artists.find({\"name\":\"Queen\"})\n",
    "[x for x in artists.find({\"name\" : \"Queen\"})]"
   ]
  },
  {
   "cell_type": "markdown",
   "metadata": {},
   "source": [
    "# 66. 検索件数の取得\n",
    "MongoDBのインタラクティブシェルを用いて，活動場所が「Japan」となっているアーティスト数を求めよ．"
   ]
  },
  {
   "cell_type": "code",
   "execution_count": 22,
   "metadata": {
    "collapsed": false
   },
   "outputs": [
    {
     "data": {
      "text/plain": [
       "0"
      ]
     },
     "execution_count": 22,
     "metadata": {},
     "output_type": "execute_result"
    }
   ],
   "source": [
    "# db.artists.count({\"area\":\"Japan\"})\n",
    "artists.count({\"aliases.name\":\"\"})"
   ]
  },
  {
   "cell_type": "markdown",
   "metadata": {},
   "source": [
    "# 67. 複数のドキュメントの取得\n",
    "特定の（指定した）別名を持つアーティストを検索せよ．"
   ]
  },
  {
   "cell_type": "code",
   "execution_count": 23,
   "metadata": {
    "collapsed": false
   },
   "outputs": [
    {
     "data": {
      "text/plain": [
       "{'_id': ObjectId('591e43a526513376b3721b9f'),\n",
       " 'aliases': [{'name': 'Marilyn Manson', 'sort_name': 'Marilyn Manson'},\n",
       "  {'name': 'The Spooky Kids', 'sort_name': 'The Spooky Kids'},\n",
       "  {'name': 'Marilyn Manson and the Spooky Kids',\n",
       "   'sort_name': 'Marilyn Manson and the Spooky Kids'}],\n",
       " 'area': 'United States',\n",
       " 'begin': {'year': 1989},\n",
       " 'end': {'year': 1992},\n",
       " 'ended': True,\n",
       " 'gid': 'af3dd900-679f-48ef-909a-0da55786b078',\n",
       " 'id': 73830,\n",
       " 'name': 'Marilyn Manson & the Spooky Kids',\n",
       " 'sort_name': 'Manson, Marilyn & the Spooky Kids',\n",
       " 'type': 'Group'}"
      ]
     },
     "execution_count": 23,
     "metadata": {},
     "output_type": "execute_result"
    }
   ],
   "source": [
    "artists.find_one({\"aliases.name\" : \"Marilyn Manson\"})"
   ]
  },
  {
   "cell_type": "markdown",
   "metadata": {},
   "source": [
    "# 68. ソート\n",
    "\"dance\"というタグを付与されたアーティストの中でレーティングの投票数が多いアーティスト・トップ10を求めよ．"
   ]
  },
  {
   "cell_type": "code",
   "execution_count": 24,
   "metadata": {
    "collapsed": false,
    "scrolled": true
   },
   "outputs": [
    {
     "data": {
      "text/plain": [
       "[('Madonna', {'count': 26, 'value': 88}),\n",
       " ('Björk', {'count': 23, 'value': 84}),\n",
       " ('The Prodigy', {'count': 23, 'value': 90}),\n",
       " ('Rihanna', {'count': 15, 'value': 68}),\n",
       " ('Britney Spears', {'count': 13, 'value': 83}),\n",
       " ('Maroon 5', {'count': 11, 'value': 60}),\n",
       " ('Adam Lambert', {'count': 7, 'value': 100}),\n",
       " ('Fatboy Slim', {'count': 7, 'value': 77}),\n",
       " ('Basement Jaxx', {'count': 6, 'value': 83}),\n",
       " ('Cornershop', {'count': 5, 'value': 68})]"
      ]
     },
     "execution_count": 24,
     "metadata": {},
     "output_type": "execute_result"
    }
   ],
   "source": [
    "dance = [x for x in artists.find({\"tags.value\":\"dance\"}) if 'rating' in x.keys()]\n",
    "[(x['name'],x['rating']) for x in sorted(dance, key=lambda x:x[\"rating\"][\"count\"], reverse=True)[:10]]"
   ]
  },
  {
   "cell_type": "markdown",
   "metadata": {},
   "source": [
    "# 69. Webアプリケーションの作成\n",
    "ユーザから入力された検索条件に合致するアーティストの情報を表示するWebアプリケーションを作成せよ．アーティスト名，アーティストの別名，タグ等で検索条件を指定し，アーティスト情報のリストをレーティングの高い順などで整列して表示せよ．"
   ]
  },
  {
   "cell_type": "markdown",
   "metadata": {
    "collapsed": true
   },
   "source": [
    "webアプリの起動\n",
    "\n",
    "`$ python app.py`\n",
    "\n",
    "起動後ローカルホストにアクセスして利用\n",
    "フレームワークbottleで開発"
   ]
  },
  {
   "cell_type": "code",
   "execution_count": null,
   "metadata": {
    "collapsed": true
   },
   "outputs": [],
   "source": []
  }
 ],
 "metadata": {
  "kernelspec": {
   "display_name": "Python 3",
   "language": "python",
   "name": "python3"
  },
  "language_info": {
   "codemirror_mode": {
    "name": "ipython",
    "version": 3
   },
   "file_extension": ".py",
   "mimetype": "text/x-python",
   "name": "python",
   "nbconvert_exporter": "python",
   "pygments_lexer": "ipython3",
   "version": "3.5.0"
  }
 },
 "nbformat": 4,
 "nbformat_minor": 1
}
