{
 "cells": [
  {
   "cell_type": "markdown",
   "metadata": {},
   "source": [
    "# 第8章: 機械学習\n",
    "\n",
    "本章では，Bo Pang氏とLillian Lee氏が公開しているMovie Review Dataのsentence polarity dataset v1.0を用い，文を肯定的（ポジティブ）もしくは否定的（ネガティブ）に分類するタスク（極性分析）に取り組む．"
   ]
  },
  {
   "cell_type": "code",
   "execution_count": 302,
   "metadata": {
    "collapsed": true
   },
   "outputs": [],
   "source": [
    "import random"
   ]
  },
  {
   "cell_type": "markdown",
   "metadata": {},
   "source": [
    "# 70. データの入手・整形\n",
    "文に関する極性分析の正解データを用い，以下の要領で正解データ（sentiment.txt）を作成せよ．\n",
    "\n",
    "1. rt-polarity.posの各行の先頭に\"+1 \"という文字列を追加する（極性ラベル\"+1\"とスペースに続けて肯定的な文の内容が続く）\n",
    "2. rt-polarity.negの各行の先頭に\"-1 \"という文字列を追加する（極性ラベル\"-1\"とスペースに続けて否定的な文の内容が続く）\n",
    "3. 上述1と2の内容を結合（concatenate）し，行をランダムに並び替える\n",
    "\n",
    "sentiment.txtを作成したら，正例（肯定的な文）の数と負例（否定的な文）の数を確認せよ"
   ]
  },
  {
   "cell_type": "code",
   "execution_count": 303,
   "metadata": {
    "collapsed": false
   },
   "outputs": [],
   "source": [
    "# nkfコマンドでバイナリからutf8に変換\n",
    "with open('rt-polaritydata/pos', 'r') as f:\n",
    "    sentiment_pos = [\"+1 \" + x[:-1] for x in f.readlines()]\n",
    "with open('rt-polaritydata/neg', 'r') as f:\n",
    "    sentiment_neg = [\"-1 \" + x[:-1] for x in f.readlines()]\n",
    "sentiment_pos[0] = sentiment_pos[0].replace(\"\\ufeff\",\"\")\n",
    "sentiment_neg[0] = sentiment_neg[0].replace(\"\\ufeff\",\"\")\n",
    "sentiment = sentiment_pos + sentiment_neg\n",
    "random.shuffle(sentiment)\n",
    "with open('sentiment.txt', 'w') as f:\n",
    "    f.writelines([x + \"\\n\" for x in sentiment])"
   ]
  },
  {
   "cell_type": "code",
   "execution_count": 304,
   "metadata": {
    "collapsed": false
   },
   "outputs": [
    {
     "data": {
      "text/plain": [
       "(10661, 5330, 5331)"
      ]
     },
     "execution_count": 304,
     "metadata": {},
     "output_type": "execute_result"
    }
   ],
   "source": [
    "with open('sentiment.txt', 'r') as f:\n",
    "    sentiment = [x[:-1] for x in f.readlines()]\n",
    "    count = len(sentiment)\n",
    "    count_pos = len([x for x in sentiment if x[:2] == \"+1\"])\n",
    "    count_neg = len([x for x in sentiment if x[:2] == \"-1\"])\n",
    "count, count_pos, count_neg"
   ]
  },
  {
   "cell_type": "markdown",
   "metadata": {},
   "source": [
    "# 71. ストップワード\n",
    "英語のストップワードのリスト（ストップリスト）を適当に作成せよ．さらに，引数に与えられた単語（文字列）がストップリストに含まれている場合は真，それ以外は偽を返す関数を実装せよ．さらに，その関数に対するテストを記述せよ．"
   ]
  },
  {
   "cell_type": "code",
   "execution_count": 305,
   "metadata": {
    "collapsed": false
   },
   "outputs": [],
   "source": [
    "import re\n",
    "with open('stopwords.csv', 'r') as f:\n",
    "    stopwords = [x[:-1] for x in f.readlines()]\n",
    "p = re.compile(\"^[a-zA-Z|\\'|\\-|0-9]*$\")\n",
    "def validate(word):\n",
    "    return (word in stopwords) or not p.match(word)"
   ]
  },
  {
   "cell_type": "code",
   "execution_count": 306,
   "metadata": {
    "collapsed": false
   },
   "outputs": [
    {
     "data": {
      "text/plain": [
       "True"
      ]
     },
     "execution_count": 306,
     "metadata": {},
     "output_type": "execute_result"
    }
   ],
   "source": [
    "validate('you')"
   ]
  },
  {
   "cell_type": "code",
   "execution_count": 307,
   "metadata": {
    "collapsed": false
   },
   "outputs": [
    {
     "data": {
      "text/plain": [
       "False"
      ]
     },
     "execution_count": 307,
     "metadata": {},
     "output_type": "execute_result"
    }
   ],
   "source": [
    "validate(\"dfasdfaaa'-s\")"
   ]
  },
  {
   "cell_type": "code",
   "execution_count": 308,
   "metadata": {
    "collapsed": false
   },
   "outputs": [
    {
     "data": {
      "text/plain": [
       "False"
      ]
     },
     "execution_count": 308,
     "metadata": {},
     "output_type": "execute_result"
    }
   ],
   "source": [
    "validate('aaaaa')"
   ]
  },
  {
   "cell_type": "markdown",
   "metadata": {},
   "source": [
    "# 72. 素性抽出\n",
    "極性分析に有用そうな素性を各自で設計し，学習データから素性を抽出せよ．素性としては，レビューからストップワードを除去し，各単語をステミング処理したものが最低限のベースラインとなるであろう．"
   ]
  },
  {
   "cell_type": "code",
   "execution_count": 309,
   "metadata": {
    "collapsed": true
   },
   "outputs": [],
   "source": [
    "def get_bow(wordlist):\n",
    "    row = {}\n",
    "    for word in wordlist:\n",
    "        if not validate(word):\n",
    "            w = stem(word)\n",
    "            if w in row.keys():\n",
    "                row[w] += 1\n",
    "            else:\n",
    "                row[w] = 1\n",
    "    return row"
   ]
  },
  {
   "cell_type": "code",
   "execution_count": 310,
   "metadata": {
    "collapsed": false
   },
   "outputs": [],
   "source": [
    "from stemming.porter2 import stem\n",
    "wordlist = []\n",
    "label = []\n",
    "bow = []\n",
    "for line in sentiment:\n",
    "    line_list = line[:-1].split(\" \")\n",
    "    label.append(int(line_list[0]))\n",
    "    bow.append(get_bow(line_list[1:]))"
   ]
  },
  {
   "cell_type": "code",
   "execution_count": 311,
   "metadata": {
    "collapsed": false,
    "scrolled": true
   },
   "outputs": [],
   "source": [
    "bow_df = pd.DataFrame(bow).fillna(0)"
   ]
  },
  {
   "cell_type": "markdown",
   "metadata": {},
   "source": [
    "# 73. 学習\n",
    "72で抽出した素性を用いて，ロジスティック回帰モデルを学習せよ．"
   ]
  },
  {
   "cell_type": "code",
   "execution_count": 312,
   "metadata": {
    "collapsed": false
   },
   "outputs": [
    {
     "data": {
      "text/plain": [
       "LogisticRegression(C=1.0, class_weight=None, dual=False, fit_intercept=True,\n",
       "          intercept_scaling=1, max_iter=100, multi_class='ovr', n_jobs=1,\n",
       "          penalty='l2', random_state=None, solver='liblinear', tol=0.0001,\n",
       "          verbose=0, warm_start=False)"
      ]
     },
     "execution_count": 312,
     "metadata": {},
     "output_type": "execute_result"
    }
   ],
   "source": [
    "from sklearn.linear_model import LogisticRegression\n",
    "logreg = LogisticRegression()\n",
    "logreg.fit(bow_df, label)"
   ]
  },
  {
   "cell_type": "markdown",
   "metadata": {},
   "source": [
    "# 74. 予測\n",
    "73で学習したロジスティック回帰モデルを用い，与えられた文の極性ラベル（正例なら\"+1\"，負例なら\"-1\"）と，その予測確率を計算するプログラムを実装せよ"
   ]
  },
  {
   "cell_type": "code",
   "execution_count": 313,
   "metadata": {
    "collapsed": false
   },
   "outputs": [
    {
     "data": {
      "text/plain": [
       "array([ 1, -1,  1, -1,  1])"
      ]
     },
     "execution_count": 313,
     "metadata": {},
     "output_type": "execute_result"
    }
   ],
   "source": [
    "logreg.predict(bow_df[:5])"
   ]
  },
  {
   "cell_type": "code",
   "execution_count": 314,
   "metadata": {
    "collapsed": false
   },
   "outputs": [
    {
     "data": {
      "text/html": [
       "<div>\n",
       "<table border=\"1\" class=\"dataframe\">\n",
       "  <thead>\n",
       "    <tr style=\"text-align: right;\">\n",
       "      <th></th>\n",
       "      <th>'</th>\n",
       "      <th>'a</th>\n",
       "      <th>'i</th>\n",
       "      <th>'independ</th>\n",
       "      <th>'n</th>\n",
       "      <th>'s</th>\n",
       "      <th>-</th>\n",
       "      <th>--</th>\n",
       "      <th>--hope</th>\n",
       "      <th>--with</th>\n",
       "      <th>...</th>\n",
       "      <th>ziyi</th>\n",
       "      <th>zoe</th>\n",
       "      <th>zombi</th>\n",
       "      <th>zombie-land</th>\n",
       "      <th>zone</th>\n",
       "      <th>zooland</th>\n",
       "      <th>zoom</th>\n",
       "      <th>zucker</th>\n",
       "      <th>zwick</th>\n",
       "      <th>zzzzzzzzz</th>\n",
       "    </tr>\n",
       "  </thead>\n",
       "  <tbody>\n",
       "    <tr>\n",
       "      <th>0</th>\n",
       "      <td>0.0</td>\n",
       "      <td>0.0</td>\n",
       "      <td>0.0</td>\n",
       "      <td>0.0</td>\n",
       "      <td>0.0</td>\n",
       "      <td>0.0</td>\n",
       "      <td>0.0</td>\n",
       "      <td>0.0</td>\n",
       "      <td>0.0</td>\n",
       "      <td>0.0</td>\n",
       "      <td>...</td>\n",
       "      <td>0.0</td>\n",
       "      <td>0.0</td>\n",
       "      <td>0.0</td>\n",
       "      <td>0.0</td>\n",
       "      <td>0.0</td>\n",
       "      <td>0.0</td>\n",
       "      <td>0.0</td>\n",
       "      <td>0.0</td>\n",
       "      <td>0.0</td>\n",
       "      <td>0.0</td>\n",
       "    </tr>\n",
       "    <tr>\n",
       "      <th>1</th>\n",
       "      <td>0.0</td>\n",
       "      <td>0.0</td>\n",
       "      <td>0.0</td>\n",
       "      <td>0.0</td>\n",
       "      <td>0.0</td>\n",
       "      <td>0.0</td>\n",
       "      <td>0.0</td>\n",
       "      <td>0.0</td>\n",
       "      <td>0.0</td>\n",
       "      <td>0.0</td>\n",
       "      <td>...</td>\n",
       "      <td>0.0</td>\n",
       "      <td>0.0</td>\n",
       "      <td>0.0</td>\n",
       "      <td>0.0</td>\n",
       "      <td>0.0</td>\n",
       "      <td>0.0</td>\n",
       "      <td>0.0</td>\n",
       "      <td>0.0</td>\n",
       "      <td>0.0</td>\n",
       "      <td>0.0</td>\n",
       "    </tr>\n",
       "    <tr>\n",
       "      <th>2</th>\n",
       "      <td>0.0</td>\n",
       "      <td>0.0</td>\n",
       "      <td>0.0</td>\n",
       "      <td>0.0</td>\n",
       "      <td>0.0</td>\n",
       "      <td>0.0</td>\n",
       "      <td>0.0</td>\n",
       "      <td>0.0</td>\n",
       "      <td>0.0</td>\n",
       "      <td>0.0</td>\n",
       "      <td>...</td>\n",
       "      <td>0.0</td>\n",
       "      <td>0.0</td>\n",
       "      <td>0.0</td>\n",
       "      <td>0.0</td>\n",
       "      <td>0.0</td>\n",
       "      <td>0.0</td>\n",
       "      <td>0.0</td>\n",
       "      <td>0.0</td>\n",
       "      <td>0.0</td>\n",
       "      <td>0.0</td>\n",
       "    </tr>\n",
       "    <tr>\n",
       "      <th>3</th>\n",
       "      <td>0.0</td>\n",
       "      <td>0.0</td>\n",
       "      <td>0.0</td>\n",
       "      <td>0.0</td>\n",
       "      <td>0.0</td>\n",
       "      <td>0.0</td>\n",
       "      <td>1.0</td>\n",
       "      <td>0.0</td>\n",
       "      <td>0.0</td>\n",
       "      <td>0.0</td>\n",
       "      <td>...</td>\n",
       "      <td>0.0</td>\n",
       "      <td>0.0</td>\n",
       "      <td>0.0</td>\n",
       "      <td>0.0</td>\n",
       "      <td>0.0</td>\n",
       "      <td>0.0</td>\n",
       "      <td>0.0</td>\n",
       "      <td>0.0</td>\n",
       "      <td>0.0</td>\n",
       "      <td>0.0</td>\n",
       "    </tr>\n",
       "    <tr>\n",
       "      <th>4</th>\n",
       "      <td>0.0</td>\n",
       "      <td>0.0</td>\n",
       "      <td>0.0</td>\n",
       "      <td>0.0</td>\n",
       "      <td>0.0</td>\n",
       "      <td>0.0</td>\n",
       "      <td>0.0</td>\n",
       "      <td>0.0</td>\n",
       "      <td>0.0</td>\n",
       "      <td>0.0</td>\n",
       "      <td>...</td>\n",
       "      <td>0.0</td>\n",
       "      <td>0.0</td>\n",
       "      <td>0.0</td>\n",
       "      <td>0.0</td>\n",
       "      <td>0.0</td>\n",
       "      <td>0.0</td>\n",
       "      <td>0.0</td>\n",
       "      <td>0.0</td>\n",
       "      <td>0.0</td>\n",
       "      <td>0.0</td>\n",
       "    </tr>\n",
       "  </tbody>\n",
       "</table>\n",
       "<p>5 rows × 14027 columns</p>\n",
       "</div>"
      ],
      "text/plain": [
       "     '   'a   'i  'independ   'n   's    -   --  --hope  --with    ...      \\\n",
       "0  0.0  0.0  0.0        0.0  0.0  0.0  0.0  0.0     0.0     0.0    ...       \n",
       "1  0.0  0.0  0.0        0.0  0.0  0.0  0.0  0.0     0.0     0.0    ...       \n",
       "2  0.0  0.0  0.0        0.0  0.0  0.0  0.0  0.0     0.0     0.0    ...       \n",
       "3  0.0  0.0  0.0        0.0  0.0  0.0  1.0  0.0     0.0     0.0    ...       \n",
       "4  0.0  0.0  0.0        0.0  0.0  0.0  0.0  0.0     0.0     0.0    ...       \n",
       "\n",
       "   ziyi  zoe  zombi  zombie-land  zone  zooland  zoom  zucker  zwick  \\\n",
       "0   0.0  0.0    0.0          0.0   0.0      0.0   0.0     0.0    0.0   \n",
       "1   0.0  0.0    0.0          0.0   0.0      0.0   0.0     0.0    0.0   \n",
       "2   0.0  0.0    0.0          0.0   0.0      0.0   0.0     0.0    0.0   \n",
       "3   0.0  0.0    0.0          0.0   0.0      0.0   0.0     0.0    0.0   \n",
       "4   0.0  0.0    0.0          0.0   0.0      0.0   0.0     0.0    0.0   \n",
       "\n",
       "   zzzzzzzzz  \n",
       "0        0.0  \n",
       "1        0.0  \n",
       "2        0.0  \n",
       "3        0.0  \n",
       "4        0.0  \n",
       "\n",
       "[5 rows x 14027 columns]"
      ]
     },
     "execution_count": 314,
     "metadata": {},
     "output_type": "execute_result"
    }
   ],
   "source": [
    "bow_df[:5]"
   ]
  },
  {
   "cell_type": "code",
   "execution_count": 315,
   "metadata": {
    "collapsed": false
   },
   "outputs": [
    {
     "data": {
      "text/plain": [
       "[1, -1, 1, -1, 1]"
      ]
     },
     "execution_count": 315,
     "metadata": {},
     "output_type": "execute_result"
    }
   ],
   "source": [
    "label[:5]"
   ]
  },
  {
   "cell_type": "code",
   "execution_count": 316,
   "metadata": {
    "collapsed": false
   },
   "outputs": [],
   "source": [
    "def get_bow_df(text):\n",
    "    text_list = [x for x in text.split(\" \") if x in bow_df.columns]\n",
    "    bow_dict = get_bow(text_list)\n",
    "    return pd.DataFrame([bow_dict], columns=bow_df.columns).fillna(0)"
   ]
  },
  {
   "cell_type": "code",
   "execution_count": 317,
   "metadata": {
    "collapsed": false
   },
   "outputs": [
    {
     "data": {
      "text/plain": [
       "array([-1])"
      ]
     },
     "execution_count": 317,
     "metadata": {},
     "output_type": "execute_result"
    }
   ],
   "source": [
    "logreg.predict(get_bow_df(\"i have a pen\"))"
   ]
  },
  {
   "cell_type": "markdown",
   "metadata": {},
   "source": [
    "# 75. 素性の重み\n",
    "73で学習したロジスティック回帰モデルの中で，重みの高い素性トップ10と，重みの低い素性トップ10を確認せよ．"
   ]
  },
  {
   "cell_type": "code",
   "execution_count": 318,
   "metadata": {
    "collapsed": false
   },
   "outputs": [],
   "source": [
    "weight = pd.DataFrame(logreg.coef_[0], index=bow_df.columns, columns=[\"weight\"])"
   ]
  },
  {
   "cell_type": "code",
   "execution_count": 319,
   "metadata": {
    "collapsed": false
   },
   "outputs": [
    {
     "data": {
      "text/html": [
       "<div>\n",
       "<table border=\"1\" class=\"dataframe\">\n",
       "  <thead>\n",
       "    <tr style=\"text-align: right;\">\n",
       "      <th></th>\n",
       "      <th>weight</th>\n",
       "    </tr>\n",
       "  </thead>\n",
       "  <tbody>\n",
       "    <tr>\n",
       "      <th>refresh</th>\n",
       "      <td>2.185841</td>\n",
       "    </tr>\n",
       "    <tr>\n",
       "      <th>engross</th>\n",
       "      <td>2.094929</td>\n",
       "    </tr>\n",
       "    <tr>\n",
       "      <th>unexpect</th>\n",
       "      <td>1.974424</td>\n",
       "    </tr>\n",
       "    <tr>\n",
       "      <th>glorious</th>\n",
       "      <td>1.806989</td>\n",
       "    </tr>\n",
       "    <tr>\n",
       "      <th>wonder</th>\n",
       "      <td>1.743569</td>\n",
       "    </tr>\n",
       "    <tr>\n",
       "      <th>examin</th>\n",
       "      <td>1.647275</td>\n",
       "    </tr>\n",
       "    <tr>\n",
       "      <th>remark</th>\n",
       "      <td>1.623409</td>\n",
       "    </tr>\n",
       "    <tr>\n",
       "      <th>smarter</th>\n",
       "      <td>1.616108</td>\n",
       "    </tr>\n",
       "    <tr>\n",
       "      <th>beauti</th>\n",
       "      <td>1.601016</td>\n",
       "    </tr>\n",
       "    <tr>\n",
       "      <th>resist</th>\n",
       "      <td>1.581649</td>\n",
       "    </tr>\n",
       "  </tbody>\n",
       "</table>\n",
       "</div>"
      ],
      "text/plain": [
       "            weight\n",
       "refresh   2.185841\n",
       "engross   2.094929\n",
       "unexpect  1.974424\n",
       "glorious  1.806989\n",
       "wonder    1.743569\n",
       "examin    1.647275\n",
       "remark    1.623409\n",
       "smarter   1.616108\n",
       "beauti    1.601016\n",
       "resist    1.581649"
      ]
     },
     "execution_count": 319,
     "metadata": {},
     "output_type": "execute_result"
    }
   ],
   "source": [
    "# 重みの高い素性トップ10\n",
    "weight.sort_values(\"weight\", ascending=False).head(10)"
   ]
  },
  {
   "cell_type": "code",
   "execution_count": 320,
   "metadata": {
    "collapsed": false,
    "scrolled": true
   },
   "outputs": [
    {
     "data": {
      "text/html": [
       "<div>\n",
       "<table border=\"1\" class=\"dataframe\">\n",
       "  <thead>\n",
       "    <tr style=\"text-align: right;\">\n",
       "      <th></th>\n",
       "      <th>weight</th>\n",
       "    </tr>\n",
       "  </thead>\n",
       "  <tbody>\n",
       "    <tr>\n",
       "      <th>bore</th>\n",
       "      <td>-2.293490</td>\n",
       "    </tr>\n",
       "    <tr>\n",
       "      <th>wast</th>\n",
       "      <td>-1.905710</td>\n",
       "    </tr>\n",
       "    <tr>\n",
       "      <th>fail</th>\n",
       "      <td>-1.889893</td>\n",
       "    </tr>\n",
       "    <tr>\n",
       "      <th>dull</th>\n",
       "      <td>-1.885109</td>\n",
       "    </tr>\n",
       "    <tr>\n",
       "      <th>mediocr</th>\n",
       "      <td>-1.875435</td>\n",
       "    </tr>\n",
       "    <tr>\n",
       "      <th>routin</th>\n",
       "      <td>-1.806951</td>\n",
       "    </tr>\n",
       "    <tr>\n",
       "      <th>suppos</th>\n",
       "      <td>-1.718713</td>\n",
       "    </tr>\n",
       "    <tr>\n",
       "      <th>flat</th>\n",
       "      <td>-1.708781</td>\n",
       "    </tr>\n",
       "    <tr>\n",
       "      <th>generic</th>\n",
       "      <td>-1.652961</td>\n",
       "    </tr>\n",
       "    <tr>\n",
       "      <th>worst</th>\n",
       "      <td>-1.647806</td>\n",
       "    </tr>\n",
       "  </tbody>\n",
       "</table>\n",
       "</div>"
      ],
      "text/plain": [
       "           weight\n",
       "bore    -2.293490\n",
       "wast    -1.905710\n",
       "fail    -1.889893\n",
       "dull    -1.885109\n",
       "mediocr -1.875435\n",
       "routin  -1.806951\n",
       "suppos  -1.718713\n",
       "flat    -1.708781\n",
       "generic -1.652961\n",
       "worst   -1.647806"
      ]
     },
     "execution_count": 320,
     "metadata": {},
     "output_type": "execute_result"
    }
   ],
   "source": [
    "# 重みの低い素性トップ10\n",
    "weight.sort_values(\"weight\").head(10)"
   ]
  },
  {
   "cell_type": "markdown",
   "metadata": {},
   "source": [
    "# 76. ラベル付け\n",
    "学習データに対してロジスティック回帰モデルを適用し，正解のラベル，予測されたラベル，予測確率をタブ区切り形式で出力せよ．"
   ]
  },
  {
   "cell_type": "code",
   "execution_count": 322,
   "metadata": {
    "collapsed": false
   },
   "outputs": [],
   "source": [
    "predict_proba = logreg.predict_proba(bow_df)\n",
    "predict = logreg.predict(bow_df)\n",
    "with open('76.csv', 'w') as f:\n",
    "    for i, l in enumerate(label):\n",
    "        line = \"\\t\".join([str(x) for x in [l, predict[i], max(predict_proba[i])]])\n",
    "        f.write(line + \"\\n\")"
   ]
  },
  {
   "cell_type": "markdown",
   "metadata": {},
   "source": [
    "# 77. 正解率の計測\n",
    "76の出力を受け取り，予測の正解率，正例に関する適合率，再現率，F1スコアを求めるプログラムを作成せよ．"
   ]
  },
  {
   "cell_type": "code",
   "execution_count": 324,
   "metadata": {
    "collapsed": false
   },
   "outputs": [],
   "source": [
    "result77 = pd.read_csv('76.csv', header=None, sep='\\t', names=(\"label\", \"predict\", \"predict_proba\"))"
   ]
  },
  {
   "cell_type": "code",
   "execution_count": 325,
   "metadata": {
    "collapsed": false
   },
   "outputs": [],
   "source": [
    "def evaluate(result):\n",
    "    TP = len(result[(result['label'] == 1) & (result['predict'] == 1)])\n",
    "    FP = len(result[(result['label'] == -1) & (result['predict'] == 1)])\n",
    "    TN = len(result[(result['label'] == -1) & (result['predict'] == -1)])\n",
    "    FN = len(result[(result['label'] == 1) & (result['predict'] == -1)])\n",
    "    # print(TP, FP, TN, FN)\n",
    "    # print(len(result) == (TP+FP+TN+FN))\n",
    "    # 正解率\n",
    "    rate = (TP + TN) / len(result)\n",
    "    # 適合率\n",
    "    if (TP + FP) == 0:\n",
    "        precision = 0\n",
    "    else:\n",
    "        precision = TP/(TP + FP)\n",
    "    # 再現率\n",
    "    if (TP + FN) == 0:\n",
    "        recall = 0\n",
    "    else:\n",
    "        recall=TP/(TP + FN)\n",
    "    # F1\n",
    "    if recall + precision == 0:\n",
    "        F = 0\n",
    "    else:\n",
    "        F = 2 * recall * precision / (recall + precision)\n",
    "    return {\"rate\":rate, \"precision\":precision, \"recall\":recall, \"F\":F}"
   ]
  },
  {
   "cell_type": "code",
   "execution_count": 326,
   "metadata": {
    "collapsed": false
   },
   "outputs": [],
   "source": [
    "value = evaluate(result77)"
   ]
  },
  {
   "cell_type": "code",
   "execution_count": 327,
   "metadata": {
    "collapsed": false
   },
   "outputs": [
    {
     "data": {
      "text/plain": [
       "0.9445642997842604"
      ]
     },
     "execution_count": 327,
     "metadata": {},
     "output_type": "execute_result"
    }
   ],
   "source": [
    "value[\"rate\"]"
   ]
  },
  {
   "cell_type": "code",
   "execution_count": 328,
   "metadata": {
    "collapsed": false
   },
   "outputs": [
    {
     "data": {
      "text/plain": [
       "0.9498765900892349"
      ]
     },
     "execution_count": 328,
     "metadata": {},
     "output_type": "execute_result"
    }
   ],
   "source": [
    "value[\"precision\"]"
   ]
  },
  {
   "cell_type": "code",
   "execution_count": 329,
   "metadata": {
    "collapsed": false
   },
   "outputs": [
    {
     "data": {
      "text/plain": [
       "0.9386491557223264"
      ]
     },
     "execution_count": 329,
     "metadata": {},
     "output_type": "execute_result"
    }
   ],
   "source": [
    "value[\"recall\"]"
   ]
  },
  {
   "cell_type": "code",
   "execution_count": 330,
   "metadata": {
    "collapsed": false
   },
   "outputs": [
    {
     "data": {
      "text/plain": [
       "0.9442294989147871"
      ]
     },
     "execution_count": 330,
     "metadata": {},
     "output_type": "execute_result"
    }
   ],
   "source": [
    "value[\"F\"]"
   ]
  },
  {
   "cell_type": "markdown",
   "metadata": {},
   "source": [
    "# 78. 5分割交差検定\n",
    "76-77の実験では，学習に用いた事例を評価にも用いたため，正当な評価とは言えない．すなわち，分類器が訓練事例を丸暗記する際の性能を評価しており，モデルの汎化性能を測定していない．そこで，5分割交差検定により，極性分類の正解率，適合率，再現率，F1スコアを求めよ．"
   ]
  },
  {
   "cell_type": "code",
   "execution_count": 335,
   "metadata": {
    "collapsed": false,
    "scrolled": true
   },
   "outputs": [],
   "source": [
    "length = len(bow_df) // 5\n",
    "cross_list = []\n",
    "for i in range(5):\n",
    "    train_df = (bow_df[:length * i] + bow_df[length * (i + 1):]).fillna(0)\n",
    "    train_label = label[:length * i] + label[length * (i + 1):]\n",
    "    test_df = bow_df[length * i:length * (i + 1)]\n",
    "    test_label = label[length * i:length * (i + 1)]\n",
    "    logreg = LogisticRegression()\n",
    "    logreg.fit(train_df, train_label)\n",
    "    result = pd.DataFrame(columns=['label', 'predict'])\n",
    "    result['label'] = test_label \n",
    "    result['predict'] = logreg.predict(test_df)\n",
    "    value = evaluate(result)\n",
    "    cross_list.append(value)"
   ]
  },
  {
   "cell_type": "code",
   "execution_count": 336,
   "metadata": {
    "collapsed": false
   },
   "outputs": [
    {
     "data": {
      "text/html": [
       "<div>\n",
       "<table border=\"1\" class=\"dataframe\">\n",
       "  <thead>\n",
       "    <tr style=\"text-align: right;\">\n",
       "      <th></th>\n",
       "      <th>F</th>\n",
       "      <th>precision</th>\n",
       "      <th>rate</th>\n",
       "      <th>recall</th>\n",
       "    </tr>\n",
       "  </thead>\n",
       "  <tbody>\n",
       "    <tr>\n",
       "      <th>0</th>\n",
       "      <td>0.000000</td>\n",
       "      <td>0.000000</td>\n",
       "      <td>0.487336</td>\n",
       "      <td>0.0</td>\n",
       "    </tr>\n",
       "    <tr>\n",
       "      <th>1</th>\n",
       "      <td>0.654465</td>\n",
       "      <td>0.486398</td>\n",
       "      <td>0.486398</td>\n",
       "      <td>1.0</td>\n",
       "    </tr>\n",
       "    <tr>\n",
       "      <th>2</th>\n",
       "      <td>0.000000</td>\n",
       "      <td>0.000000</td>\n",
       "      <td>0.490150</td>\n",
       "      <td>0.0</td>\n",
       "    </tr>\n",
       "    <tr>\n",
       "      <th>3</th>\n",
       "      <td>0.651060</td>\n",
       "      <td>0.482645</td>\n",
       "      <td>0.482645</td>\n",
       "      <td>1.0</td>\n",
       "    </tr>\n",
       "    <tr>\n",
       "      <th>4</th>\n",
       "      <td>0.000000</td>\n",
       "      <td>0.000000</td>\n",
       "      <td>0.492026</td>\n",
       "      <td>0.0</td>\n",
       "    </tr>\n",
       "  </tbody>\n",
       "</table>\n",
       "</div>"
      ],
      "text/plain": [
       "          F  precision      rate  recall\n",
       "0  0.000000   0.000000  0.487336     0.0\n",
       "1  0.654465   0.486398  0.486398     1.0\n",
       "2  0.000000   0.000000  0.490150     0.0\n",
       "3  0.651060   0.482645  0.482645     1.0\n",
       "4  0.000000   0.000000  0.492026     0.0"
      ]
     },
     "execution_count": 336,
     "metadata": {},
     "output_type": "execute_result"
    }
   ],
   "source": [
    "pd.DataFrame(cross_list)"
   ]
  },
  {
   "cell_type": "code",
   "execution_count": 337,
   "metadata": {
    "collapsed": false
   },
   "outputs": [
    {
     "data": {
      "text/plain": [
       "F            0.261105\n",
       "precision    0.193809\n",
       "rate         0.487711\n",
       "recall       0.400000\n",
       "dtype: float64"
      ]
     },
     "execution_count": 337,
     "metadata": {},
     "output_type": "execute_result"
    }
   ],
   "source": [
    "pd.DataFrame(cross_list).mean()"
   ]
  },
  {
   "cell_type": "code",
   "execution_count": null,
   "metadata": {
    "collapsed": true
   },
   "outputs": [],
   "source": []
  }
 ],
 "metadata": {
  "kernelspec": {
   "display_name": "Python 3",
   "language": "python",
   "name": "python3"
  },
  "language_info": {
   "codemirror_mode": {
    "name": "ipython",
    "version": 3
   },
   "file_extension": ".py",
   "mimetype": "text/x-python",
   "name": "python",
   "nbconvert_exporter": "python",
   "pygments_lexer": "ipython3",
   "version": "3.5.0"
  }
 },
 "nbformat": 4,
 "nbformat_minor": 1
}
