{
 "cells": [
  {
   "cell_type": "code",
   "execution_count": 2,
   "metadata": {
    "collapsed": true
   },
   "outputs": [],
   "source": [
    "import json\n",
    "import re "
   ]
  },
  {
   "cell_type": "code",
   "execution_count": 3,
   "metadata": {
    "collapsed": false
   },
   "outputs": [],
   "source": [
    "jawiki = []\n",
    "for line in open('jawiki-country.json','r'):\n",
    "    jawiki.append(json.loads(line))"
   ]
  },
  {
   "cell_type": "code",
   "execution_count": 4,
   "metadata": {
    "collapsed": false
   },
   "outputs": [
    {
     "data": {
      "text/plain": [
       "['{{redirect|UK}}',\n",
       " '{{基礎情報 国',\n",
       " '|略名 = イギリス',\n",
       " '|日本語国名 = グレートブリテン及び北アイルランド連合王国',\n",
       " '|公式国名 = {{lang|en|United Kingdom of Great Britain and Northern Ireland}}<ref>英語以外での正式国名:<br/>',\n",
       " '*{{lang|gd|An Rìoghachd Aonaichte na Breatainn Mhòr agus Eirinn mu Thuath}}（[[スコットランド・ゲール語]]）<br/>',\n",
       " '*{{lang|cy|Teyrnas Gyfunol Prydain Fawr a Gogledd Iwerddon}}（[[ウェールズ語]]）<br/>',\n",
       " '*{{lang|ga|Ríocht Aontaithe na Breataine Móire agus Tuaisceart na hÉireann}}（[[アイルランド語]]）<br/>',\n",
       " '*{{lang|kw|An Rywvaneth Unys a Vreten Veur hag Iwerdhon Glédh}}（[[コーンウォール語]]）<br/>',\n",
       " '*{{lang|sco|Unitit Kinrick o Great Breetain an Northren Ireland}}（[[スコットランド語]]）<br/>']"
      ]
     },
     "execution_count": 4,
     "metadata": {},
     "output_type": "execute_result"
    }
   ],
   "source": [
    "# 20\n",
    "for country in jawiki:\n",
    "    if country['title'] == 'イギリス':\n",
    "        text = country['text'].split(\"\\n\")\n",
    "text[:10]"
   ]
  },
  {
   "cell_type": "code",
   "execution_count": 5,
   "metadata": {
    "collapsed": false
   },
   "outputs": [
    {
     "name": "stdout",
     "output_type": "stream",
     "text": [
      "[[Category:イギリス|*]]\n",
      "[[Category:英連邦王国|*]]\n",
      "[[Category:G8加盟国]]\n",
      "[[Category:欧州連合加盟国]]\n",
      "[[Category:海洋国家]]\n",
      "[[Category:君主国]]\n",
      "[[Category:島国|くれいとふりてん]]\n",
      "[[Category:1801年に設立された州・地域]]\n"
     ]
    }
   ],
   "source": [
    "# 21\n",
    "category_p = re.compile(\"^\\[\\[Category:.+\\]\\]$\")\n",
    "for line in text:\n",
    "     if category_p.match(line):\n",
    "            print(line)"
   ]
  },
  {
   "cell_type": "code",
   "execution_count": 6,
   "metadata": {
    "collapsed": false
   },
   "outputs": [
    {
     "name": "stdout",
     "output_type": "stream",
     "text": [
      "イギリス|*\n",
      "英連邦王国|*\n",
      "G8加盟国\n",
      "欧州連合加盟国\n",
      "海洋国家\n",
      "君主国\n",
      "島国|くれいとふりてん\n",
      "1801年に設立された州・地域\n"
     ]
    }
   ],
   "source": [
    "# 22\n",
    "category_p = re.compile(\"^\\[\\[Category:.+\\]\\]$\")\n",
    "for line in text:\n",
    "     if category_p.match(line):\n",
    "            print(line[11:-2])"
   ]
  },
  {
   "cell_type": "code",
   "execution_count": 7,
   "metadata": {
    "collapsed": false
   },
   "outputs": [
    {
     "name": "stdout",
     "output_type": "stream",
     "text": [
      "国名 1\n",
      "歴史 1\n",
      "地理 1\n",
      "気候 2\n",
      "政治 1\n",
      "外交と軍事 1\n",
      "地方行政区分 1\n",
      "主要都市 2\n",
      "科学技術 1\n",
      "経済 1\n",
      "鉱業 2\n",
      "農業 2\n",
      "貿易 2\n",
      "通貨 2\n",
      "企業 2\n",
      "交通 1\n",
      "道路 2\n",
      "鉄道 2\n",
      "海運 2\n",
      "航空 2\n",
      "通信 1\n",
      "国民 1\n",
      "言語 2\n",
      "宗教 2\n",
      " 婚姻  2\n",
      "教育 2\n",
      "文化 1\n",
      "食文化 2\n",
      "文学 2\n",
      " 哲学  2\n",
      "音楽 2\n",
      "イギリスのポピュラー音楽 3\n",
      "映画 2\n",
      "コメディ 2\n",
      "国花 2\n",
      "世界遺産 2\n",
      "祝祭日 2\n",
      "スポーツ 1\n",
      "サッカー 2\n",
      "競馬 2\n",
      "モータースポーツ 2\n",
      "脚注 1\n",
      "関連項目 1\n",
      "外部リンク 1\n"
     ]
    }
   ],
   "source": [
    "# 23\n",
    "s1_p = re.compile(\"^==.+==$\")\n",
    "s2_p = re.compile(\"^===.+===$\")\n",
    "s3_p = re.compile(\"^====.+====$\")\n",
    "for line in text:\n",
    "    if s3_p.match(line):\n",
    "            print(line[4:-4],3)\n",
    "    elif s2_p.match(line):\n",
    "            print(line[3:-3],2)\n",
    "    elif s1_p.match(line):\n",
    "            print(line[2:-2],1)"
   ]
  },
  {
   "cell_type": "code",
   "execution_count": 8,
   "metadata": {
    "collapsed": false
   },
   "outputs": [
    {
     "name": "stdout",
     "output_type": "stream",
     "text": [
      "PalaceOfWestminsterAtNight.jpg\n",
      "Westminster Abbey - West Door.jpg\n",
      "Edinburgh Cockburn St dsc06789.jpg\n",
      "Canterbury Cathedral - Portal Nave Cross-spire.jpeg\n",
      "Kew Gardens Palm House, London - July 2009.jpg\n",
      "2005-06-27 - United Kingdom - England - London - Greenwich.jpg\n",
      "Stonehenge2007 07 30.jpg\n",
      "Yard2.jpg\n",
      "Durham Kathedrale Nahaufnahme.jpg\n",
      "Roman Baths in Bath Spa, England - July 2006.jpg\n",
      "Fountains Abbey view02 2005-08-27.jpg\n",
      "Blenheim Palace IMG 3673.JPG\n",
      "Liverpool Pier Head by night.jpg\n",
      "Hadrian's Wall view near Greenhead.jpg\n",
      "London Tower (1).JPG\n"
     ]
    }
   ],
   "source": [
    "# 24\n",
    "file_p = re.compile(\"^ファイル:.+\")\n",
    "for line in text:\n",
    "     if file_p.match(line):\n",
    "            print(line[5:].split(\"|\")[0])"
   ]
  },
  {
   "cell_type": "code",
   "execution_count": 9,
   "metadata": {
    "collapsed": false
   },
   "outputs": [
    {
     "data": {
      "text/plain": [
       "{'GDP/人': '36,727<ref name\"imf-statistics-gdp\" />',\n",
       " 'GDP値': '2兆3162億<ref name\"imf-statistics-gdp\" />',\n",
       " 'GDP値MER': '2兆4337億<ref name\"imf-statistics-gdp\" />',\n",
       " 'GDP値元': '1兆5478億<ref name\"imf-statistics-gdp\">[http://www.imf.org/external/pubs/ft/weo/2012/02/weodata/weorept.aspx?pr.x70&pr.y13&sy2010&ey2012&scsm1&ssd1&sortcountry&ds.&br1&c112&sNGDP%2CNGDPD%2CPPPGDP%2CPPPPC&grp0&a IMF>Data and Statistics>World Economic Outlook Databases>By Countrise>United Kingdom]</ref>',\n",
       " 'GDP統計年': '2012',\n",
       " 'GDP統計年MER': '2012',\n",
       " 'GDP統計年元': '2012',\n",
       " 'GDP順位': '6',\n",
       " 'GDP順位MER': '5',\n",
       " 'ISO 3166-1': 'GB / GBR',\n",
       " 'ccTLD': '[[.uk]] / [[.gb]]<ref>使用は.ukに比べ圧倒的少数。</ref>',\n",
       " '人口値': '63,181,775<ref>[http://esa.un.org/unpd/wpp/Excel-Data/population.htm United Nations Department of Economic and Social Affairs>Population Division>Data>Population>Total Population]</ref>',\n",
       " '人口大きさ': '1 E7',\n",
       " '人口密度値': '246',\n",
       " '人口統計年': '2011',\n",
       " '人口順位': '22',\n",
       " '位置画像': 'Location_UK_EU_Europe_001.svg',\n",
       " '元首等氏名': '[[エリザベス2世]]',\n",
       " '元首等肩書': '[[イギリスの君主|女王]]',\n",
       " '公式国名': '{{lang|en|United Kingdom of Great Britain and Northern Ireland}}<ref>英語以外での正式国名:<br/>',\n",
       " '公用語': '[[英語]]（事実上）',\n",
       " '国旗画像': 'Flag of the United Kingdom.svg',\n",
       " '国歌': '[[女王陛下万歳|神よ女王陛下を守り給え]]',\n",
       " '国章リンク': '（[[イギリスの国章|国章]]）',\n",
       " '国章画像': '[[ファイル:Royal Coat of Arms of the United Kingdom.svg|85px|イギリスの国章]]',\n",
       " '国際電話番号': '44',\n",
       " '夏時間': '+1',\n",
       " '建国形態': '建国',\n",
       " '日本語国名': 'グレートブリテン及び北アイルランド連合王国',\n",
       " '時間帯': '±0',\n",
       " '最大都市': 'ロンドン',\n",
       " '標語': '{{lang|fr|Dieu et mon droit}}<br/>（[[フランス語]]:神と私の権利）',\n",
       " '水面積率': '1.3%',\n",
       " '注記': '<references />',\n",
       " '略名': 'イギリス',\n",
       " '確立年月日1': '[[927年]]／[[843年]]',\n",
       " '確立年月日2': '[[1707年]]',\n",
       " '確立年月日3': '[[1801年]]',\n",
       " '確立年月日4': '[[1927年]]',\n",
       " '確立形態1': '[[イングランド王国]]／[[スコットランド王国]]<br />（両国とも[[連合法 (1707年)|1707年連合法]]まで）',\n",
       " '確立形態2': '[[グレートブリテン王国]]建国<br />（[[連合法 (1707年)|1707年連合法]]）',\n",
       " '確立形態3': '[[グレートブリテン及びアイルランド連合王国]]建国<br />（[[連合法 (1800年)|1800年連合法]]）',\n",
       " '確立形態4': \"現在の国号「'''グレートブリテン及び北アイルランド連合王国'''」に変更\",\n",
       " '通貨': '[[スターリング・ポンド|UKポンド]] (&pound;)',\n",
       " '通貨コード': 'GBP',\n",
       " '面積値': '244,820',\n",
       " '面積大きさ': '1 E11',\n",
       " '面積順位': '76',\n",
       " '首相等氏名': '[[デーヴィッド・キャメロン]]',\n",
       " '首相等肩書': '[[イギリスの首相|首相]]',\n",
       " '首都': '[[ロンドン]]'}"
      ]
     },
     "execution_count": 9,
     "metadata": {},
     "output_type": "execute_result"
    }
   ],
   "source": [
    "# 25\n",
    "info_p = re.compile(\"^\\|.+=.+$\")\n",
    "info = {}\n",
    "for line in text:\n",
    "    if info_p.match(line):\n",
    "        param = line[1:].split(\"=\")\n",
    "        info[param[0].strip()] = \"\".join(param[1:]).strip()\n",
    "    if \"}}\" == line:\n",
    "        break;\n",
    "info"
   ]
  },
  {
   "cell_type": "code",
   "execution_count": 14,
   "metadata": {
    "collapsed": false
   },
   "outputs": [
    {
     "data": {
      "text/plain": [
       "{'GDP/人': '36,727<ref name\"imf-statistics-gdp\" />',\n",
       " 'GDP値': '2兆3162億<ref name\"imf-statistics-gdp\" />',\n",
       " 'GDP値MER': '2兆4337億<ref name\"imf-statistics-gdp\" />',\n",
       " 'GDP値元': '1兆5478億<ref name\"imf-statistics-gdp\">[http://www.imf.org/external/pubs/ft/weo/2012/02/weodata/weorept.aspx?pr.x70&pr.y13&sy2010&ey2012&scsm1&ssd1&sortcountry&ds.&br1&c112&sNGDP%2CNGDPD%2CPPPGDP%2CPPPPC&grp0&a IMF>Data and Statistics>World Economic Outlook Databases>By Countrise>United Kingdom]</ref>',\n",
       " 'GDP統計年': '2012',\n",
       " 'GDP統計年MER': '2012',\n",
       " 'GDP統計年元': '2012',\n",
       " 'GDP順位': '6',\n",
       " 'GDP順位MER': '5',\n",
       " 'ISO 3166-1': 'GB / GBR',\n",
       " 'ccTLD': '[[.uk]] / [[.gb]]<ref>使用は.ukに比べ圧倒的少数。</ref>',\n",
       " '人口値': '63,181,775<ref>[http://esa.un.org/unpd/wpp/Excel-Data/population.htm United Nations Department of Economic and Social Affairs>Population Division>Data>Population>Total Population]</ref>',\n",
       " '人口大きさ': '1 E7',\n",
       " '人口密度値': '246',\n",
       " '人口統計年': '2011',\n",
       " '人口順位': '22',\n",
       " '位置画像': 'Location_UK_EU_Europe_001.svg',\n",
       " '元首等氏名': '[[エリザベス2世]]',\n",
       " '元首等肩書': '[[イギリスの君主|女王]]',\n",
       " '公式国名': '{{lang|en|United Kingdom of Great Britain and Northern Ireland}}<ref>英語以外での正式国名:<br/>',\n",
       " '公用語': '[[英語]]（事実上）',\n",
       " '国旗画像': 'Flag of the United Kingdom.svg',\n",
       " '国歌': '[[女王陛下万歳|神よ女王陛下を守り給え]]',\n",
       " '国章リンク': '（[[イギリスの国章|国章]]）',\n",
       " '国章画像': '[[ファイル:Royal Coat of Arms of the United Kingdom.svg|85px|イギリスの国章]]',\n",
       " '国際電話番号': '44',\n",
       " '夏時間': '+1',\n",
       " '建国形態': '建国',\n",
       " '日本語国名': 'グレートブリテン及び北アイルランド連合王国',\n",
       " '時間帯': '±0',\n",
       " '最大都市': 'ロンドン',\n",
       " '標語': '{{lang|fr|Dieu et mon droit}}<br/>（[[フランス語]]:神と私の権利）',\n",
       " '水面積率': '1.3%',\n",
       " '注記': '<references />',\n",
       " '略名': 'イギリス',\n",
       " '確立年月日1': '[[927年]]／[[843年]]',\n",
       " '確立年月日2': '[[1707年]]',\n",
       " '確立年月日3': '[[1801年]]',\n",
       " '確立年月日4': '[[1927年]]',\n",
       " '確立形態1': '[[イングランド王国]]／[[スコットランド王国]]<br />（両国とも[[連合法 (1707年)|1707年連合法]]まで）',\n",
       " '確立形態2': '[[グレートブリテン王国]]建国<br />（[[連合法 (1707年)|1707年連合法]]）',\n",
       " '確立形態3': '[[グレートブリテン及びアイルランド連合王国]]建国<br />（[[連合法 (1800年)|1800年連合法]]）',\n",
       " '確立形態4': '現在の国号「グレートブリテン及び北アイルランド連合王国」に変更',\n",
       " '通貨': '[[スターリング・ポンド|UKポンド]] (&pound;)',\n",
       " '通貨コード': 'GBP',\n",
       " '面積値': '244,820',\n",
       " '面積大きさ': '1 E11',\n",
       " '面積順位': '76',\n",
       " '首相等氏名': '[[デーヴィッド・キャメロン]]',\n",
       " '首相等肩書': '[[イギリスの首相|首相]]',\n",
       " '首都': '[[ロンドン]]'}"
      ]
     },
     "execution_count": 14,
     "metadata": {},
     "output_type": "execute_result"
    }
   ],
   "source": [
    "# 26\n",
    "info_p = re.compile(\"^\\|.+=.+$\")\n",
    "info = {}\n",
    "for line in text:\n",
    "    if info_p.match(line):\n",
    "        param = line[1:].split(\"=\")\n",
    "        info[param[0].strip()] = \"\".join(param[1:]).replace(\"'''\",\"\").strip()\n",
    "    if \"}}\" == line:\n",
    "        break;\n",
    "info"
   ]
  },
  {
   "cell_type": "code",
   "execution_count": 15,
   "metadata": {
    "collapsed": false
   },
   "outputs": [
    {
     "data": {
      "text/plain": [
       "{'GDP/人': '36,727<ref name\"imf-statistics-gdp\" />',\n",
       " 'GDP値': '2兆3162億<ref name\"imf-statistics-gdp\" />',\n",
       " 'GDP値MER': '2兆4337億<ref name\"imf-statistics-gdp\" />',\n",
       " 'GDP値元': '1兆5478億<ref name\"imf-statistics-gdp\">[http://www.imf.org/external/pubs/ft/weo/2012/02/weodata/weorept.aspx?pr.x70&pr.y13&sy2010&ey2012&scsm1&ssd1&sortcountry&ds.&br1&c112&sNGDP%2CNGDPD%2CPPPGDP%2CPPPPC&grp0&a IMF>Data and Statistics>World Economic Outlook Databases>By Countrise>United Kingdom]</ref>',\n",
       " 'GDP統計年': '2012',\n",
       " 'GDP統計年MER': '2012',\n",
       " 'GDP統計年元': '2012',\n",
       " 'GDP順位': '6',\n",
       " 'GDP順位MER': '5',\n",
       " 'ISO 3166-1': 'GB / GBR',\n",
       " 'ccTLD': '.uk / .gb<ref>使用は.ukに比べ圧倒的少数。</ref>',\n",
       " '人口値': '63,181,775<ref>[http://esa.un.org/unpd/wpp/Excel-Data/population.htm United Nations Department of Economic and Social Affairs>Population Division>Data>Population>Total Population]</ref>',\n",
       " '人口大きさ': '1 E7',\n",
       " '人口密度値': '246',\n",
       " '人口統計年': '2011',\n",
       " '人口順位': '22',\n",
       " '位置画像': 'Location_UK_EU_Europe_001.svg',\n",
       " '元首等氏名': 'エリザベス2世',\n",
       " '元首等肩書': 'イギリスの君主|女王',\n",
       " '公式国名': '{{lang|en|United Kingdom of Great Britain and Northern Ireland}}<ref>英語以外での正式国名:<br/>',\n",
       " '公用語': '英語（事実上）',\n",
       " '国旗画像': 'Flag of the United Kingdom.svg',\n",
       " '国歌': '女王陛下万歳|神よ女王陛下を守り給え',\n",
       " '国章リンク': '（イギリスの国章|国章）',\n",
       " '国章画像': 'ファイル:Royal Coat of Arms of the United Kingdom.svg|85px|イギリスの国章',\n",
       " '国際電話番号': '44',\n",
       " '夏時間': '+1',\n",
       " '建国形態': '建国',\n",
       " '日本語国名': 'グレートブリテン及び北アイルランド連合王国',\n",
       " '時間帯': '±0',\n",
       " '最大都市': 'ロンドン',\n",
       " '標語': '{{lang|fr|Dieu et mon droit}}<br/>（フランス語:神と私の権利）',\n",
       " '水面積率': '1.3%',\n",
       " '注記': '<references />',\n",
       " '略名': 'イギリス',\n",
       " '確立年月日1': '927年／843年',\n",
       " '確立年月日2': '1707年',\n",
       " '確立年月日3': '1801年',\n",
       " '確立年月日4': '1927年',\n",
       " '確立形態1': 'イングランド王国／スコットランド王国<br />（両国とも連合法 (1707年)|1707年連合法まで）',\n",
       " '確立形態2': 'グレートブリテン王国建国<br />（連合法 (1707年)|1707年連合法）',\n",
       " '確立形態3': 'グレートブリテン及びアイルランド連合王国建国<br />（連合法 (1800年)|1800年連合法）',\n",
       " '確立形態4': '現在の国号「グレートブリテン及び北アイルランド連合王国」に変更',\n",
       " '通貨': 'スターリング・ポンド|UKポンド (&pound;)',\n",
       " '通貨コード': 'GBP',\n",
       " '面積値': '244,820',\n",
       " '面積大きさ': '1 E11',\n",
       " '面積順位': '76',\n",
       " '首相等氏名': 'デーヴィッド・キャメロン',\n",
       " '首相等肩書': 'イギリスの首相|首相',\n",
       " '首都': 'ロンドン'}"
      ]
     },
     "execution_count": 15,
     "metadata": {},
     "output_type": "execute_result"
    }
   ],
   "source": [
    "# 27\n",
    "info_p = re.compile(\"^\\|.+=.+$\")\n",
    "info = {}\n",
    "for line in text:\n",
    "    if info_p.match(line):\n",
    "        param = line[1:].split(\"=\")\n",
    "        info[param[0].strip()] = \"\".join(param[1:]).replace(\"'''\",\"\").replace(']]','').replace('[[','').strip()\n",
    "    if \"}}\" == line:\n",
    "        break;\n",
    "info"
   ]
  },
  {
   "cell_type": "code",
   "execution_count": 18,
   "metadata": {
    "collapsed": false
   },
   "outputs": [
    {
     "data": {
      "text/plain": [
       "{'GDP/人': '36,727',\n",
       " 'GDP値': '2兆3162億',\n",
       " 'GDP値MER': '2兆4337億',\n",
       " 'GDP値元': '1兆5478億',\n",
       " 'GDP統計年': '2012',\n",
       " 'GDP統計年MER': '2012',\n",
       " 'GDP統計年元': '2012',\n",
       " 'GDP順位': '6',\n",
       " 'GDP順位MER': '5',\n",
       " 'ISO 3166-1': 'GB / GBR',\n",
       " 'ccTLD': '.uk / .gb',\n",
       " '人口値': '63,181,775',\n",
       " '人口大きさ': '1 E7',\n",
       " '人口密度値': '246',\n",
       " '人口統計年': '2011',\n",
       " '人口順位': '22',\n",
       " '位置画像': 'Location_UK_EU_Europe_001.svg',\n",
       " '元首等氏名': 'エリザベス2世',\n",
       " '元首等肩書': 'イギリスの君主|女王',\n",
       " '公式国名': '{{lang|en|United Kingdom of Great Britain and Northern Ireland}}',\n",
       " '公用語': '英語（事実上）',\n",
       " '国旗画像': 'Flag of the United Kingdom.svg',\n",
       " '国歌': '女王陛下万歳|神よ女王陛下を守り給え',\n",
       " '国章リンク': '（イギリスの国章|国章）',\n",
       " '国章画像': 'ファイル:Royal Coat of Arms of the United Kingdom.svg|85px|イギリスの国章',\n",
       " '国際電話番号': '44',\n",
       " '夏時間': '+1',\n",
       " '建国形態': '建国',\n",
       " '日本語国名': 'グレートブリテン及び北アイルランド連合王国',\n",
       " '時間帯': '±0',\n",
       " '最大都市': 'ロンドン',\n",
       " '標語': '{{lang|fr|Dieu et mon droit}}<br/>（フランス語:神と私の権利）',\n",
       " '水面積率': '1.3%',\n",
       " '注記': '',\n",
       " '略名': 'イギリス',\n",
       " '確立年月日1': '927年／843年',\n",
       " '確立年月日2': '1707年',\n",
       " '確立年月日3': '1801年',\n",
       " '確立年月日4': '1927年',\n",
       " '確立形態1': 'イングランド王国／スコットランド王国（両国とも連合法 (1707年)|1707年連合法まで）',\n",
       " '確立形態2': 'グレートブリテン王国建国（連合法 (1707年)|1707年連合法）',\n",
       " '確立形態3': 'グレートブリテン及びアイルランド連合王国建国（連合法 (1800年)|1800年連合法）',\n",
       " '確立形態4': '現在の国号「グレートブリテン及び北アイルランド連合王国」に変更',\n",
       " '通貨': 'スターリング・ポンド|UKポンド (&pound;)',\n",
       " '通貨コード': 'GBP',\n",
       " '面積値': '244,820',\n",
       " '面積大きさ': '1 E11',\n",
       " '面積順位': '76',\n",
       " '首相等氏名': 'デーヴィッド・キャメロン',\n",
       " '首相等肩書': 'イギリスの首相|首相',\n",
       " '首都': 'ロンドン'}"
      ]
     },
     "execution_count": 18,
     "metadata": {},
     "output_type": "execute_result"
    }
   ],
   "source": [
    "# 28\n",
    "info_p = re.compile(\"^\\|.+=.+$\")\n",
    "info = {}\n",
    "for line in text:\n",
    "    if info_p.match(line):\n",
    "        line = line.split(\"<ref\")[0]\n",
    "        param = line[1:].split(\"=\")\n",
    "        info[param[0].strip()] = \"\".join(param[1:]).replace(\"'''\",\"\").replace(']]','').replace('[[','').replace(\"<br />\",\"\").strip()\n",
    "    if \"}}\" == line:\n",
    "        break;\n",
    "info"
   ]
  },
  {
   "cell_type": "code",
   "execution_count": 20,
   "metadata": {
    "collapsed": false
   },
   "outputs": [
    {
     "data": {
      "text/plain": [
       "'https://ja.wikipedia.org/wiki/イギリス#/media/File:Flag of the United Kingdom.svg'"
      ]
     },
     "execution_count": 20,
     "metadata": {},
     "output_type": "execute_result"
    }
   ],
   "source": [
    "# 29\n",
    "url = \"https://ja.wikipedia.org/wiki/\" + info['略名']+ \"#/media/File:\" + image\n",
    "url"
   ]
  },
  {
   "cell_type": "code",
   "execution_count": null,
   "metadata": {
    "collapsed": true
   },
   "outputs": [],
   "source": []
  }
 ],
 "metadata": {
  "kernelspec": {
   "display_name": "Python 3",
   "language": "python",
   "name": "python3"
  },
  "language_info": {
   "codemirror_mode": {
    "name": "ipython",
    "version": 3
   },
   "file_extension": ".py",
   "mimetype": "text/x-python",
   "name": "python",
   "nbconvert_exporter": "python",
   "pygments_lexer": "ipython3",
   "version": "3.5.0"
  }
 },
 "nbformat": 4,
 "nbformat_minor": 1
}
