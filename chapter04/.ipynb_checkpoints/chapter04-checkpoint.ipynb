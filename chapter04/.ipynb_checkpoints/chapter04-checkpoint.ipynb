{
 "cells": [
  {
   "cell_type": "code",
   "execution_count": 5,
   "metadata": {
    "collapsed": true
   },
   "outputs": [],
   "source": [
    "import pandas as pd\n",
    "import numpy as np\n",
    "from matplotlib import pyplot as plt\n",
    "%matplotlib inline\n",
    "# mecab neko.txt > neko.txt.mecab "
   ]
  },
  {
   "cell_type": "code",
   "execution_count": 10,
   "metadata": {
    "collapsed": false
   },
   "outputs": [],
   "source": [
    "# 30\n",
    "with open('neko.txt.mecab') as f:\n",
    "    source = f.readlines()\n",
    "neko = []\n",
    "for line in source:\n",
    "    if '\\t' in line:\n",
    "        line = line.split('\\t')\n",
    "        surface = line[0]\n",
    "        line = line[1][:-1].split(\",\")\n",
    "        val = {\n",
    "            'surface':surface,\n",
    "            'base':line[6],\n",
    "            'pos':line[0],\n",
    "            'pos1':line[1]\n",
    "        }\n",
    "        neko.append(val)"
   ]
  },
  {
   "cell_type": "code",
   "execution_count": 11,
   "metadata": {
    "collapsed": false
   },
   "outputs": [
    {
     "data": {
      "text/plain": [
       "[{'base': '一', 'pos': '名詞', 'pos1': '数', 'surface': '一'},\n",
       " {'base': '\\u3000', 'pos': '記号', 'pos1': '空白', 'surface': '\\u3000'},\n",
       " {'base': '吾輩は猫である', 'pos': '名詞', 'pos1': '固有名詞', 'surface': '吾輩は猫である'},\n",
       " {'base': '。', 'pos': '記号', 'pos1': '句点', 'surface': '。'},\n",
       " {'base': '名前', 'pos': '名詞', 'pos1': '一般', 'surface': '名前'},\n",
       " {'base': 'は', 'pos': '助詞', 'pos1': '係助詞', 'surface': 'は'},\n",
       " {'base': 'まだ', 'pos': '副詞', 'pos1': '助詞類接続', 'surface': 'まだ'},\n",
       " {'base': '無い', 'pos': '形容詞', 'pos1': '自立', 'surface': '無い'},\n",
       " {'base': '。', 'pos': '記号', 'pos1': '句点', 'surface': '。'},\n",
       " {'base': '\\u3000', 'pos': '記号', 'pos1': '空白', 'surface': '\\u3000'},\n",
       " {'base': 'どこ', 'pos': '名詞', 'pos1': '代名詞', 'surface': 'どこ'},\n",
       " {'base': 'で', 'pos': '助詞', 'pos1': '格助詞', 'surface': 'で'},\n",
       " {'base': '生れる', 'pos': '動詞', 'pos1': '自立', 'surface': '生れ'},\n",
       " {'base': 'た', 'pos': '助動詞', 'pos1': '*', 'surface': 'た'},\n",
       " {'base': '火遁', 'pos': '名詞', 'pos1': '一般', 'surface': 'かとん'},\n",
       " {'base': 'と', 'pos': '助詞', 'pos1': '格助詞', 'surface': 'と'},\n",
       " {'base': '見当', 'pos': '名詞', 'pos1': 'サ変接続', 'surface': '見当'},\n",
       " {'base': 'が', 'pos': '助詞', 'pos1': '格助詞', 'surface': 'が'},\n",
       " {'base': 'つく', 'pos': '動詞', 'pos1': '自立', 'surface': 'つか'},\n",
       " {'base': 'ぬ', 'pos': '助動詞', 'pos1': '*', 'surface': 'ぬ'},\n",
       " {'base': '。', 'pos': '記号', 'pos1': '句点', 'surface': '。'},\n",
       " {'base': '何', 'pos': '名詞', 'pos1': '代名詞', 'surface': '何'},\n",
       " {'base': 'でも', 'pos': '助詞', 'pos1': '副助詞', 'surface': 'でも'},\n",
       " {'base': '薄暗い', 'pos': '形容詞', 'pos1': '自立', 'surface': '薄暗い'},\n",
       " {'base': 'じめじめ', 'pos': '副詞', 'pos1': '一般', 'surface': 'じめじめ'},\n",
       " {'base': 'する', 'pos': '動詞', 'pos1': '自立', 'surface': 'し'},\n",
       " {'base': 'た', 'pos': '助動詞', 'pos1': '*', 'surface': 'た'},\n",
       " {'base': '所', 'pos': '名詞', 'pos1': '非自立', 'surface': '所'},\n",
       " {'base': 'で', 'pos': '助詞', 'pos1': '格助詞', 'surface': 'で'},\n",
       " {'base': 'ニャーニャー', 'pos': '副詞', 'pos1': '一般', 'surface': 'ニャーニャー'}]"
      ]
     },
     "execution_count": 11,
     "metadata": {},
     "output_type": "execute_result"
    }
   ],
   "source": [
    "neko[:30]"
   ]
  },
  {
   "cell_type": "code",
   "execution_count": 14,
   "metadata": {
    "collapsed": false
   },
   "outputs": [],
   "source": [
    "# 31\n",
    "ans31 = []\n",
    "for w in neko:\n",
    "    if w['pos'] == '動詞':\n",
    "        ans31.append(w['surface'])\n",
    "with open('ans31.csv','w') as f:\n",
    "    f.write(\"\\n\".join(ans31))"
   ]
  },
  {
   "cell_type": "code",
   "execution_count": 16,
   "metadata": {
    "collapsed": true
   },
   "outputs": [],
   "source": [
    "# 32\n",
    "ans32 = []\n",
    "for w in neko:\n",
    "    if w['pos'] == '動詞':\n",
    "        ans32.append(w['base'])\n",
    "with open('ans32.csv','w') as f:\n",
    "    f.write(\"\\n\".join(ans32))"
   ]
  },
  {
   "cell_type": "code",
   "execution_count": 17,
   "metadata": {
    "collapsed": true
   },
   "outputs": [],
   "source": [
    "# 33\n",
    "ans33 = []\n",
    "for w in neko:\n",
    "    if w['pos1'] == 'サ変接続' and w['pos'] == '名詞':\n",
    "        ans33.append(w['surface'])\n",
    "with open('ans33.csv','w') as f:\n",
    "    f.write(\"\\n\".join(ans33))"
   ]
  },
  {
   "cell_type": "code",
   "execution_count": 27,
   "metadata": {
    "collapsed": false
   },
   "outputs": [],
   "source": [
    "# 34\n",
    "ans34 = []\n",
    "for i in range(len(neko)):\n",
    "    if neko[i]['surface'] == 'の':\n",
    "        if neko[i-1]['pos'] == '名詞' and neko[i+1]['pos'] == '名詞':\n",
    "            BofA = \"\".join(list(map(lambda x:x['surface'], neko[i-1:i+2])))\n",
    "            ans34.append(BofA)\n",
    "with open('ans34.csv','w') as f:\n",
    "    f.write(\"\\n\".join(ans34))"
   ]
  },
  {
   "cell_type": "code",
   "execution_count": null,
   "metadata": {
    "collapsed": true
   },
   "outputs": [],
   "source": []
  }
 ],
 "metadata": {
  "kernelspec": {
   "display_name": "Python 3",
   "language": "python",
   "name": "python3"
  },
  "language_info": {
   "codemirror_mode": {
    "name": "ipython",
    "version": 3
   },
   "file_extension": ".py",
   "mimetype": "text/x-python",
   "name": "python",
   "nbconvert_exporter": "python",
   "pygments_lexer": "ipython3",
   "version": "3.5.0"
  }
 },
 "nbformat": 4,
 "nbformat_minor": 1
}
